{
 "cells": [
  {
   "cell_type": "code",
   "execution_count": 62,
   "metadata": {
    "_cell_guid": "b1076dfc-b9ad-4769-8c92-a6c4dae69d19",
    "_uuid": "8f2839f25d086af736a60e9eeb907d3b93b6e0e5",
    "colab": {
     "base_uri": "https://localhost:8080/"
    },
    "execution": {
     "iopub.execute_input": "2022-11-24T21:12:19.711652Z",
     "iopub.status.busy": "2022-11-24T21:12:19.711129Z",
     "iopub.status.idle": "2022-11-24T21:12:19.741729Z",
     "shell.execute_reply": "2022-11-24T21:12:19.740679Z",
     "shell.execute_reply.started": "2022-11-24T21:12:19.711561Z"
    },
    "executionInfo": {
     "elapsed": 1877,
     "status": "ok",
     "timestamp": 1672468165405,
     "user": {
      "displayName": "Ben Duong",
      "userId": "06092871658342272338"
     },
     "user_tz": 480
    },
    "id": "r4pXRW_SktGM",
    "outputId": "525f1a06-f356-4808-dbb5-d8a02b0577b4"
   },
   "outputs": [
    {
     "name": "stderr",
     "output_type": "stream",
     "text": [
      "[nltk_data] Downloading package stopwords to /root/nltk_data...\n",
      "[nltk_data]   Package stopwords is already up-to-date!\n"
     ]
    },
    {
     "name": "stdout",
     "output_type": "stream",
     "text": [
      "Drive already mounted at /content/drive/; to attempt to forcibly remount, call drive.mount(\"/content/drive/\", force_remount=True).\n"
     ]
    }
   ],
   "source": [
    "import numpy as np # linear algebra\n",
    "import pandas as pd # data processing, CSV file I/O (e.g. pd.read_csv)\n",
    "import matplotlib.pyplot as plt\n",
    "plt.style.use(\"ggplot\")\n",
    "import seaborn as sns\n",
    "\n",
    "import re\n",
    "import pickle\n",
    "import os\n",
    "from collections import defaultdict\n",
    "from tqdm import tqdm\n",
    "from sklearn.feature_extraction.text import TfidfVectorizer\n",
    "from sklearn.feature_extraction.text import CountVectorizer\n",
    "from sklearn.feature_extraction.text import TfidfTransformer\n",
    "from sklearn.pipeline import make_pipeline\n",
    "from sklearn.pipeline import Pipeline\n",
    "\n",
    "import nltk\n",
    "from nltk.corpus import stopwords\n",
    "nltk.download('stopwords')\n",
    "import gensim\n",
    "\n",
    "from google.colab import drive\n",
    "drive.mount('/content/drive/')\n",
    "\n",
    "import sys\n",
    "path_folder = \"/content/drive/MyDrive/dsprojects/dsproject_grev/\" # parent of current src folder\n",
    "sys.path.insert(0, path_folder+\"/src/features/\")\n",
    "import util"
   ]
  },
  {
   "cell_type": "code",
   "execution_count": 63,
   "metadata": {
    "executionInfo": {
     "elapsed": 22,
     "status": "ok",
     "timestamp": 1672468165408,
     "user": {
      "displayName": "Ben Duong",
      "userId": "06092871658342272338"
     },
     "user_tz": 480
    },
    "id": "c_5-FjmPcdLq"
   },
   "outputs": [],
   "source": [
    "# [name, ingredients], or [ingredients]\n",
    "# subsequent filenames\n",
    "vocab_column_names = [\"ingredients\"]+[\"name\"]\n",
    "use_old_recipe = 0\n",
    "valid_vocab_column_names = [\"tags\",\"ingredients\",\"name\",\"steps\",\"description\"]\n",
    "assert all((arg in valid_vocab_column_names) for arg in vocab_column_names)\n",
    "\n",
    "\n",
    "# taco, mojito are not in word2vec(ingredients), so ignore this option\n",
    "#"
   ]
  },
  {
   "cell_type": "code",
   "execution_count": 64,
   "metadata": {
    "executionInfo": {
     "elapsed": 7147,
     "status": "ok",
     "timestamp": 1672468172538,
     "user": {
      "displayName": "Ben Duong",
      "userId": "06092871658342272338"
     },
     "user_tz": 480
    },
    "id": "DdcMyeacVyy6"
   },
   "outputs": [],
   "source": [
    "#file_name_tfidf = \"recipe_tfidf.pkl\"\n",
    "#file_name_word2vec = \"recipe_word2vec.pkl\"\n",
    "#file_name_tfidf = \"ingredients_tfidf.pkl\"\n",
    "#file_name_word2vec = \"ingredients_word2vec.pkl\"\n",
    "file_name_tfidf = \"tfidf_\"+(\"_\".join(vocab_column_names))+\".pkl\"\n",
    "file_name_word2vec = \"word2vec_\"+(\"_\".join(vocab_column_names))+\".pkl\"\n",
    "\n",
    "path_folder_data = os.path.join(path_folder,\"data\")\n",
    "path_data_raw_recipes =  os.path.join(path_folder_data,\"raw\",\"RAW_recipes.csv\")\n",
    "raw_recipes_df = pd.read_csv(path_data_raw_recipes)\n",
    "path_output_tfidf = os.path.join(path_folder_data, \"temp\", file_name_tfidf)\n",
    "path_output_word2vec = os.path.join(path_folder_data, \"temp\", file_name_word2vec)"
   ]
  },
  {
   "cell_type": "code",
   "execution_count": 65,
   "metadata": {
    "executionInfo": {
     "elapsed": 29,
     "status": "ok",
     "timestamp": 1672468172541,
     "user": {
      "displayName": "Ben Duong",
      "userId": "06092871658342272338"
     },
     "user_tz": 480
    },
    "id": "zgRl786BaGej"
   },
   "outputs": [],
   "source": [
    "# vectorizer method, stopwords, max_df\n",
    "# liststr_columns\n",
    "class Temp_Recipe_Vectorizer_Builder:\n",
    "    def __init__(self, vectorizer, food_vocab_column):\n",
    "        self.vectorizer = (vectorizer)\n",
    "        food_vocab_vectorizer = vectorizer.fit(food_vocab_column)\n",
    "\n",
    "        self.fitted_vectorizer = food_vocab_vectorizer\n",
    "\n",
    "        food_vocab_vectorized = vectorizer.transform(food_vocab_column)\n",
    "\n",
    "        self.vectorized_matrix = food_vocab_vectorized.tocsc()\n",
    "        if type(vectorizer) == Pipeline:\n",
    "            self.vocab2idx = self.fitted_vectorizer.named_steps[\"count\"].vocabulary_\n",
    "        else:\n",
    "            self.vocab2idx = self.fitted_vectorizer.vocabulary_\n",
    "        self.idx2vocab = dict((v, k) for k, v in self.vocab2idx.items())\n",
    "    def get_top_n_features_by_colwise_aggfunc(self, func, n=1000, as_words=True):\n",
    "        result = np.array(func(self.vectorized_matrix, axis=0))[0].argsort()[-n:]\n",
    "        if as_words:\n",
    "            result = [self.idx2vocab[i] for i in result]\n",
    "        return result"
   ]
  },
  {
   "cell_type": "code",
   "execution_count": 66,
   "metadata": {
    "executionInfo": {
     "elapsed": 24,
     "status": "ok",
     "timestamp": 1672468172543,
     "user": {
      "displayName": "Ben Duong",
      "userId": "06092871658342272338"
     },
     "user_tz": 480
    },
    "id": "o5AlUGurWg4s"
   },
   "outputs": [],
   "source": [
    "def get_liststr_columns(raw_recipes_df, column_names=[\"ingredients\",\"name\"]):\n",
    "    liststr_columns_list = []\n",
    "    if \"tags\" in column_names:\n",
    "        cleaned_tag_column = util.dataclean_strliststr_to_liststr(raw_recipes_df[\"tags\"])\n",
    "        liststr_columns_list.append(cleaned_tag_column)\n",
    "    if \"ingredients\" in column_names:\n",
    "        cleaned_ingredients_column = util.dataclean_strliststr_to_liststr(raw_recipes_df[\"ingredients\"])\n",
    "        liststr_columns_list.append(cleaned_ingredients_column)\n",
    "    if \"name\" in column_names:\n",
    "        cleaned_name_column = util.dataclean_everygram_str_to_liststr(raw_recipes_df[\"name\"],2)\n",
    "        liststr_columns_list.append(cleaned_name_column)\n",
    "    if \"steps\" in column_names:\n",
    "        cleaned_steps_column = util.dataclean_strliststr_to_liststr(raw_recipes_df[\"name\"])\n",
    "        liststr_columns_list.append(cleaned_steps_column)\n",
    "    if \"description\" in column_names:\n",
    "        cleaned_description_column = util.dataclean_everygram_str_to_liststr(raw_recipes_df[\"name\"],2)\n",
    "        liststr_columns_list.append(cleaned_description_column)\n",
    "    liststr_columns = util.dataclean_join_liststr_columns(liststr_columns_list)\n",
    "    return liststr_columns\n",
    "def build_food_vocab_vectorizer(raw_recipes_df, vocab_column_names):\n",
    "    liststr_columns = get_liststr_columns(raw_recipes_df, vocab_column_names)\n",
    "    stop_words = stopwords.words(\"english\")\n",
    "    food_vocab_column = (liststr_columns).apply(lambda x: \" \".join(x))\n",
    "    vectorizer = Pipeline(steps=[('count', CountVectorizer(stop_words=stop_words)), ('tfidf', TfidfTransformer())])\n",
    "    recipe_vectorizer_builder = Temp_Recipe_Vectorizer_Builder(vectorizer, food_vocab_column)\n",
    "    return recipe_vectorizer_builder"
   ]
  },
  {
   "cell_type": "code",
   "execution_count": 67,
   "metadata": {
    "executionInfo": {
     "elapsed": 15019,
     "status": "ok",
     "timestamp": 1672468187541,
     "user": {
      "displayName": "Ben Duong",
      "userId": "06092871658342272338"
     },
     "user_tz": 480
    },
    "id": "lGn6YFOD-hPb"
   },
   "outputs": [],
   "source": [
    "food_vocab_vectorizer = build_food_vocab_vectorizer(raw_recipes_df, vocab_column_names)"
   ]
  },
  {
   "cell_type": "code",
   "execution_count": 70,
   "metadata": {
    "colab": {
     "base_uri": "https://localhost:8080/"
    },
    "executionInfo": {
     "elapsed": 227,
     "status": "ok",
     "timestamp": 1672468254702,
     "user": {
      "displayName": "Ben Duong",
      "userId": "06092871658342272338"
     },
     "user_tz": 480
    },
    "id": "1Je9csVJ3wX7",
    "outputId": "3e7845ef-bab7-4be9-ebf2-60164b3bb1e9"
   },
   "outputs": [
    {
     "name": "stdout",
     "output_type": "stream",
     "text": [
      "True\n",
      "False\n",
      "True\n",
      "True\n",
      "True\n",
      "False\n"
     ]
    }
   ],
   "source": [
    "for word in [\"mojito\",\"egg\", \"taco\"]:\n",
    "    print(word in food_vocab_vectorizer.vocab2idx)\n",
    "    print(word+\"s\" in food_vocab_vectorizer.vocab2idx)"
   ]
  },
  {
   "cell_type": "code",
   "execution_count": 71,
   "metadata": {
    "executionInfo": {
     "elapsed": 22270,
     "status": "ok",
     "timestamp": 1672468289399,
     "user": {
      "displayName": "Ben Duong",
      "userId": "06092871658342272338"
     },
     "user_tz": 480
    },
    "id": "StT6kS_L-xFV"
   },
   "outputs": [],
   "source": [
    "liststr_columns = get_liststr_columns(raw_recipes_df, vocab_column_names)\n",
    "word2vec_model = util.dataclean_word2vec(liststr_columns)"
   ]
  },
  {
   "cell_type": "code",
   "execution_count": 72,
   "metadata": {
    "colab": {
     "base_uri": "https://localhost:8080/"
    },
    "executionInfo": {
     "elapsed": 192,
     "status": "ok",
     "timestamp": 1672468299882,
     "user": {
      "displayName": "Ben Duong",
      "userId": "06092871658342272338"
     },
     "user_tz": 480
    },
    "id": "68qw_GEEpeqN",
    "outputId": "15d253c5-1ff1-4f57-e264-fdd65e8debd9"
   },
   "outputs": [
    {
     "name": "stdout",
     "output_type": "stream",
     "text": [
      "False\n",
      "False\n",
      "True\n",
      "True\n",
      "False\n",
      "False\n"
     ]
    }
   ],
   "source": [
    "for word in [\"mojito\",\"egg\", \"taco\"]:\n",
    "    print(word in word2vec_model.wv)\n",
    "    print(word+\"s\" in word2vec_model.wv)"
   ]
  },
  {
   "cell_type": "code",
   "execution_count": 57,
   "metadata": {
    "colab": {
     "base_uri": "https://localhost:8080/",
     "height": 282
    },
    "executionInfo": {
     "elapsed": 477,
     "status": "ok",
     "timestamp": 1672465236258,
     "user": {
      "displayName": "Ben Duong",
      "userId": "06092871658342272338"
     },
     "user_tz": 480
    },
    "id": "vmr1HroxEnsa",
    "outputId": "1403e07f-5494-4339-b4d2-15dd148dfcc9"
   },
   "outputs": [
    {
     "data": {
      "image/png": "[encoded data removed]",
      "text/plain": [
       "<Figure size 432x288 with 1 Axes>"
      ]
     },
     "metadata": {},
     "output_type": "display_data"
    }
   ],
   "source": [
    "(util.word2vec_arithmetic(word2vec_model, \"india\",\"naan\",\"arabic\" ))"
   ]
  },
  {
   "cell_type": "code",
   "execution_count": 58,
   "metadata": {
    "colab": {
     "base_uri": "https://localhost:8080/",
     "height": 282
    },
    "execution": {
     "iopub.execute_input": "2022-11-24T21:23:10.566119Z",
     "iopub.status.busy": "2022-11-24T21:23:10.565730Z",
     "iopub.status.idle": "2022-11-24T21:23:10.605907Z",
     "shell.execute_reply": "2022-11-24T21:23:10.604302Z",
     "shell.execute_reply.started": "2022-11-24T21:23:10.566089Z"
    },
    "executionInfo": {
     "elapsed": 538,
     "status": "ok",
     "timestamp": 1672465239773,
     "user": {
      "displayName": "Ben Duong",
      "userId": "06092871658342272338"
     },
     "user_tz": 480
    },
    "id": "oAizaF54ktHJ",
    "outputId": "3d2a3ad4-6c93-42f5-ddde-e0098d789c8d"
   },
   "outputs": [
    {
     "data": {
      "image/png": "[encoded data removed]",
      "text/plain": [
       "<Figure size 432x288 with 1 Axes>"
      ]
     },
     "metadata": {},
     "output_type": "display_data"
    }
   ],
   "source": [
    "util.word2vec_arithmetic(word2vec_model, \"july 4th\", \"barbeque\", \"thanksgiving\" )"
   ]
  },
  {
   "cell_type": "code",
   "execution_count": 59,
   "metadata": {
    "executionInfo": {
     "elapsed": 184,
     "status": "ok",
     "timestamp": 1672465266124,
     "user": {
      "displayName": "Ben Duong",
      "userId": "06092871658342272338"
     },
     "user_tz": 480
    },
    "id": "cAJb_GvSnyhs"
   },
   "outputs": [],
   "source": [
    "first_time = True"
   ]
  },
  {
   "cell_type": "code",
   "execution_count": 61,
   "metadata": {
    "colab": {
     "base_uri": "https://localhost:8080/"
    },
    "executionInfo": {
     "elapsed": 5043,
     "status": "ok",
     "timestamp": 1672465314392,
     "user": {
      "displayName": "Ben Duong",
      "userId": "06092871658342272338"
     },
     "user_tz": 480
    },
    "id": "Dkzq3_pkOvAJ",
    "outputId": "9467d8e3-7bec-4514-815e-ae9e1a2bc503"
   },
   "outputs": [
    {
     "name": "stdout",
     "output_type": "stream",
     "text": [
      "write\n",
      "write\n"
     ]
    }
   ],
   "source": [
    "if first_time:\n",
    "    print(\"write\")\n",
    "    with open(path_output_tfidf, \"wb\") as f:\n",
    "        pickle.dump(food_vocab_vectorizer, f)\n",
    "        f.close()\n",
    "else:\n",
    "    print(\"read\")\n",
    "    with open(path_output_tfidf, \"rb\") as f:\n",
    "        food_vocab_vectorizer = pickle.load(f)\n",
    "        f.close()\n",
    "if first_time:\n",
    "    print(\"write\")\n",
    "    #liststr_columns = get_liststr_columns(raw_recipes_df, vocab_column_names)\n",
    "    #word2vec_model = util.dataclean_word2vec(liststr_columns)\n",
    "    with open(path_output_word2vec, \"wb\") as f:\n",
    "        pickle.dump(word2vec_model, f)\n",
    "        f.close()\n",
    "else:\n",
    "    print(\"read\")\n",
    "    with open(path_output_word2vec, \"rb\") as f:\n",
    "        word2vec_model = pickle.load(f)\n",
    "        f.close()\n",
    "if use_old_recipe:\n",
    "    with open(os.path.join(path_folder_data, \"temp\", \"recipe_word2vec\"), \"rb\") as f:\n",
    "        word2vec_model = pickle.load(f)\n",
    "        f.close()"
   ]
  },
  {
   "cell_type": "code",
   "execution_count": null,
   "metadata": {
    "id": "tK7YyNEls0rL"
   },
   "outputs": [],
   "source": []
  }
 ],
 "metadata": {
  "colab": {
   "provenance": []
  },
  "kernelspec": {
   "display_name": "Python 3",
   "language": "python",
   "name": "python3"
  },
  "language_info": {
   "codemirror_mode": {
    "name": "ipython",
    "version": 3
   },
   "file_extension": ".py",
   "mimetype": "text/x-python",
   "name": "python",
   "nbconvert_exporter": "python",
   "pygments_lexer": "ipython3",
   "version": "3.7.4"
  }
 },
 "nbformat": 4,
 "nbformat_minor": 1
}
