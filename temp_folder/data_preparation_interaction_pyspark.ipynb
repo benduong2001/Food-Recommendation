{
 "cells": [
  {
   "cell_type": "code",
   "execution_count": 1,
   "metadata": {
    "id": "jCTtxTZ2SBGN"
   },
   "outputs": [],
   "source": [
    "# filtered or not\n",
    "# word2vec choice\n",
    "# with images or not.\n",
    "# pca\n",
    "\n",
    "\n",
    "# main function is f(user, business)\n",
    "# user2avgVec # inclusive of current business\n",
    "# user2avgHistVec # exclusive of current business\n",
    "# business2avgVec # inclusive of current user\n",
    "# business2avgHistVec # exclusive of current user\n",
    "\n",
    "# with or without t filtered json?\n",
    "# with or without currents?\n",
    "# with or without pics?"
   ]
  },
  {
   "cell_type": "code",
   "execution_count": 2,
   "metadata": {
    "id": "uqhtH5L27Ufq"
   },
   "outputs": [],
   "source": [
    "from sklearn.model_selection import train_test_split\n",
    "from sklearn.decomposition import PCA\n",
    "import tensorflow as tf\n",
    "from tensorflow.keras.models import Sequential\n",
    "from tensorflow.keras.layers import Dense\n",
    "\n",
    "from sklearn.metrics import confusion_matrix\n",
    "import seaborn as sns"
   ]
  },
  {
   "cell_type": "code",
   "execution_count": 3,
   "metadata": {
    "colab": {
     "base_uri": "https://localhost:8080/"
    },
    "id": "XBpZE7xbVj4H",
    "outputId": "da06c17a-ae56-4651-9e1d-7095d4ca76f7"
   },
   "outputs": [
    {
     "name": "stderr",
     "output_type": "stream",
     "text": [
      "[nltk_data] Downloading package stopwords to\n",
      "[nltk_data]     C:\\Users\\Benson\\AppData\\Roaming\\nltk_data...\n",
      "[nltk_data]   Package stopwords is already up-to-date!\n",
      "[nltk_data] Downloading package stopwords to\n",
      "[nltk_data]     C:\\Users\\Benson\\AppData\\Roaming\\nltk_data...\n",
      "[nltk_data]   Package stopwords is already up-to-date!\n"
     ]
    }
   ],
   "source": [
    "import pandas as pd\n",
    "import numpy as np\n",
    "import matplotlib.pyplot as plt\n",
    "plt.style.use(\"ggplot\")\n",
    "\n",
    "import os\n",
    "from collections import defaultdict\n",
    "from bs4 import BeautifulSoup  \n",
    "import requests\n",
    "import zipfile\n",
    "import io\n",
    "import nltk\n",
    "from nltk.corpus import stopwords\n",
    "#from nltk.stem.porter import PorterStemmer\n",
    "#from nltk.tokenize import word_tokenize\n",
    "nltk.download('stopwords')\n",
    "\n",
    "#import geopandas as gpd|\n",
    "#import shapely\n",
    "import gensim\n",
    "import tqdm\n",
    "import tensorflow as tf\n",
    "import keras\n",
    "\n",
    "from sklearn.decomposition import PCA\n",
    "from sklearn.manifold import TSNE\n",
    "from sklearn.manifold import SpectralEmbedding\n",
    "\n",
    "# Load the Drive helper and mount\n",
    "#from google.colab import drive\n",
    "#mounted_path_folder = '/content/drive'\n",
    "#drive.mount(mounted_path_folder, force_remount=True)\n",
    "\n",
    "import sys\n",
    "path_folder = \"/content/drive/MyDrive/dsprojects/dsproject_grev/\" # parent of current src folder\n",
    "path_folder = (os.path.abspath(os.path.join((os.path.abspath(os.path.join(os.getcwd(), os.pardir))),os.pardir)))\n",
    "sys.path.insert(0, path_folder+\"/src/features/\")\n",
    "import util\n",
    "\n",
    "from word2vec_recipe import *\n"
   ]
  },
  {
   "cell_type": "code",
   "execution_count": 4,
   "metadata": {
    "id": "dPbQuclh6CoL"
   },
   "outputs": [],
   "source": [
    "from keras.applications.vgg16 import VGG16\n",
    "#vggnet_model = VGG16()\n",
    "url_header_pics = \"https://lh5.googleusercontent.com/p/\"\n",
    "from keras.applications.vgg16 import preprocess_input\n",
    "from keras.applications.vgg16 import decode_predictions\n",
    "\n",
    "from PIL import Image\n",
    "import requests\n",
    "from io import BytesIO\n",
    "\n",
    "path_file_name = os.path.join(path_folder, \"data\", \"temp\",\"business_user2picVec.pkl\")\n",
    "\n",
    "import string\n",
    "\n",
    "stop_words = stopwords.words('english')"
   ]
  },
  {
   "cell_type": "code",
   "execution_count": 5,
   "metadata": {},
   "outputs": [],
   "source": [
    "import warnings\n",
    "warnings.filterwarnings(\"ignore\")"
   ]
  },
  {
   "cell_type": "code",
   "execution_count": 6,
   "metadata": {
    "id": "Z99RCySZpcOk"
   },
   "outputs": [],
   "source": [
    "import tqdm"
   ]
  },
  {
   "cell_type": "code",
   "execution_count": 7,
   "metadata": {
    "id": "RpsUrxU9zRUd"
   },
   "outputs": [],
   "source": [
    "path_folder = \"/content/drive/MyDrive/dsprojects/dsproject_grev/\" # parent of current src folder\n",
    "path_folder = (os.path.abspath(os.path.join((os.path.abspath(os.path.join(os.getcwd(), os.pardir))),os.pardir)))\n"
   ]
  },
  {
   "cell_type": "code",
   "execution_count": 8,
   "metadata": {
    "id": "O2e9fEv-bbJU"
   },
   "outputs": [],
   "source": [
    "import pickle\n",
    "\n",
    "vocab_column_names = [\"ingredients\"]+[\"name\"]\n",
    "file_name_word2vec = \"word2vec_\"+(\"_\".join(vocab_column_names))+\".pkl\"\n",
    "path_file_word2vec = os.path.join(path_folder, \"data\",\"temp\",file_name_word2vec)\n",
    "with open(path_file_word2vec, \"rb\") as f:\n",
    "    recipe_word2vec = pickle.load(f)\n",
    "\n",
    "vocab_column_names = [\"ingredients\"]#+[\"name\"]\n",
    "file_name_tfidf = \"tfidf_\"+(\"_\".join(vocab_column_names))+\".pkl\"\n",
    "path_file_tfidf = os.path.join(path_folder, \"data\",\"temp\",file_name_tfidf)\n",
    "with open(path_file_tfidf, \"rb\") as f:\n",
    "    recipe_tfidf = pickle.load(f)\n",
    "\n",
    "DATASET_VERSION = [\"FULL\", \"FILTER\"][0]  \n",
    "DROP_ONE_TIME_APPEARANCES = True\n",
    "DROP_SEPARATED_ONE_TIME_APPEARANCES = False\n",
    "USING_PICS = False\n",
    "\n",
    "if DATASET_VERSION == \"FILTER\":\n",
    "    path_folder_data = os.path.join(path_folder,\"data\",\"raw\",\"filter_all_t.json\")\n",
    "else:\n",
    "    path_folder_data = os.path.join(path_folder,\"data\",\"raw\",\"image_review_all.json\")"
   ]
  },
  {
   "cell_type": "code",
   "execution_count": 9,
   "metadata": {
    "colab": {
     "base_uri": "https://localhost:8080/"
    },
    "id": "KhoNkz6WoTSz",
    "outputId": "89cb949d-94dc-41bb-d2f5-46dceda0ee72"
   },
   "outputs": [
    {
     "name": "stderr",
     "output_type": "stream",
     "text": [
      "1487747it [01:32, 16117.05it/s]\n"
     ]
    }
   ],
   "source": [
    "data = []\n",
    "with open(path_folder_data) as f:\n",
    "    for line in tqdm.tqdm(f):\n",
    "        data.append(eval(line))\n",
    "    f.close()"
   ]
  },
  {
   "cell_type": "code",
   "execution_count": 10,
   "metadata": {
    "id": "HwfOa9KNrKmM"
   },
   "outputs": [],
   "source": [
    "# Filter or Full\n",
    "# Pics or no Pics\n",
    "# Drop one-time-appearing business_ids/user_ids: (seperately, or conjoined?) (for example, the business_id is 1-time, but the user_id has already appeared many times before)"
   ]
  },
  {
   "cell_type": "code",
   "execution_count": 11,
   "metadata": {
    "colab": {
     "base_uri": "https://localhost:8080/"
    },
    "id": "y-n8LViKYtFv",
    "outputId": "361ad05f-62e1-4cba-8677-255be13f2265"
   },
   "outputs": [
    {
     "name": "stderr",
     "output_type": "stream",
     "text": [
      "100%|████████████████████████████████████████████████████████████████████| 1487747/1487747 [00:03<00:00, 440107.62it/s]\n"
     ]
    }
   ],
   "source": [
    "if DATASET_VERSION == \"FILTER\":\n",
    "    train_reviews = (data[0][\"train\"])\n",
    "    test_reviews = (data[0][\"test\"])\n",
    "else:\n",
    "    train_reviews = data\n",
    "# 3 tables:\n",
    "# 1 for business_id, user_id, review_text, rating\n",
    "# 1 for pics: business_id, user_id, pic\n",
    "# 1 for external history review: business_id, user_id, review_text\n",
    "\n",
    "#reviews_df = pd.DataFrame(data=None, columns=[\"business_id\",\"user_id\",\"rating\",\"review_text\"])\n",
    "#history_reviews_df = pd.DataFrame(data=None, columns=[\"business_id\",\"user_id\",\"review_text\"])\n",
    "#pics_df = pd.DataFrame(data=None, columns=[\"business_id\",\"user_id\",\"pics\"])\n",
    "\n",
    "reviews_df_business_id_column_list = []\n",
    "reviews_df_user_id_column_list = []\n",
    "reviews_df_rating_column_list = []\n",
    "reviews_df_review_text_column_list = []\n",
    "\n",
    "history_reviews_df_business_id_column_list = []\n",
    "history_reviews_df_user_id_column_list = []\n",
    "history_reviews_df_review_text_column_list = []\n",
    "\n",
    "pics_df_business_id_column_list = []\n",
    "pics_df_user_id_column_list = []\n",
    "pics_df_pics_column_list = []\n",
    "\n",
    "\n",
    "for review in tqdm.tqdm(train_reviews):\n",
    "    temp_business_id = None\n",
    "    temp_user_id = None\n",
    "    temp_rating = None\n",
    "    temp_review_text = None\n",
    "    temp_pics = None\n",
    "    temp_history_reviews = None\n",
    "\n",
    "    if \"business_id\" in review:\n",
    "        temp_business_id = review[\"business_id\"]\n",
    "    if \"user_id\" in review:\n",
    "        temp_user_id = review[\"user_id\"]\n",
    "    if \"rating\" in review:\n",
    "        temp_rating = review[\"rating\"]\n",
    "    if \"review_text\" in review:\n",
    "        temp_review_text = review[\"review_text\"]\n",
    "    if \"pics\" in review:\n",
    "        temp_pics = review[\"pics\"]\n",
    "        if DATASET_VERSION == \"FULL\":\n",
    "             temp_pics = [x[\"id\"] for x in (temp_pics)]\n",
    "    if \"history_reviews\" in review:\n",
    "        temp_history_reviews = review[\"history_reviews\"]\n",
    "    \n",
    "    reviews_df_business_id_column_list.append(temp_business_id)\n",
    "    reviews_df_user_id_column_list.append(temp_user_id)\n",
    "    reviews_df_rating_column_list.append(temp_rating)\n",
    "    reviews_df_review_text_column_list.append(temp_review_text)\n",
    "\n",
    "    if USING_PICS == True:\n",
    "        if (temp_pics is None)==False:\n",
    "            temp_pics_len = len(temp_pics)\n",
    "            pics_df_business_id_column_list.extend([temp_business_id for _ in range(temp_pics_len)])\n",
    "            pics_df_user_id_column_list.extend([temp_user_id for _ in range(temp_pics_len)])\n",
    "            pics_df_pics_column_list.extend(temp_pics)\n",
    "\n",
    "    #if (temp_history_reviews is None)==False:\n",
    "    #    temp_history_reviews_len = len(temp_history_reviews)\n",
    "    #    history_reviews_df_business_id_column_list.extend([x[0].split(\"_\")[1] for x in temp_history_reviews])\n",
    "    #    history_reviews_df_user_id_column_list.extend([temp_user_id for _ in range(temp_history_reviews_len)])\n",
    "    #    history_reviews_df_review_text_column_list.extend([x[1] for x in temp_history_reviews])\n",
    "\n",
    "\n",
    "reviews_df = pd.DataFrame()\n",
    "reviews_df[\"business_id\"] = reviews_df_business_id_column_list\n",
    "reviews_df[\"user_id\"] = reviews_df_user_id_column_list\n",
    "reviews_df[\"rating\"] = reviews_df_rating_column_list\n",
    "reviews_df[\"review_text\"] = reviews_df_review_text_column_list\n",
    "\n",
    "#history_reviews_df = pd.DataFrame()\n",
    "#history_reviews_df[\"business_id\"] = history_reviews_df_business_id_column_list\n",
    "#history_reviews_df[\"user_id\"] = history_reviews_df_user_id_column_list\n",
    "#history_reviews_df[\"review_text\"] = history_reviews_df_review_text_column_list\n",
    "if USING_PICS == True:\n",
    "    pics_df = pd.DataFrame()\n",
    "    pics_df[\"business_id\"] = pics_df_business_id_column_list\n",
    "    pics_df[\"user_id\"] = pics_df_user_id_column_list\n",
    "    pics_df[\"pics\"] = pics_df_pics_column_list\n"
   ]
  },
  {
   "cell_type": "code",
   "execution_count": 12,
   "metadata": {
    "id": "CY6DUPUIy6ZG"
   },
   "outputs": [],
   "source": [
    "from sklearn.preprocessing import LabelEncoder\n",
    "\n",
    "business_id_label_encoder = LabelEncoder()\n",
    "user_id_label_encoder = LabelEncoder()\n",
    "\n",
    "business_id_label_encoder.fit(reviews_df[\"business_id\"])\n",
    "user_id_label_encoder.fit(reviews_df[\"user_id\"])\n",
    "\n",
    "reviews_df[\"business_id\"] = business_id_label_encoder.transform(reviews_df[\"business_id\"])\n",
    "reviews_df[\"user_id\"] = user_id_label_encoder.transform(reviews_df[\"user_id\"])"
   ]
  },
  {
   "cell_type": "code",
   "execution_count": 13,
   "metadata": {},
   "outputs": [],
   "source": [
    "vocab = [word for word in recipe_word2vec.wv.vocab\n",
    "         if ((word in recipe_tfidf.vocab2idx) and (word not in stop_words))\n",
    "        ]\n",
    "vecs = [recipe_word2vec.wv[word] for word in vocab]\n",
    "vecs_arr = np.array(vecs)\n",
    "\n",
    "word2vec_df = pd.DataFrame()\n",
    "word2vec_df[\"review_text\"] = vocab\n",
    "#word2vec_df[\"vec\"] = vecs\n",
    "vec_column_names = [\"v{0}\".format(i) for i in range(vecs_arr.shape[1])]\n",
    "for i in range(len(vec_column_names)):\n",
    "    vec_column_name = vec_column_names[i]\n",
    "    word2vec_df[vec_column_name] = vecs_arr[:, i]"
   ]
  },
  {
   "cell_type": "code",
   "execution_count": 14,
   "metadata": {},
   "outputs": [],
   "source": [
    "non_alphanumeric = string.punctuation\n",
    "\n",
    "stop_words = stopwords.words(\"english\")\n",
    "recipe_word2vec_lexicon = recipe_word2vec.wv.vocab\n",
    "recipe_tfidf_lexicon = list(recipe_tfidf.vocab2idx.keys())"
   ]
  },
  {
   "cell_type": "code",
   "execution_count": null,
   "metadata": {},
   "outputs": [],
   "source": [
    "reviews_df.to_csv(\"reviews.csv\",index=False,  encoding='utf-32')"
   ]
  },
  {
   "cell_type": "code",
   "execution_count": 18,
   "metadata": {},
   "outputs": [],
   "source": [
    "# pretend the filt was stacked with train test and pics words added already"
   ]
  },
  {
   "cell_type": "code",
   "execution_count": 33,
   "metadata": {},
   "outputs": [
    {
     "data": {
      "text/html": [
       "<div>\n",
       "<style scoped>\n",
       "    .dataframe tbody tr th:only-of-type {\n",
       "        vertical-align: middle;\n",
       "    }\n",
       "\n",
       "    .dataframe tbody tr th {\n",
       "        vertical-align: top;\n",
       "    }\n",
       "\n",
       "    .dataframe thead th {\n",
       "        text-align: right;\n",
       "    }\n",
       "</style>\n",
       "<table border=\"1\" class=\"dataframe\">\n",
       "  <thead>\n",
       "    <tr style=\"text-align: right;\">\n",
       "      <th></th>\n",
       "      <th>business_id</th>\n",
       "      <th>user_id</th>\n",
       "      <th>rating</th>\n",
       "      <th>review_text</th>\n",
       "    </tr>\n",
       "  </thead>\n",
       "  <tbody>\n",
       "    <tr>\n",
       "      <th>0</th>\n",
       "      <td>64526</td>\n",
       "      <td>655093</td>\n",
       "      <td>4</td>\n",
       "      <td>We came for a birthday brunch and this place i...</td>\n",
       "    </tr>\n",
       "    <tr>\n",
       "      <th>1</th>\n",
       "      <td>64526</td>\n",
       "      <td>7725</td>\n",
       "      <td>5</td>\n",
       "      <td>Cool place to hang out, have drinks.  There is...</td>\n",
       "    </tr>\n",
       "    <tr>\n",
       "      <th>2</th>\n",
       "      <td>64526</td>\n",
       "      <td>636015</td>\n",
       "      <td>2</td>\n",
       "      <td>This place doesn’t rock the senses when it com...</td>\n",
       "    </tr>\n",
       "    <tr>\n",
       "      <th>3</th>\n",
       "      <td>64526</td>\n",
       "      <td>530475</td>\n",
       "      <td>3</td>\n",
       "      <td>Pretty cool place to hang out with friends and...</td>\n",
       "    </tr>\n",
       "    <tr>\n",
       "      <th>4</th>\n",
       "      <td>64526</td>\n",
       "      <td>201693</td>\n",
       "      <td>5</td>\n",
       "      <td>We saw this place the other day when we had re...</td>\n",
       "    </tr>\n",
       "    <tr>\n",
       "      <th>...</th>\n",
       "      <td>...</td>\n",
       "      <td>...</td>\n",
       "      <td>...</td>\n",
       "      <td>...</td>\n",
       "    </tr>\n",
       "    <tr>\n",
       "      <th>1487742</th>\n",
       "      <td>0</td>\n",
       "      <td>366969</td>\n",
       "      <td>5</td>\n",
       "      <td>Ordered the Chicken Tikka Masala and Chicken K...</td>\n",
       "    </tr>\n",
       "    <tr>\n",
       "      <th>1487743</th>\n",
       "      <td>0</td>\n",
       "      <td>109700</td>\n",
       "      <td>5</td>\n",
       "      <td>Great shrimp tikka masala. A little too much r...</td>\n",
       "    </tr>\n",
       "    <tr>\n",
       "      <th>1487744</th>\n",
       "      <td>0</td>\n",
       "      <td>735645</td>\n",
       "      <td>4</td>\n",
       "      <td>Good food, great portions. The chicken I order...</td>\n",
       "    </tr>\n",
       "    <tr>\n",
       "      <th>1487745</th>\n",
       "      <td>0</td>\n",
       "      <td>62213</td>\n",
       "      <td>4</td>\n",
       "      <td>Amazing is really good you guys should try it ...</td>\n",
       "    </tr>\n",
       "    <tr>\n",
       "      <th>1487746</th>\n",
       "      <td>0</td>\n",
       "      <td>757042</td>\n",
       "      <td>5</td>\n",
       "      <td>(Translated by Google) Excellent food, fair pr...</td>\n",
       "    </tr>\n",
       "  </tbody>\n",
       "</table>\n",
       "<p>1487747 rows × 4 columns</p>\n",
       "</div>"
      ],
      "text/plain": [
       "         business_id  user_id  rating  \\\n",
       "0              64526   655093       4   \n",
       "1              64526     7725       5   \n",
       "2              64526   636015       2   \n",
       "3              64526   530475       3   \n",
       "4              64526   201693       5   \n",
       "...              ...      ...     ...   \n",
       "1487742            0   366969       5   \n",
       "1487743            0   109700       5   \n",
       "1487744            0   735645       4   \n",
       "1487745            0    62213       4   \n",
       "1487746            0   757042       5   \n",
       "\n",
       "                                               review_text  \n",
       "0        We came for a birthday brunch and this place i...  \n",
       "1        Cool place to hang out, have drinks.  There is...  \n",
       "2        This place doesn’t rock the senses when it com...  \n",
       "3        Pretty cool place to hang out with friends and...  \n",
       "4        We saw this place the other day when we had re...  \n",
       "...                                                    ...  \n",
       "1487742  Ordered the Chicken Tikka Masala and Chicken K...  \n",
       "1487743  Great shrimp tikka masala. A little too much r...  \n",
       "1487744  Good food, great portions. The chicken I order...  \n",
       "1487745  Amazing is really good you guys should try it ...  \n",
       "1487746  (Translated by Google) Excellent food, fair pr...  \n",
       "\n",
       "[1487747 rows x 4 columns]"
      ]
     },
     "execution_count": 33,
     "metadata": {},
     "output_type": "execute_result"
    }
   ],
   "source": [
    "reviews_df"
   ]
  },
  {
   "cell_type": "markdown",
   "metadata": {},
   "source": [
    "## **Pyspark**"
   ]
  },
  {
   "cell_type": "code",
   "execution_count": 19,
   "metadata": {},
   "outputs": [],
   "source": [
    "import findspark\n",
    "import pyspark\n",
    "import pyspark.sql.functions as F\n",
    "import pyspark.sql.types as T\n",
    "import pyspark.ml as M\n",
    "from pyspark.sql.window import Window\n",
    "from pyspark.sql import SparkSession"
   ]
  },
  {
   "cell_type": "code",
   "execution_count": 20,
   "metadata": {},
   "outputs": [],
   "source": [
    "findspark.init()\n",
    "#spark = SparkSession.builder.getOrCreate()\n",
    "\n",
    "spark = SparkSession.builder \\\n",
    "    .master('local[*]') \\\n",
    "    .config(\"spark.driver.memory\", \"3g\") \\\n",
    "    .appName('food_rec') \\\n",
    "    .getOrCreate()"
   ]
  },
  {
   "cell_type": "code",
   "execution_count": 21,
   "metadata": {},
   "outputs": [],
   "source": [
    "# https://csyhuang.github.io/2020/09/17/split-vector-to-columns/\n",
    "# https://stackoverflow.com/questions/47874037/convert-pyspark-dataframe-column-from-array-to-new-columns"
   ]
  },
  {
   "cell_type": "code",
   "execution_count": 30,
   "metadata": {
    "scrolled": true
   },
   "outputs": [],
   "source": [
    "reviews_df[\"review_text\"].fillna(\"_\",inplace=True)"
   ]
  },
  {
   "cell_type": "code",
   "execution_count": null,
   "metadata": {},
   "outputs": [],
   "source": [
    "schema = T.StructType([\n",
    "    T.StructField(\"business_id\", T.IntegerType(), True),\n",
    "    T.StructField(\"user_id\", T.IntegerType(), True),\n",
    "    T.StructField(\"rating\", T.IntegerType(), True),\n",
    "    T.StructField(\"review_text\", T.StringType(), True)]\n",
    ")\n",
    "reviews_df = spark.createDataFrame(reviews_df, schema)"
   ]
  },
  {
   "cell_type": "code",
   "execution_count": null,
   "metadata": {},
   "outputs": [],
   "source": [
    "schema = T.StructType([\n",
    "    T.StructField(\"review_text\", T.StringType(), True)\n",
    "]+[T.StructField(c, T.DoubleType(), True) for c in vec_column_names]\n",
    ")\n",
    "word2vec_df = spark.createDataFrame(word2vec_df, schema)"
   ]
  },
  {
   "cell_type": "code",
   "execution_count": 16,
   "metadata": {},
   "outputs": [],
   "source": [
    "temp_df = reviews_df\n",
    "\n",
    "win_row_number = Window.orderBy(\"review_id\")\n",
    "temp_df = temp_df.withColumn('review_id',F.row_number().over(win_row_number))\n",
    "id_df = temp_df.select(F.col(\"user_id\"),F.col(\"business_id\"),F.col(\"review_id\"))\n",
    "review_df = temp_df.select(F.col(\"review_id\"),F.col(\"review_text\"))"
   ]
  },
  {
   "cell_type": "code",
   "execution_count": null,
   "metadata": {},
   "outputs": [],
   "source": [
    "\n",
    "review_df = review_df.withColumn(\"review_text\",F.lower(col(\"review_text\")))\n",
    "review_df = review_df.withColumn(\"review_text\", F.translate(\"review_text\", non_alphanumeric, \" \"*len(non_alphanumeric)))\n",
    "# https://sparkbyexamples.com/pyspark/pyspark-replace-column-values/\n",
    "review_df = review_df.withColumn(\"review_text\", F.split(\"review_text\", \" \"))\n",
    "# https://sparkbyexamples.com/pyspark/pyspark-convert-string-to-array-column/  "
   ]
  },
  {
   "cell_type": "code",
   "execution_count": 18,
   "metadata": {},
   "outputs": [],
   "source": [
    "# reviewTextWords_df = review_df.explode(\"review_text\")\n",
    "\n",
    "reviewTextWords_df = review_df.withColumn(\"review_text\", F.explode(\"review_text\"))\n",
    "# https://stackoverflow.com/questions/44436856/explode-array-data-into-rows-in-spark    "
   ]
  },
  {
   "cell_type": "code",
   "execution_count": null,
   "metadata": {},
   "outputs": [],
   "source": [
    "\n",
    "\n",
    "reviewTextWords_df = reviewTextWords_df.filter(~((F.col(\"review_text\")).isin(stop_words)))\n",
    "reviewTextWords_df = reviewTextWords_df.filter(((F.col(\"review_text\")).isin(recipe_word2vec_lexicon)))\n",
    "reviewTextWords_df = reviewTextWords_df.filter(((F.col(\"review_text\")).isin(recipe_tfidf_lexicon)))\n",
    "reviewTextWords_df = reviewTextWords_df.filter(((F.col(\"review_text\")) != \"\"))\n",
    "\n",
    "# https://sparkbyexamples.com/pyspark/pyspark-where-filter/"
   ]
  },
  {
   "cell_type": "code",
   "execution_count": null,
   "metadata": {},
   "outputs": [],
   "source": [
    "# review_df = review_df[(review_df[\"review_id\"].isin(pd.unique(reviewTextWords_df[\"review_id\"])))]\n",
    "\n",
    "reviewTextWords_df_unique_review_ids = reviewTextWords_df.select(F.col(\"review_id\")).distinct().collect()\n",
    "\n",
    "review_df = review_df.filter(((F.col(\"review_text\")).isin(reviewTextWords_df_unique_review_ids)))"
   ]
  },
  {
   "cell_type": "code",
   "execution_count": null,
   "metadata": {},
   "outputs": [],
   "source": [
    "\n",
    "business_id_frequency = id_df.groupBy(\"business_id\").count()\n",
    "user_id_frequency = id_df.groupBy(\"user_id\").count()\n",
    "\n",
    "business_id_one_time = business_id_frequency.filter(((F.col(\"count\"))==1)).select(F.col(\"business_id\"))\n",
    "user_id_one_time = user_id_frequency.filter(((F.col(\"count\"))==1)).select(F.col(\"user_id\"))\n",
    "\n",
    "id_df = id_df.filter(~(\n",
    "    ((F.col(\"business_id\").isin(business_id_one_time))) & ((F.col(\"user_id\").isin(user_id_one_time)))\n",
    "))\n",
    "# https://sparkbyexamples.com/pyspark/pyspark-groupby-count-explained/"
   ]
  },
  {
   "cell_type": "code",
   "execution_count": null,
   "metadata": {},
   "outputs": [],
   "source": [
    "\n",
    "reviewTextWords_df = reviewTextWords_df.withColumn(\"word_count\", F.lit(1))\n",
    "# https://sparkbyexamples.com/pyspark/pyspark-add-new-column-to-dataframe/"
   ]
  },
  {
   "cell_type": "code",
   "execution_count": null,
   "metadata": {},
   "outputs": [],
   "source": [
    "\n",
    "reviewTextWord2vec_df = reviewTextWords_df.join(word2vec_df, on=\"review_text\")\n",
    "# https://spark.apache.org/docs/3.1.2/api/python/reference/api/pyspark.sql.DataFrame.join.html\n",
    "\n",
    "# reviewTextWord2vec_df.sort_values([\"review_id\"], inplace=True)"
   ]
  },
  {
   "cell_type": "code",
   "execution_count": null,
   "metadata": {},
   "outputs": [],
   "source": [
    "\n",
    "\n",
    "agg_column_names = vec_column_names + [\"word_count\"]\n",
    "\n",
    "reviewTextWord2vec_df_agg = reviewTextWord2vec_df.groupBy(\"review_id\").sum(agg_column_names)\n",
    "\n",
    "# https://sparkbyexamples.com/pyspark/pyspark-groupby-agg-aggregate-explained/\n",
    "# https://stackoverflow.com/questions/33882894/spark-sql-apply-aggregate-functions-to-a-list-of-columns"
   ]
  },
  {
   "cell_type": "code",
   "execution_count": null,
   "metadata": {},
   "outputs": [],
   "source": [
    "\n",
    "id_review_df = id_df.join(reviewTextWord2vec_df_agg, on=\"review_id\")"
   ]
  },
  {
   "cell_type": "code",
   "execution_count": null,
   "metadata": {},
   "outputs": [],
   "source": [
    "\n",
    "id_review_df_agg_user = id_review_df.groupBy(\"user_id\").sum(agg_column_names)"
   ]
  },
  {
   "cell_type": "code",
   "execution_count": null,
   "metadata": {},
   "outputs": [],
   "source": [
    "id_review_df_agg_business = id_review_df.groupBy(\"business_id\").sum(agg_column_names)"
   ]
  },
  {
   "cell_type": "code",
   "execution_count": null,
   "metadata": {},
   "outputs": [],
   "source": [
    "user_vec_column_names = [\"u\"+x for x in vec_column_names]\n",
    "business_vec_column_names = [\"b\"+x for x in vec_column_names]\n",
    "for i in range(len(vec_column_names)):\n",
    "    vec_column_name = vec_column_names[i]\n",
    "    user_vec_column_name = user_vec_column_names[i]\n",
    "    business_vec_column_name = business_vec_column_names[i]\n",
    "    id_review_df_agg_user = id_review_df_agg_user.withColumnRenamed(vec_column_name, user_vec_column_name)\n",
    "    id_review_df_agg_business = id_review_df_agg_business.withColumnRenamed(vec_column_name, business_vec_column_name)\n",
    "\n",
    "id_review_df_agg_user = id_review_df_agg_user.withColumnRenamed(\"word_count\", \"user_word_count\")\n",
    "id_review_df_agg_business = id_review_df_agg_business.withColumnRenamed(\"word_count\", \"business_word_count\")\n",
    "# https://stackoverflow.com/questions/38798567/pyspark-rename-more-than-one-column-using-withcolumnrenamed"
   ]
  },
  {
   "cell_type": "code",
   "execution_count": null,
   "metadata": {},
   "outputs": [],
   "source": [
    "\n",
    "\n",
    "id2vec_df = id2vec_df.join(id_review_df_agg_user, \"user_id\")\n",
    "for i in range(len(vec_column_names)):\n",
    "    vec_column_name = vec_column_names[i]\n",
    "    user_vec_column_name = user_vec_column_names[i]\n",
    "    id2vec_df = id2vec_df.withColumn(vec_column_name, \n",
    "                ((F.col(user_vec_column_name)) - (F.col(vec_column_name)))\n",
    "                                    )\n",
    "#https://www.datasciencemadesimple.com/sum-of-two-or-more-columns-in-pyspark/    \n",
    "id2vec_df = id2vec_df.withColumn(vec_column_name, \n",
    "            ((F.col(\"user_word_count\")) - (F.col(\"word_count\")))\n",
    "                                    )\n",
    "id2vec_df = id2vec_df.filter(((F.col(\"user_word_count\")) != 0))\n",
    "\n",
    "for i in range(len(user_vec_column_names)):\n",
    "    user_vec_column_name = user_vec_column_names[i]\n",
    "    id2vec_df = id2vec_df.withColumn(user_vec_column_name, \n",
    "                                     ((F.col(user_vec_column_name)) / (F.col(\"user_word_count\")))\n",
    "                                    )\n",
    "# https://mrpowers.medium.com/performing-operations-on-multiple-columns-in-a-pyspark-dataframe-36e97896c378"
   ]
  },
  {
   "cell_type": "code",
   "execution_count": null,
   "metadata": {},
   "outputs": [],
   "source": [
    "id2vec_df = id2vec_df.join(id_review_df_agg_business, \"business_id\")\n",
    "for i in range(len(vec_column_names)):\n",
    "    vec_column_name = vec_column_names[i]\n",
    "    business_vec_column_name = business_vec_column_names[i]\n",
    "    id2vec_df = id2vec_df.withColumn(business_vec_column_name, \n",
    "                ((F.col(business_vec_column_name)) - (F.col(vec_column_name))))\n",
    "#https://www.datasciencemadesimple.com/sum-of-two-or-more-columns-in-pyspark/    \n",
    "id2vec_df = id2vec_df.withColumn(business_vec_column_name, \n",
    "            ((F.col(\"(business_word_count\")) - (F.col(\"word_count\"))))\n",
    "id2vec_df = id2vec_df.filter(((F.col(\"(business_word_count\")) != 0))\n",
    "\n",
    "for i in range(len(business_vec_column_names)):\n",
    "    business_vec_column_name = business_vec_column_names[i]\n",
    "    id2vec_df = id2vec_df.withColumn(business_vec_column_name, \n",
    "                                     ((F.col(business_vec_column_name)) / (F.col(\"user_word_count\"))))\n",
    "\n",
    "# https://mrpowers.medium.com/performing-operations-on-multiple-columns-in-a-pyspark-dataframe-36e97896c378"
   ]
  },
  {
   "cell_type": "code",
   "execution_count": null,
   "metadata": {},
   "outputs": [],
   "source": [
    "target_column_name = \"target\"\n",
    "target_column_names = [target_column_name]\n",
    "id2vec_df = id2vec_df.withColumn(target_column_name, F.lit(1))\n",
    "\n",
    "concated_vec_column_names = user_vec_column_names + business_vec_column_names\n",
    "\n",
    "data_column_names = concated_vec_column_names + target_column_names\n",
    "data_column_names = [F.col(x) for x in data_column_names]\n",
    "train_data_curr_excluded_from_average = id2vec_df.select(*data_column_names)"
   ]
  },
  {
   "cell_type": "code",
   "execution_count": null,
   "metadata": {},
   "outputs": [],
   "source": [
    "\n",
    "for i in range(len(vec_column_names)):\n",
    "    vec_column_name = vec_column_names[i]\n",
    "    user_vec_column_name = user_vec_column_names[i]\n",
    "    id_review_df_agg_user = id_review_df_agg_user.withColumn(user_vec_column_name, \n",
    "                                     ((F.col(vec_column_name)) / (F.col(\"word_count\")))\n",
    "                                    )\n",
    "    #id_review_df_agg_user = id_review_df_agg_user.drop(F.col(vec_column_name))\n",
    "    \n",
    "    business_vec_column_name = business_vec_column_names[i]\n",
    "    id_review_df_agg_business = id_review_df_agg_business.withColumn(business_vec_column_name, \n",
    "                                     ((F.col(vec_column_name)) / (F.col(\"word_count\")))\n",
    "                                    )\n",
    "    #id_review_df_agg_business = id_review_df_agg_business.drop(F.col(vec_column_name))\n",
    "\n",
    "\n",
    "valid_user_id_column = id2vec_df.select(F.col(\"user_id\"))\n",
    "valid_business_id_column = id2vec_df.select(F.col(\"business_id\"))"
   ]
  },
  {
   "cell_type": "code",
   "execution_count": null,
   "metadata": {},
   "outputs": [],
   "source": [
    "chunk_size = 5000\n",
    "#len_set_valid_user_id_column = valid_user_id_column.distinct().count()\n",
    "train_id_df = train_data_curr_excluded_from_average\n",
    "\n",
    "seen_pairs = train_id_df.select(F.col(\"user_id\"), F.col(\"business_id\"))\n",
    "\n",
    "user_fraction = np.ceil(chunk_size/valid_user_id_column.count())\n",
    "business_fraction = np.ceil(chunk_size/valid_business_id_column.count())\n",
    "\n",
    "temp_user_id_samples = valid_user_id_column.sample(fraction=1)\n",
    "temp_business_id_samples = valid_business_id_column.sample(fraction=1)\n",
    "\n",
    "temp_user_id_sampled = temp_user_id_samples.sample(fraction=user_fraction)\n",
    "temp_user_id_sampled = temp_user_id_sampled.limit(chunk_size)\n",
    "temp_business_id_sampled = temp_business_id_samples.sample(fraction=business_fraction)\n",
    "temp_business_id_sampled = temp_business_id_sampled.limit(chunk_size)\n",
    "\n",
    "temp_sampled_pairs = temp_user_id_sampled.withColumn(\"business_id\", \n",
    "                                                       temp_business_id_sampled.select(F.col(\"business_id\"))\n",
    "                                                      )\n",
    "unseen_pairs = temp_sampled_pairs.difference(seen_pairs)\n",
    "\n",
    "len_train_df = train_id_df.count()\n",
    "while unseen_pairs.count() < len_train_df:\n",
    "\n",
    "    temp_user_id_samples = valid_user_id_column.sample(fraction=1)\n",
    "    temp_business_id_samples = valid_business_id_column.sample(fraction=1)\n",
    "\n",
    "    temp_user_id_sampled = temp_user_id_samples.sample(fraction=user_fraction)\n",
    "    temp_user_id_sampled = temp_user_id_sampled.limit(chunk_size)\n",
    "    temp_business_id_sampled = temp_business_id_samples.sample(fraction=business_fraction)\n",
    "    temp_business_id_sampled = temp_business_id_sampled.limit(chunk_size)\n",
    "\n",
    "    temp_sampled_pairs = temp_user_id_sampled.withColumn(\"business_id\", \n",
    "                                                           temp_business_id_sampled.select(F.col(\"business_id\"))\n",
    "                                                          )\n",
    "    temp_unseen_pairs = temp_sampled_pairs.difference(seen_pairs)\n",
    "    unseen_pairs = unseen_pairs.union(temp_unseen_pairs)\n",
    "\n",
    "seen_pairs_with_target = train_id_df.select(F.col(\"user_id\"), F.col(\"business_id\"), F.col(target_column_name))\n",
    "unseen_pairs_with_target = unseen_pairs.withColumn(target_column_name, F.lit(0))\n",
    "# https://www.datasciencemadesimple.com/set-difference-in-pyspark-difference-of-two-dataframe/"
   ]
  },
  {
   "cell_type": "code",
   "execution_count": null,
   "metadata": {},
   "outputs": [],
   "source": [
    "final_interaction = seen_pairs_with_target.union(unseen_pairs_with_target)"
   ]
  },
  {
   "cell_type": "markdown",
   "metadata": {},
   "source": [
    "final_interaction = final_interaction.sample(fraction=1)\n",
    "train_interaction = train_interaction.limit(int(final_interaction.count() * 0.75))\n",
    "test_interaction = final_interaction.subtract(train_interaction)\n",
    "assert final_interaction.count() == (train_interaction.count() + test_interaction.count())\n",
    "\n",
    "train_interaction = train_interaction.join(id_review_df_agg_user,\"user_id\").drop(F.col(\"user_word_count\"))\n",
    "train_interaction = train_interaction.join(id_review_df_agg_business,\"business_id\").drop(F.col(\"business_word_count\"))\n",
    "\n",
    "test_interaction = test_interaction.join(id_review_df_agg_user,\"user_id\").drop(F.col(\"user_word_count\"))\n",
    "test_interaction = test_interaction.join(id_review_df_agg_business,\"business_id\").drop(F.col(\"business_word_count\"))"
   ]
  },
  {
   "cell_type": "code",
   "execution_count": null,
   "metadata": {},
   "outputs": [],
   "source": [
    "final_interaction = final_interaction.join(id_review_df_agg_user,\"user_id\").drop(F.col(\"user_word_count\"))\n",
    "final_interaction = final_interaction.join(id_review_df_agg_business,\"business_id\").drop(F.col(\"business_word_count\"))"
   ]
  },
  {
   "cell_type": "code",
   "execution_count": null,
   "metadata": {},
   "outputs": [],
   "source": [
    "input_column_names = user_vec_column_names + business_vec_column_names\n",
    "assembler = M.features.VectorAssembler(inputCols = input_column_names, outputCol='features')\n",
    "final_interaction = assembler.transform(final_interaction).select(F.col('features'), F.col(target_column_name))"
   ]
  },
  {
   "cell_type": "code",
   "execution_count": null,
   "metadata": {},
   "outputs": [],
   "source": [
    "splitted = final_interaction.randomSplit([0.75, 0.25], 1)\n",
    "train_interaction = splitted[0]\n",
    "test_interaction = splitted[1]"
   ]
  },
  {
   "cell_type": "code",
   "execution_count": null,
   "metadata": {},
   "outputs": [],
   "source": [
    "input_column_names = user_vec_column_names + business_vec_column_names\n",
    "input_column_names = [F.col(x) for x in input_column_names]\n",
    "target_column_names = [target_column_name]\n",
    "target_column_names = [F.col(x) for x in target_column_names]\n",
    "\n",
    "train_X = train_interaction.select(*input_column_names)\n",
    "train_y = train_interaction.select(*target_column_names)\n",
    "\n",
    "test_X = test_interaction.select(*input_column_names)\n",
    "test_y = test_interaction.select(*target_column_names)"
   ]
  },
  {
   "cell_type": "code",
   "execution_count": null,
   "metadata": {},
   "outputs": [],
   "source": [
    "lr = M.classification.LogisticRegression(labelCol = target_column_name,\n",
    "                                     featuresCol=\"features\")\n",
    "pl = M.Pipeline(stages=[dt])"
   ]
  },
  {
   "cell_type": "code",
   "execution_count": null,
   "metadata": {},
   "outputs": [],
   "source": [
    "model = pl.fit(train_interaction)    \n",
    "# https://medium.com/featurepreneur/logistic-regression-with-pyspark-in-10-steps-3edecd6fe3c5"
   ]
  },
  {
   "cell_type": "code",
   "execution_count": null,
   "metadata": {},
   "outputs": [],
   "source": [
    "predictions = model.transform(test_X)"
   ]
  },
  {
   "cell_type": "code",
   "execution_count": 32,
   "metadata": {},
   "outputs": [],
   "source": [
    "spark.stop()"
   ]
  },
  {
   "cell_type": "code",
   "execution_count": null,
   "metadata": {},
   "outputs": [],
   "source": []
  }
 ],
 "metadata": {
  "colab": {
   "provenance": []
  },
  "gpuClass": "standard",
  "kernelspec": {
   "display_name": "Python 3",
   "language": "python",
   "name": "python3"
  },
  "language_info": {
   "codemirror_mode": {
    "name": "ipython",
    "version": 3
   },
   "file_extension": ".py",
   "mimetype": "text/x-python",
   "name": "python",
   "nbconvert_exporter": "python",
   "pygments_lexer": "ipython3",
   "version": "3.7.4"
  }
 },
 "nbformat": 4,
 "nbformat_minor": 1
}
