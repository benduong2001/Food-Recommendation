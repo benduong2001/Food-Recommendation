{
 "cells": [
  {
   "cell_type": "code",
   "execution_count": 1,
   "metadata": {
    "id": "NJC4K7SmVl5V"
   },
   "outputs": [],
   "source": [
    "#!pip install geopandas"
   ]
  },
  {
   "cell_type": "code",
   "execution_count": 2,
   "metadata": {},
   "outputs": [
    {
     "name": "stderr",
     "output_type": "stream",
     "text": [
      "[nltk_data] Downloading package stopwords to\n",
      "[nltk_data]     C:\\Users\\Benson\\AppData\\Roaming\\nltk_data...\n",
      "[nltk_data]   Package stopwords is already up-to-date!\n",
      "[nltk_data] Downloading package stopwords to\n",
      "[nltk_data]     C:\\Users\\Benson\\AppData\\Roaming\\nltk_data...\n",
      "[nltk_data]   Package stopwords is already up-to-date!\n"
     ]
    }
   ],
   "source": [
    "import numpy as np # linear algebra\n",
    "import pandas as pd # data processing, CSV file I/O (e.g. pd.read_csv)\n",
    "import matplotlib.pyplot as plt\n",
    "plt.style.use(\"ggplot\")\n",
    "import seaborn as sns\n",
    "\n",
    "import re\n",
    "import pickle\n",
    "import os\n",
    "from collections import defaultdict\n",
    "from tqdm import tqdm\n",
    "from sklearn.feature_extraction.text import TfidfVectorizer\n",
    "from sklearn.feature_extraction.text import CountVectorizer\n",
    "from sklearn.feature_extraction.text import TfidfTransformer\n",
    "from sklearn.pipeline import make_pipeline\n",
    "from sklearn.pipeline import Pipeline\n",
    "from sklearn.model_selection import train_test_split\n",
    "from sklearn.linear_model import LogisticRegression\n",
    "from sklearn.metrics import confusion_matrix\n",
    "from sklearn.metrics import classification_report\n",
    "\n",
    "import nltk\n",
    "from nltk.corpus import stopwords\n",
    "nltk.download('stopwords')\n",
    "stop_words = stopwords.words(\"english\")\n",
    "\n",
    "import gensim\n",
    "\n",
    "import sys\n",
    "\n",
    "path_folder = (os.path.abspath(os.path.join((os.path.abspath(os.path.join(os.getcwd(), os.pardir))),os.pardir)))\n",
    "\n",
    "google_colab = 0\n",
    "if google_colab == 1:\n",
    "    from google.colab import drive\n",
    "    drive.mount('/content/drive/')\n",
    "    path_folder = \"/content/drive/MyDrive/dsprojects/dsproject_grev/\"\n",
    "\n",
    "sys.path.insert(0, path_folder+\"/src/features/\")\n",
    "import util"
   ]
  },
  {
   "cell_type": "code",
   "execution_count": 3,
   "metadata": {},
   "outputs": [],
   "source": [
    "class Temp_Ratings_Model_Builder:\n",
    "    def __init__(self):\n",
    "        self.review_text_column_name = \"review_text\"\n",
    "        self.rating_column_name = \"rating\"\n",
    "        binarized_rating_column_name = self.rating_column_name#\"binarized_rating\"\n",
    "        self.target_column_name = binarized_rating_column_name    \n",
    "\n",
    "    def set_up(\n",
    "        self, reviews_df\n",
    "    ):\n",
    "        # ONLY RUN ONCE AT THE START\n",
    "        # reviews_df contains the y column!\n",
    "        \n",
    "        # Non Holistic Operations\n",
    "        review_text_column = reviews_df[self.review_text_column_name]\n",
    "        review_text_column = review_text_column.fillna(\"\")\n",
    "        review_text_column = util.clean_text_column(review_text_column)\n",
    "        reviews_df[self.review_text_column_name] = review_text_column\n",
    "        \n",
    "        pipeline = Pipeline([('count', CountVectorizer(stop_words=stop_words)),\n",
    "                      ('tfidf', TfidfTransformer())])\n",
    "\n",
    "        vectorizer = util.Temp_Recipe_Vectorizer_Builder(pipeline)\n",
    "        self.vectorizer = vectorizer\n",
    "\n",
    "        tfidf_group_collapser = util.Tfidf_Group_Collapser(\n",
    "            reviews_df,\n",
    "            self.target_column_name,\n",
    "            self.review_text_column_name,\n",
    "            self.vectorizer\n",
    "        )\n",
    "        self.tfidf_group_collapser = tfidf_group_collapser\n",
    "\n",
    "        self.tfidf_group_collapser.collapse_by_strjoin()\n",
    "\n",
    "        word2label_df = self.tfidf_group_collapser.build_temp_word2label_df()\n",
    "        self.word2label_df = word2label_df\n",
    "\n",
    "        N = 100\n",
    "        top_n_tfidf_negative_skewed_words_by_contrast_list = (\n",
    "            word2label_df[word2label_df[\"arg_label\"]==1].sort_values([\"stdev\"],ascending=False)[\"word\"].head(N).values\n",
    "        )\n",
    "        feature_words = top_n_tfidf_negative_skewed_words_by_contrast_list\n",
    "        self.feature_words = feature_words\n",
    "\n",
    "        learned_mapping = dict(zip(list(feature_words),list(range(N))))\n",
    "        learned_count_vectorizer = CountVectorizer(vocabulary=learned_mapping)\n",
    "        self.learned_count_vectorizer = learned_count_vectorizer\n",
    "    \n",
    "    def __call__(self, reviews_df):\n",
    "        # reviews_df must be train\n",
    "        self.set_up(reviews_df)\n",
    "    def get_X(self, reviews_df):\n",
    "        # can be run many times after set_up\n",
    "        # reviews_df is for both train and test (or both)\n",
    "\n",
    "        # Non Holistic Operations\n",
    "        review_text_column = reviews_df[self.review_text_column_name]\n",
    "        review_text_column = review_text_column.fillna(\"\")\n",
    "        review_text_column = util.clean_text_column(review_text_column)\n",
    "        reviews_df[self.review_text_column_name] = review_text_column\n",
    "        \n",
    "        X = self.learned_count_vectorizer.transform(reviews_df[self.review_text_column_name]).tocsc().A\n",
    "        return X\n",
    "    def get_y(self, reviews_df):\n",
    "        # can be run many times after set_up\n",
    "        # reviews_df is for both train and test (or both)\n",
    "        # reviews_df contains the y column!\n",
    "\n",
    "        \n",
    "        # Non Holistic Operations\n",
    "        rating_column = reviews_df[self.rating_column_name]\n",
    "        binarized_rating_column = (rating_column > 4).astype(int)\n",
    "        target_column = binarized_rating_column\n",
    "        reviews_df[self.target_column_name] = target_column        \n",
    "        \n",
    "        y = 1-(reviews_df[self.target_column_name].astype(int))\n",
    "        return y\n",
    "    def data_preparation(self, reviews_df):\n",
    "        # reviews_df for both train and test (or both)\n",
    "        # reviews_df contains the y column!\n",
    "        X = self.get_X(reviews_df)\n",
    "        y = self.get_y(reviews_df)\n",
    "        return X, y"
   ]
  },
  {
   "cell_type": "code",
   "execution_count": 4,
   "metadata": {
    "colab": {
     "base_uri": "https://localhost:8080/"
    },
    "collapsed": true,
    "id": "EwRmnRUBEg_V",
    "outputId": "dcb5491d-7ad0-4afd-b1b8-a8f82a6d2935"
   },
   "outputs": [
    {
     "name": "stderr",
     "output_type": "stream",
     "text": [
      "1it [00:17, 17.67s/it]\n",
      "100%|████████████████████████████████████████████████████████████████████████| 87013/87013 [00:00<00:00, 334282.84it/s]\n",
      "100%|████████████████████████████████████████████████████████████████████████| 10860/10860 [00:00<00:00, 356417.38it/s]\n",
      "100%|████████████████████████████████████████████████████████████████████████| 11015/11015 [00:00<00:00, 348799.66it/s]\n"
     ]
    },
    {
     "data": {
      "text/plain": [
       "(0.6277490244738689, 0.6285448400842435)"
      ]
     },
     "execution_count": 4,
     "metadata": {},
     "output_type": "execute_result"
    }
   ],
   "source": [
    "stop_words = stopwords.words(\"english\")\n",
    "negative_words = util.get_negative_words_of_stop_words(stop_words)\n",
    "for word in negative_words: stop_words.remove(word);\n",
    "\n",
    "USING_SPARK = 0\n",
    "DATASET_VERSION = [\"FULL\", \"FILTER\"][1]  \n",
    "DROP_ONE_TIME_APPEARANCES = 1\n",
    "DROP_SEPARATED_ONE_TIME_APPEARANCES = 0\n",
    "USING_PICS = 0\n",
    "\n",
    "reviews_dataset_reader = util.Reviews_Dataset_Reader(\n",
    "    path_folder, \n",
    "    DATASET_VERSION, \n",
    "    USING_PICS,\n",
    "    USING_SPARK,\n",
    "    DROP_ONE_TIME_APPEARANCES, \n",
    "    DROP_SEPARATED_ONE_TIME_APPEARANCES,\n",
    ")\n",
    "reviews_df = reviews_dataset_reader.build_reviews_df()\n",
    "\n",
    "np.random.seed(1)\n",
    "reviews_df = reviews_df.sample(frac=0.75)\n",
    "threshold = int(reviews_df.shape[0]*0.75)\n",
    "train_reviews_df = reviews_df.iloc[:threshold,]\n",
    "test_reviews_df = reviews_df.iloc[threshold:,]\n",
    "(train_reviews_df[\"rating\"]>4).mean(), (test_reviews_df[\"rating\"]>4).mean()"
   ]
  },
  {
   "cell_type": "code",
   "execution_count": 5,
   "metadata": {
    "collapsed": true
   },
   "outputs": [
    {
     "name": "stderr",
     "output_type": "stream",
     "text": [
      "c:\\users\\benson\\appdata\\local\\programs\\python\\python37\\lib\\site-packages\\ipykernel_launcher.py:18: SettingWithCopyWarning: \n",
      "A value is trying to be set on a copy of a slice from a DataFrame.\n",
      "Try using .loc[row_indexer,col_indexer] = value instead\n",
      "\n",
      "See the caveats in the documentation: https://pandas.pydata.org/pandas-docs/stable/user_guide/indexing.html#returning-a-view-versus-a-copy\n",
      "100%|█████████████████████████████████████████████████████████████████████████| 38449/38449 [00:01<00:00, 20053.91it/s]\n",
      "100%|██████████████████████████████████████████████████████████████████████████| 4890/4890 [00:00<00:00, 563837.33it/s]\n",
      "100%|█████████████████████████████████████████████████████████████████████████| 15739/15739 [00:00<00:00, 45612.66it/s]\n",
      "100%|████████████████████████████████████████████████████████████████████████████| 740/740 [00:00<00:00, 365409.11it/s]\n",
      "100%|██████████████████████████████████████████████████████████████████████████| 1431/1431 [00:00<00:00, 416606.44it/s]\n"
     ]
    }
   ],
   "source": [
    "temp_ratings_model_builder = Temp_Ratings_Model_Builder()\n",
    "temp_ratings_model_builder(train_reviews_df)"
   ]
  },
  {
   "cell_type": "code",
   "execution_count": 6,
   "metadata": {
    "collapsed": true
   },
   "outputs": [
    {
     "name": "stderr",
     "output_type": "stream",
     "text": [
      "c:\\users\\benson\\appdata\\local\\programs\\python\\python37\\lib\\site-packages\\ipykernel_launcher.py:61: SettingWithCopyWarning: \n",
      "A value is trying to be set on a copy of a slice from a DataFrame.\n",
      "Try using .loc[row_indexer,col_indexer] = value instead\n",
      "\n",
      "See the caveats in the documentation: https://pandas.pydata.org/pandas-docs/stable/user_guide/indexing.html#returning-a-view-versus-a-copy\n",
      "c:\\users\\benson\\appdata\\local\\programs\\python\\python37\\lib\\site-packages\\ipykernel_launcher.py:75: SettingWithCopyWarning: \n",
      "A value is trying to be set on a copy of a slice from a DataFrame.\n",
      "Try using .loc[row_indexer,col_indexer] = value instead\n",
      "\n",
      "See the caveats in the documentation: https://pandas.pydata.org/pandas-docs/stable/user_guide/indexing.html#returning-a-view-versus-a-copy\n"
     ]
    },
    {
     "data": {
      "text/plain": [
       "0.372250975526131"
      ]
     },
     "execution_count": 6,
     "metadata": {},
     "output_type": "execute_result"
    }
   ],
   "source": [
    "X_train, y_train = temp_ratings_model_builder.data_preparation(train_reviews_df)\n",
    "y_train.mean()"
   ]
  },
  {
   "cell_type": "code",
   "execution_count": 7,
   "metadata": {
    "collapsed": true
   },
   "outputs": [
    {
     "name": "stderr",
     "output_type": "stream",
     "text": [
      "c:\\users\\benson\\appdata\\local\\programs\\python\\python37\\lib\\site-packages\\ipykernel_launcher.py:61: SettingWithCopyWarning: \n",
      "A value is trying to be set on a copy of a slice from a DataFrame.\n",
      "Try using .loc[row_indexer,col_indexer] = value instead\n",
      "\n",
      "See the caveats in the documentation: https://pandas.pydata.org/pandas-docs/stable/user_guide/indexing.html#returning-a-view-versus-a-copy\n",
      "c:\\users\\benson\\appdata\\local\\programs\\python\\python37\\lib\\site-packages\\ipykernel_launcher.py:75: SettingWithCopyWarning: \n",
      "A value is trying to be set on a copy of a slice from a DataFrame.\n",
      "Try using .loc[row_indexer,col_indexer] = value instead\n",
      "\n",
      "See the caveats in the documentation: https://pandas.pydata.org/pandas-docs/stable/user_guide/indexing.html#returning-a-view-versus-a-copy\n"
     ]
    },
    {
     "data": {
      "text/plain": [
       "0.37145515991575645"
      ]
     },
     "execution_count": 7,
     "metadata": {},
     "output_type": "execute_result"
    }
   ],
   "source": [
    "X_test, y_test = temp_ratings_model_builder.data_preparation(test_reviews_df)\n",
    "y_test.mean()"
   ]
  },
  {
   "cell_type": "code",
   "execution_count": 8,
   "metadata": {},
   "outputs": [
    {
     "name": "stdout",
     "output_type": "stream",
     "text": [
      "0.6619373377524531\n"
     ]
    }
   ],
   "source": [
    "model = LogisticRegression(class_weight=\"balanced\",max_iter=300)\n",
    "model.fit(X_train, y_train)\n",
    "predictions = model.predict(X_train)\n",
    "acc = np.mean(predictions==y_train)\n",
    "print(acc)"
   ]
  },
  {
   "cell_type": "code",
   "execution_count": 10,
   "metadata": {
    "colab": {
     "base_uri": "https://localhost:8080/"
    },
    "id": "siVU4BXvz5i0",
    "outputId": "dcc0020e-1d2a-42ee-c96e-23b42a2f7efe"
   },
   "outputs": [
    {
     "name": "stdout",
     "output_type": "stream",
     "text": [
      "0.5993201754385965\n",
      "0.5960526315789474\n",
      "0.596798245614035\n",
      "0.5977412280701755\n",
      "0.5969298245614035\n",
      "0.5967543859649123\n",
      "0.596140350877193\n",
      "0.59875\n",
      "0.5974561403508772\n",
      "0.5973684210526315\n",
      "0.636675319586619\n"
     ]
    }
   ],
   "source": [
    "###########\n",
    "\n",
    "def fit_model_subset(X_train, y_train):\n",
    "    model = LogisticRegression(class_weight=\"balanced\",max_iter=300)\n",
    "    model.fit(X_train, y_train)\n",
    "    predictions = model.predict(X_train)\n",
    "    acc = np.mean(predictions==y_train)\n",
    "    print(acc)\n",
    "    return model\n",
    "\n",
    "def undersampling_fitting(\n",
    "    X_train, \n",
    "    y_train,\n",
    "    num_subset_model_fittings = 10\n",
    "    ):\n",
    "    good_reviews_indices = np.where(y_train == 0)[0]\n",
    "    bad_reviews_indices = np.where(y_train == 1)[0]\n",
    "    #print(len(bad_reviews_indices)/(len(bad_reviews_indices) + len(good_reviews_indices)))\n",
    "    subset_size = bad_reviews_indices.shape[0] # len(good_reviews_indices) // num_subset_model_fittings\n",
    "    subset_models = []\n",
    "\n",
    "    for i in (range(num_subset_model_fittings)):\n",
    "        good_reviews_subset_indices = np.random.choice(good_reviews_indices,size=subset_size)\n",
    "\n",
    "        good_reviews_subset = X_train[good_reviews_subset_indices,:]\n",
    "        bad_reviews = X_train[bad_reviews_indices,:]\n",
    "\n",
    "        X_train_subset = np.vstack([good_reviews_subset, bad_reviews])\n",
    "        y_train_subset = np.array(\n",
    "            [0 for _ in range(good_reviews_subset.shape[0])] + \\\n",
    "            [1 for _ in range(bad_reviews.shape[0])]\n",
    "        )\n",
    "\n",
    "        shuffler_indices = np.arange((good_reviews_subset.shape[0]) + (bad_reviews.shape[0]))\n",
    "        np.random.shuffle(shuffler_indices)\n",
    "\n",
    "        X_train_subset_shuffled = X_train_subset[shuffler_indices]\n",
    "        y_train_subset_shuffled = y_train_subset[shuffler_indices]\n",
    "        \n",
    "        subset_model = fit_model_subset(X_train_subset_shuffled, y_train_subset_shuffled)\n",
    "        subset_models.append(subset_model)\n",
    "\n",
    "    return subset_models\n",
    "\n",
    "##############\n",
    "subset_models = undersampling_fitting(X_train, y_train, 10)\n",
    "model_coefs = np.array([model.coef_ for model in subset_models])\n",
    "model_intercepts = np.array([model.intercept_ for model in subset_models])\n",
    "model_coefs = np.squeeze(model_coefs,1)\n",
    "model_intercepts = np.squeeze(model_intercepts,1)\n",
    "model_coefs_std = np.std(model_coefs, axis=1, keepdims=1,ddof=0)\n",
    "model_coefs_ = model_coefs / model_coefs_std\n",
    "model_coefs_avg = np.mean(model_coefs_,axis=0)\n",
    "model_intercepts_ = model_intercepts #/ np.squeeze(model_coefs_std,1)\n",
    "model_intercepts_avg = np.mean(model_intercepts_)\n",
    "########################\n",
    "sigmoid = lambda x: 1/(1+(np.exp(-x)))\n",
    "\n",
    "predictions_prob_undersampled = sigmoid((X_test @ np.expand_dims(model_coefs_avg,1)+model_intercepts_avg))\n",
    "\n",
    "predictions = (predictions_prob_undersampled > 0.5).astype(int)\n",
    "\n",
    "predictions = np.squeeze(predictions,1)\n",
    "\n",
    "y_test.shape, predictions.shape\n",
    "\n",
    "acc = np.mean(predictions==y_test)\n",
    "print(acc)"
   ]
  },
  {
   "cell_type": "code",
   "execution_count": 12,
   "metadata": {
    "colab": {
     "base_uri": "https://localhost:8080/",
     "height": 300
    },
    "id": "jv2KPenZ5LTK",
    "outputId": "5212b2a4-0663-471c-ea22-ade9d180ac5a"
   },
   "outputs": [
    {
     "name": "stdout",
     "output_type": "stream",
     "text": [
      "[[0.77440972 0.22559028]\n",
      " [0.59638713 0.40361287]]\n"
     ]
    }
   ],
   "source": [
    "confusion_matrix_array = confusion_matrix(y_test, predictions, normalize=\"true\")\n",
    "print(confusion_matrix_array)\n",
    "#f, ax = plt.subplots(figsize=(9, 9))\n",
    "#heatmap = sns.heatmap(confusion_matrix_array, annot=True)"
   ]
  },
  {
   "cell_type": "code",
   "execution_count": 13,
   "metadata": {
    "colab": {
     "base_uri": "https://localhost:8080/",
     "height": 282
    },
    "id": "jMA0VtveAIhh",
    "outputId": "3e65567c-48e4-4972-8589-8c19a6875827"
   },
   "outputs": [
    {
     "data": {
      "text/plain": [
       "<matplotlib.axes._subplots.AxesSubplot at 0x18cd53bae48>"
      ]
     },
     "execution_count": 13,
     "metadata": {},
     "output_type": "execute_result"
    },
    {
     "data": {
      "image/png": "[encoded data removed]",
      "text/plain": [
       "<Figure size 432x288 with 1 Axes>"
      ]
     },
     "metadata": {
      "needs_background": "light"
     },
     "output_type": "display_data"
    }
   ],
   "source": [
    "pd.Series(index=temp_ratings_model_builder.feature_words, \n",
    "          data=model_coefs_avg).sort_values(ascending=False).head(20)[::-1].plot.barh()#(type=\"barh\")"
   ]
  },
  {
   "cell_type": "code",
   "execution_count": null,
   "metadata": {
    "id": "kY4hqWRyG39t"
   },
   "outputs": [],
   "source": []
  }
 ],
 "metadata": {
  "colab": {
   "provenance": []
  },
  "kernelspec": {
   "display_name": "Python 3",
   "language": "python",
   "name": "python3"
  },
  "language_info": {
   "codemirror_mode": {
    "name": "ipython",
    "version": 3
   },
   "file_extension": ".py",
   "mimetype": "text/x-python",
   "name": "python",
   "nbconvert_exporter": "python",
   "pygments_lexer": "ipython3",
   "version": "3.7.4"
  }
 },
 "nbformat": 4,
 "nbformat_minor": 1
}
