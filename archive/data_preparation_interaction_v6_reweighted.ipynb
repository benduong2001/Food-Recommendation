{
 "cells": [
  {
   "cell_type": "code",
   "execution_count": 1,
   "metadata": {},
   "outputs": [
    {
     "name": "stderr",
     "output_type": "stream",
     "text": [
      "[nltk_data] Downloading package stopwords to\n",
      "[nltk_data]     C:\\Users\\Benson\\AppData\\Roaming\\nltk_data...\n",
      "[nltk_data]   Package stopwords is already up-to-date!\n",
      "[nltk_data] Downloading package stopwords to\n",
      "[nltk_data]     C:\\Users\\Benson\\AppData\\Roaming\\nltk_data...\n",
      "[nltk_data]   Package stopwords is already up-to-date!\n"
     ]
    }
   ],
   "source": [
    "from sklearn.model_selection import train_test_split\n",
    "from sklearn.decomposition import PCA\n",
    "import tensorflow as tf\n",
    "from tensorflow.keras.models import Sequential\n",
    "from tensorflow.keras.layers import Dense\n",
    "\n",
    "from sklearn.metrics import confusion_matrix\n",
    "import seaborn as sns\n",
    "\n",
    "import pandas as pd\n",
    "import numpy as np\n",
    "import matplotlib.pyplot as plt\n",
    "plt.style.use(\"ggplot\")\n",
    "\n",
    "import os\n",
    "from collections import defaultdict\n",
    "from bs4 import BeautifulSoup  \n",
    "import requests\n",
    "import zipfile\n",
    "import io\n",
    "import nltk\n",
    "from nltk.corpus import stopwords\n",
    "#from nltk.stem.porter import PorterStemmer\n",
    "#from nltk.tokenize import word_tokenize\n",
    "nltk.download('stopwords')\n",
    "\n",
    "#import geopandas as gpd|\n",
    "#import shapely\n",
    "import gensim\n",
    "import tqdm\n",
    "import tensorflow as tf\n",
    "import keras\n",
    "\n",
    "from sklearn.decomposition import PCA\n",
    "from sklearn.manifold import TSNE\n",
    "from sklearn.manifold import SpectralEmbedding\n",
    "\n",
    "import sys\n",
    "\n",
    "path_folder = (os.path.abspath(os.path.join((os.path.abspath(os.path.join(os.getcwd(), os.pardir))),os.pardir)))\n",
    "\n",
    "google_colab = 0\n",
    "if google_colab == 1:\n",
    "    from google.colab import drive\n",
    "    drive.mount('/content/drive/')\n",
    "    path_folder = \"/content/drive/MyDrive/dsprojects/dsproject_grev/\"\n",
    "    \n",
    "sys.path.insert(0, path_folder+\"/src/features/\")\n",
    "import util\n",
    "\n",
    "from word2vec_recipe import *\n",
    "\n",
    "import tqdm\n",
    "import pickle"
   ]
  },
  {
   "cell_type": "code",
   "execution_count": 2,
   "metadata": {},
   "outputs": [
    {
     "data": {
      "text/plain": [
       "'1.3.5'"
      ]
     },
     "execution_count": 2,
     "metadata": {},
     "output_type": "execute_result"
    }
   ],
   "source": [
    "pd.__version__"
   ]
  },
  {
   "cell_type": "code",
   "execution_count": 3,
   "metadata": {},
   "outputs": [],
   "source": [
    "from keras.applications.vgg16 import VGG16\n",
    "#vggnet_model = VGG16()\n",
    "pics_link_header = \"https://lh5.googleusercontent.com/p/\"\n",
    "from keras.applications.vgg16 import preprocess_input\n",
    "from keras.applications.vgg16 import decode_predictions\n",
    "\n",
    "from PIL import Image\n",
    "import requests\n",
    "from io import BytesIO\n",
    "\n",
    "from sklearn.preprocessing import LabelEncoder\n"
   ]
  },
  {
   "cell_type": "code",
   "execution_count": 4,
   "metadata": {},
   "outputs": [],
   "source": [
    "import string"
   ]
  },
  {
   "cell_type": "code",
   "execution_count": 5,
   "metadata": {},
   "outputs": [],
   "source": [
    "USING_SPARK = 0\n",
    "SPARK_SESSION_VERSION = 1\n",
    "if USING_SPARK == 1:\n",
    "    import findspark\n",
    "    import pyspark\n",
    "    import pyspark.sql.functions as F\n",
    "    import pyspark.sql.types as T\n",
    "    import pyspark.ml as M\n",
    "    from pyspark.sql.window import Window\n",
    "    from pyspark.sql import SparkSession\n",
    "    findspark.init()\n",
    "    if SPARK_SESSION_VERSION == 1:\n",
    "        spark = SparkSession.builder.getOrCreate()\n",
    "    elif SPARK_SESSION_VERSION == 2:\n",
    "        spark = SparkSession.builder \\\n",
    "            .master('local[*]') \\\n",
    "            .config(\"spark.driver.memory\", \"3g\") \\\n",
    "            .appName('food_rec') \\\n",
    "            .getOrCreate()\n",
    "    "
   ]
  },
  {
   "cell_type": "code",
   "execution_count": 6,
   "metadata": {},
   "outputs": [],
   "source": [
    "class Reviews_Dataset_Reader:\n",
    "    def __init__(self, \n",
    "                 path_folder,\n",
    "                 dataset_version = \"FULL\",\n",
    "                 using_pics = 0,\n",
    "                 using_spark = 0,\n",
    "                 drop_double_one_time_appearances = 1,\n",
    "                 drop_separate_one_time_appearances = 0,\n",
    "                ):\n",
    "        assert dataset_version in [\"FULL\", \"FILTER\"]\n",
    "        assert using_pics in [0,1]    \n",
    "        #self.path_folder = path_folder\n",
    "        self.dataset_version = dataset_version\n",
    "        self.using_pics = using_pics\n",
    "        if self.using_pics == 1:\n",
    "            self.dataset_version = \"FILTER\"\n",
    "            self.vggnet_model = VGG16()\n",
    "            self.pic_link_header = \"https://lh5.googleusercontent.com/p/\"\n",
    "        self.using_spark = using_spark\n",
    "        self.drop_double_one_time_appearances = drop_double_one_time_appearances\n",
    "        self.drop_separate_one_time_appearances = drop_separate_one_time_appearances\n",
    "        if self.dataset_version == \"FULL\":\n",
    "            file_name_data = \"image_review_all.json\"\n",
    "        if self.dataset_version == \"FILTER\":\n",
    "            file_name_data = \"filter_all_t.json\"\n",
    "        self.path_folder_data = os.path.join(path_folder,\"data\",\"raw\",file_name_data)\n",
    "\n",
    "    def get_pics_words_from_links(self, pic_links, top_n=10):\n",
    "        pics_len = len(pic_links)\n",
    "        vggnet_model_input = []\n",
    "        for i in (range(0, pics_len)):\n",
    "            try:\n",
    "                temp_pic_link = pic_links[i]\n",
    "                temp_pic_link = self.pic_link_header + temp_pic_link\n",
    "                response = requests.get(temp_pic_link)\n",
    "                image = Image.open(BytesIO(response.content))\n",
    "                image = np.array(image)\n",
    "                image =  np.array(Image.fromarray(image).resize((224, 224), Image.NEAREST))\n",
    "                assert image.shape == (224, 224, 3)\n",
    "                vggnet_model_input.append(image)\n",
    "            except:\n",
    "                pass\n",
    "        vggnet_model_input = np.array(vggnet_model_input)\n",
    "        if vggnet_model_input.size == 0:\n",
    "            return []\n",
    "        #print(vggnet_model_input.shape)\n",
    "        assert list(vggnet_model_input.shape)[-3:] == [224, 224, 3]\n",
    "        assert len(vggnet_model_input.shape) == 4\n",
    "        #assert len(unbroken_indices) == vggnet_model_input.shape[0]\n",
    "        encoded_predictions = self.vggnet_model.predict(vggnet_model_input) #, verbose=0)\n",
    "        decoded_output = decode_predictions(encoded_predictions)\n",
    "        \n",
    "        pics_words = []\n",
    "        for decoded_i in range(len(decoded_output)):\n",
    "            pic_words = [label[1] for label in decoded_output[decoded_i][:top_n]]\n",
    "            pics_words += pic_words\n",
    "            # assert len(pics_words) > 0\n",
    "        return pics_words\n",
    "    def get_review_info(self, review):\n",
    "        temp_business_id = None\n",
    "        temp_user_id = None\n",
    "        temp_rating = None\n",
    "        temp_review_text = None\n",
    "        temp_pics = None\n",
    "\n",
    "        if \"business_id\" in review:\n",
    "            temp_business_id = review[\"business_id\"]\n",
    "        if \"user_id\" in review:\n",
    "            temp_user_id = review[\"user_id\"]\n",
    "        if \"rating\" in review:\n",
    "            temp_rating = review[\"rating\"]\n",
    "        if \"review_text\" in review:\n",
    "            temp_review_text = review[\"review_text\"]\n",
    "        if \"pics\" in review:\n",
    "            temp_pics = review[\"pics\"]\n",
    "            if self.dataset_version == \"FULL\":\n",
    "                temp_pics = [x[\"id\"] for x in (temp_pics)]\n",
    "\n",
    "        if self.using_pics == 1:\n",
    "            if (temp_pics is None)==False:\n",
    "                temp_pics_words = self.get_pics_words_from_links(temp_pics)\n",
    "                if temp_review_text is None:\n",
    "                    temp_review_text = \"\"\n",
    "                temp_review_text += (\" \" + \" \".join(temp_pics_words))\n",
    "        return (temp_business_id, temp_user_id, temp_rating, temp_review_text)\n",
    "    def build_reviews_df(self):\n",
    "        \n",
    "        raw_data_orig = []\n",
    "        with open(self.path_folder_data) as f:\n",
    "            for line in tqdm.tqdm(f):\n",
    "                raw_data_orig.append(eval(line))\n",
    "            f.close()\n",
    "            \n",
    "        assert len(raw_data_orig) == 1\n",
    "        #print(raw_data_orig[0].keys())\n",
    "\n",
    "        if self.dataset_version in [\"FILTER\"]:\n",
    "            raw_data_train = (raw_data_orig[0][\"train\"])\n",
    "            raw_data_val = (raw_data_orig[0][\"val\"])\n",
    "            raw_data_test = (raw_data_orig[0][\"test\"])\n",
    "            raw_data_sources = [raw_data_train, raw_data_val, raw_data_test]\n",
    "        else:\n",
    "            raw_data = raw_data\n",
    "            raw_data_sources = [raw_data]\n",
    "        \n",
    "        reviews_df_business_id_column_list = []\n",
    "        reviews_df_user_id_column_list = []\n",
    "        reviews_df_rating_column_list = []\n",
    "        reviews_df_review_text_column_list = []\n",
    "        \n",
    "        for raw_data_source in raw_data_sources:\n",
    "            for review in tqdm.tqdm(raw_data_source):\n",
    "                temp_business_id, temp_user_id, temp_rating, temp_review_text = self.get_review_info(review)\n",
    "\n",
    "                reviews_df_business_id_column_list.append(temp_business_id)\n",
    "                reviews_df_user_id_column_list.append(temp_user_id)\n",
    "                reviews_df_rating_column_list.append(temp_rating)\n",
    "                reviews_df_review_text_column_list.append(temp_review_text)            \n",
    "\n",
    "        reviews_df = pd.DataFrame()\n",
    "        reviews_df[\"business_id\"] = reviews_df_business_id_column_list\n",
    "        reviews_df[\"user_id\"] = reviews_df_user_id_column_list\n",
    "        reviews_df[\"rating\"] = reviews_df_rating_column_list\n",
    "        reviews_df[\"review_text\"] = reviews_df_review_text_column_list  \n",
    "        \n",
    "        business_id_label_encoder = LabelEncoder()\n",
    "        user_id_label_encoder = LabelEncoder()\n",
    "\n",
    "        business_id_label_encoder.fit(reviews_df[\"business_id\"])\n",
    "        user_id_label_encoder.fit(reviews_df[\"user_id\"])\n",
    "\n",
    "        reviews_df[\"business_id\"] = business_id_label_encoder.transform(reviews_df[\"business_id\"])\n",
    "        reviews_df[\"user_id\"] = user_id_label_encoder.transform(reviews_df[\"user_id\"])\n",
    "        self.reviews_df = reviews_df\n",
    "        return reviews_df\n",
    "    def convert_df_to_spark(self, reviews_df=None):\n",
    "        if word2vec_df is None:\n",
    "            reviews_df = self.reviews_df\n",
    "        \n",
    "        if self.using_spark == 1:\n",
    "            reviews_df[\"review_text\"].fillna(\"_\",inplace=True)\n",
    "            schema = T.StructType([\n",
    "                T.StructField(\"business_id\", T.IntegerType(), True),\n",
    "                T.StructField(\"user_id\", T.IntegerType(), True),\n",
    "                T.StructField(\"rating\", T.IntegerType(), True),\n",
    "                T.StructField(\"review_text\", T.StringType(), True)]\n",
    "            )\n",
    "            reviews_df = spark.createDataFrame(reviews_df, schema)        \n",
    "        else:\n",
    "            raise Exception(\"Spark is disabled; cannot convert dataframe to spark\")\n",
    "        \n",
    "        self.reviews_df = reviews_df\n",
    "        \n",
    "        return reviews_df"
   ]
  },
  {
   "cell_type": "code",
   "execution_count": 7,
   "metadata": {
    "id": "O2e9fEv-bbJU"
   },
   "outputs": [
    {
     "name": "stderr",
     "output_type": "stream",
     "text": [
      "c:\\users\\benson\\appdata\\local\\programs\\python\\python37\\lib\\site-packages\\sklearn\\base.py:315: UserWarning: Trying to unpickle estimator CountVectorizer from version 1.0.2 when using version 0.24.2. This might lead to breaking code or invalid results. Use at your own risk.\n",
      "  UserWarning)\n",
      "c:\\users\\benson\\appdata\\local\\programs\\python\\python37\\lib\\site-packages\\sklearn\\base.py:315: UserWarning: Trying to unpickle estimator TfidfTransformer from version 1.0.2 when using version 0.24.2. This might lead to breaking code or invalid results. Use at your own risk.\n",
      "  UserWarning)\n",
      "c:\\users\\benson\\appdata\\local\\programs\\python\\python37\\lib\\site-packages\\sklearn\\base.py:315: UserWarning: Trying to unpickle estimator Pipeline from version 1.0.2 when using version 0.24.2. This might lead to breaking code or invalid results. Use at your own risk.\n",
      "  UserWarning)\n"
     ]
    }
   ],
   "source": [
    "vocab_column_names = [\"ingredients\"]+[\"name\"]\n",
    "file_name_word2vec = \"word2vec_\"+(\"_\".join(vocab_column_names))+\".pkl\"\n",
    "path_file_word2vec = os.path.join(path_folder, \"data\",\"temp\",file_name_word2vec)\n",
    "with open(path_file_word2vec, \"rb\") as f:\n",
    "    recipe_word2vec = pickle.load(f)\n",
    "\n",
    "vocab_column_names = [\"ingredients\"]#+[\"name\"]\n",
    "file_name_tfidf = \"tfidf_\"+(\"_\".join(vocab_column_names))+\".pkl\"\n",
    "path_file_tfidf = os.path.join(path_folder, \"data\",\"temp\",file_name_tfidf)\n",
    "with open(path_file_tfidf, \"rb\") as f:\n",
    "    recipe_tfidf = pickle.load(f)"
   ]
  },
  {
   "cell_type": "code",
   "execution_count": 8,
   "metadata": {},
   "outputs": [],
   "source": [
    "DATASET_VERSION = [\"FULL\", \"FILTER\"][1]  \n",
    "DROP_ONE_TIME_APPEARANCES = 1\n",
    "DROP_SEPARATED_ONE_TIME_APPEARANCES = 0\n",
    "USING_PICS = 0"
   ]
  },
  {
   "cell_type": "code",
   "execution_count": 9,
   "metadata": {},
   "outputs": [],
   "source": [
    "reviews_dataset_reader = Reviews_Dataset_Reader(\n",
    "    path_folder, \n",
    "    DATASET_VERSION, \n",
    "    USING_PICS,\n",
    "    USING_SPARK,\n",
    "    DROP_ONE_TIME_APPEARANCES, \n",
    "    DROP_SEPARATED_ONE_TIME_APPEARANCES,\n",
    ")"
   ]
  },
  {
   "cell_type": "code",
   "execution_count": 10,
   "metadata": {},
   "outputs": [
    {
     "name": "stderr",
     "output_type": "stream",
     "text": [
      "1it [00:10, 10.05s/it]\n",
      "100%|████████████████████████████████████████████████████████████████████████| 87013/87013 [00:00<00:00, 550683.64it/s]\n",
      "100%|████████████████████████████████████████████████████████████████████████| 10860/10860 [00:00<00:00, 496026.80it/s]\n",
      "100%|████████████████████████████████████████████████████████████████████████| 11015/11015 [00:00<00:00, 523575.01it/s]\n"
     ]
    }
   ],
   "source": [
    "_ = reviews_dataset_reader.build_reviews_df()"
   ]
  },
  {
   "cell_type": "code",
   "execution_count": 11,
   "metadata": {},
   "outputs": [],
   "source": [
    "reviews_df = reviews_dataset_reader.reviews_df"
   ]
  },
  {
   "cell_type": "code",
   "execution_count": 12,
   "metadata": {},
   "outputs": [],
   "source": [
    "stop_words = stopwords.words('english')\n",
    "lexicon = [word for word in recipe_tfidf.vocab2idx if word not in stop_words]"
   ]
  },
  {
   "cell_type": "code",
   "execution_count": 13,
   "metadata": {},
   "outputs": [],
   "source": [
    "class Word2vec_Dataset_Reader:\n",
    "    def __init__(self, \n",
    "                 word2vec_model, \n",
    "                 lexicon, \n",
    "                 vector_mode=\"COMPRESSED\",\n",
    "                 using_spark=0,\n",
    "                ):\n",
    "        assert vector_mode in [\"COMPRESSED\",\"SPLIT\"]\n",
    "        self.word2vec_model = word2vec_model\n",
    "        self.lexicon = lexicon\n",
    "        self._vector_mode = vector_mode\n",
    "        embedding_size = self.word2vec_model.vector_size\n",
    "        if self._vector_mode == \"COMPRESSED\":\n",
    "            self.vec_column_names = [\"vec\"]\n",
    "        elif self._vector_mode == \"SPLIT\":\n",
    "            self.vec_column_names = [\"v{0}\".format(i) for i in range(embedding_size)]\n",
    "        self.using_spark = using_spark\n",
    "    def build_word2vec_df(self):\n",
    "        word2vec_vocab = self.word2vec_model.wv.vocab\n",
    "        vocab = [word for word in word2vec_vocab if (word in self.lexicon)]\n",
    "        vecs = [self.word2vec_model.wv[word] for word in vocab]\n",
    "        vecs_arr = np.array(vecs)\n",
    "        \n",
    "        word2vec_df = pd.DataFrame()\n",
    "        word2vec_df[\"review_text\"] = vocab\n",
    "        vec_column_names = self.vec_column_names\n",
    "        vector_mode = self._vector_mode\n",
    "        if vector_mode == \"COMPRESSED\":\n",
    "            word2vec_df[vec_column_names[0]] = vecs\n",
    "        elif vector_mode == \"SPLIT\":\n",
    "            for i in range(len(vec_column_names)):\n",
    "                vec_column_name = vec_column_names[i]\n",
    "                word2vec_df[vec_column_name] = vecs_arr[:, i]\n",
    "        self.word2vec_df = word2vec_df\n",
    "        return word2vec_df\n",
    "    def convert_df_to_spark(self, word2vec_df=None):\n",
    "        if word2vec_df is None:\n",
    "            word2vec_df = self.word2vec_df\n",
    "        vector_mode = self.vector_mode\n",
    "        vec_column_names = self.vec_column_names\n",
    "        if self.using_spark == 1:\n",
    "            if vector_mode == \"COMPRESSED\":\n",
    "                schema = T.StructType([\n",
    "                    T.StructField(\"review_text\", T.StringType(), True)\n",
    "                ]+[T.StructField(vec_column_names[0],T.ArrayType(T.DoubleType()), True)]\n",
    "                )\n",
    "            elif vector_mode == \"SPLIT\":\n",
    "                schema = T.StructType([\n",
    "                    T.StructField(\"review_text\", T.StringType(), True)\n",
    "                ]+[T.StructField(c, T.DoubleType(), True) for c in vec_column_names]\n",
    "                )\n",
    "            word2vec_df = spark.createDataFrame(word2vec_df, schema)\n",
    "        else:\n",
    "            raise Exception(\"Spark is disabled; cannot convert dataframe to spark\")\n",
    "        self.word2vec_df = word2vec_df\n",
    "        return word2vec_df"
   ]
  },
  {
   "cell_type": "code",
   "execution_count": 14,
   "metadata": {},
   "outputs": [],
   "source": [
    "word2vec_dataset_reader = Word2vec_Dataset_Reader(\n",
    "    recipe_word2vec,\n",
    "    lexicon,\n",
    ")\n",
    "word2vec_df = word2vec_dataset_reader.build_word2vec_df()"
   ]
  },
  {
   "cell_type": "code",
   "execution_count": 15,
   "metadata": {},
   "outputs": [],
   "source": [
    "# pretend the filt was stacked with train test and pics words added already"
   ]
  },
  {
   "cell_type": "code",
   "execution_count": 16,
   "metadata": {},
   "outputs": [],
   "source": [
    "# PANDAS VERSION\n",
    "\n",
    "def clean_text_column(text_column):\n",
    "    non_alphanumeric = string.punctuation # constant\n",
    "    text_column = text_column.str.lower()\n",
    "    text_column = text_column.str.translate(str.maketrans(non_alphanumeric, \" \"*len(non_alphanumeric)))\n",
    "    return text_column\n",
    "\n",
    "temp_df = reviews_df\n",
    "temp_df[\"review_id\"] = np.arange(temp_df.shape[0])\n",
    "id_df = temp_df[[\"user_id\",\"business_id\",\"review_id\"]]\n",
    "review_df = temp_df[[\"review_id\",\"review_text\"]]"
   ]
  },
  {
   "cell_type": "code",
   "execution_count": 17,
   "metadata": {},
   "outputs": [
    {
     "name": "stderr",
     "output_type": "stream",
     "text": [
      "c:\\users\\benson\\appdata\\local\\programs\\python\\python37\\lib\\site-packages\\ipykernel_launcher.py:1: SettingWithCopyWarning: \n",
      "A value is trying to be set on a copy of a slice from a DataFrame.\n",
      "Try using .loc[row_indexer,col_indexer] = value instead\n",
      "\n",
      "See the caveats in the documentation: https://pandas.pydata.org/pandas-docs/stable/user_guide/indexing.html#returning-a-view-versus-a-copy\n",
      "  \"\"\"Entry point for launching an IPython kernel.\n"
     ]
    },
    {
     "name": "stdout",
     "output_type": "stream",
     "text": [
      "3095788\n"
     ]
    }
   ],
   "source": [
    "review_df[\"review_text\"] = clean_text_column(review_df[\"review_text\"]).str.split(\" \")\n",
    "\n",
    "reviewTextWords_df = review_df.explode(\"review_text\")\n",
    "\n",
    "print(len(reviewTextWords_df))"
   ]
  },
  {
   "cell_type": "code",
   "execution_count": 18,
   "metadata": {},
   "outputs": [],
   "source": [
    "reviewTextWords_df = reviewTextWords_df[~(reviewTextWords_df[\"review_text\"].isin(stop_words))]\n",
    "reviewTextWords_df = reviewTextWords_df[(reviewTextWords_df[\"review_text\"].isin(recipe_word2vec.wv.vocab))]\n",
    "reviewTextWords_df = reviewTextWords_df[(reviewTextWords_df[\"review_text\"].isin(recipe_tfidf.vocab2idx))]\n",
    "reviewTextWords_df = reviewTextWords_df[(reviewTextWords_df[\"review_text\"] != \"\")]\n",
    "# remove words "
   ]
  },
  {
   "cell_type": "code",
   "execution_count": null,
   "metadata": {},
   "outputs": [],
   "source": []
  },
  {
   "cell_type": "code",
   "execution_count": 19,
   "metadata": {},
   "outputs": [],
   "source": [
    "review_df = review_df[(review_df[\"review_id\"].isin(pd.unique(reviewTextWords_df[\"review_id\"])))]\n",
    "# Remove double singletons\n",
    "\n",
    "business_id_frequency = id_df.groupby([\"business_id\"],as_index=False).agg({\"business_id\": \"count\"}).reset_index()\n",
    "business_id_frequency.rename(columns={\"business_id\":\"count\", \"index\": \"business_id\"},inplace=True)\n",
    "#business_id_frequency = id_df[\"business_id\"].value_counts().reset_index(name='count')\n",
    "user_id_frequency = id_df.groupby([\"user_id\"],as_index=False).agg({\"business_id\": \"count\"}).reset_index()\n",
    "user_id_frequency.rename(columns={\"user_id\":\"count\", \"index\": \"user_id\"},inplace=True)\n",
    "\n",
    "#user_id_frequency = id_df[\"user_id\"].value_counts().reset_index(name='count')\n",
    "one_time_business_id_list = business_id_frequency[business_id_frequency[\"count\"] == 1][\"business_id\"]\n",
    "one_time_user_id_list = user_id_frequency[user_id_frequency[\"count\"] == 1][\"user_id\"]\n",
    "\n",
    "if DROP_ONE_TIME_APPEARANCES == True:\n",
    "    id_df = id_df[\n",
    "        ~( (id_df[\"business_id\"].isin(one_time_business_id_list)) & (id_df[\"user_id\"].isin(one_time_user_id_list)))\n",
    "    ]\n",
    "del business_id_frequency\n",
    "del user_id_frequency\n",
    "del one_time_business_id_list\n",
    "del one_time_user_id_list"
   ]
  },
  {
   "cell_type": "code",
   "execution_count": 20,
   "metadata": {},
   "outputs": [],
   "source": [
    "reviewTextWords_df[\"word_count\"] = 1\n",
    "#reviewTextWord2vec_df = reviewTextWords_df.merge(word2vec_df, on=[\"review_text\"])\n",
    "reviewTextWords_df.sort_values([\"review_id\"], inplace=True)\n",
    "id_review_df = id_df.merge(reviewTextWords_df, on=[\"review_id\"])"
   ]
  },
  {
   "cell_type": "code",
   "execution_count": 21,
   "metadata": {},
   "outputs": [],
   "source": [
    "user_id_review_df = id_review_df[[\"user_id\", \"review_id\",\"review_text\"]]\n",
    "user_id_review_df = user_id_review_df.groupby([\"user_id\"], as_index=False).agg({\n",
    "    \"review_id\": list,\n",
    "    \"review_text\": list})\n",
    "user_id_review_df[\"review_text\"] = user_id_review_df[\"review_text\"].apply(lambda x: \" \".join(x))\n",
    "\n",
    "# Create an instance of the TfidfVectorizer class\n",
    "vectorizer = Pipeline([('count', CountVectorizer(\n",
    "    vocabulary=recipe_tfidf.vocab2idx,\n",
    "    stop_words=stop_words,\n",
    "    max_df=1,\n",
    ")), ('tfidf', TfidfTransformer())])\n",
    "# Use the `fit_transform` method to learn the vocabulary and transform the data\n",
    "vectorizer.fit(user_id_review_df['review_text'])\n",
    "# Extract the vocabulary from the TfidfVectorizer object\n",
    "vocab = vectorizer.named_steps[\"count\"].vocabulary_\n",
    "tfidf_features = vectorizer.transform(user_id_review_df[\"review_text\"])##\n",
    "assert (user_id_review_df.shape[0] == tfidf_features.shape[0])\n",
    "user_id_review_df[\"review_text\"] = user_id_review_df[\"review_text\"].str.split(\" \")\n",
    "tfidf_features_column = pd.Series([tfidf_features[i].A[0] for i in range(tfidf_features.shape[0])])\n",
    "def get_tfidfs_sentence(row_idx, words):\n",
    "    return [(tfidf_features_column.iloc[row_idx][recipe_tfidf.vocab2idx[word]]) for word in words]\n",
    "word_counts_column = [get_tfidfs_sentence(i, words) for i, words in enumerate(user_id_review_df[\"review_text\"].values)]\n",
    "\n",
    "user_id_review_df[\"word_count\"] = word_counts_column\n",
    "\n",
    "user_id_reviewTextWords_df = user_id_review_df.explode([\"review_id\", \"review_text\",\"word_count\"])\n",
    "\n",
    "user_id_reviewTextWords_df = user_id_reviewTextWords_df.merge(word2vec_df, on=[\"review_text\"])\n",
    "\n",
    "id_review_df_agg_user = (\n",
    "    user_id_reviewTextWords_df.groupby([\"user_id\"], as_index=False).agg(\n",
    "        {\"vec\": list, \"word_count\": np.sum})\n",
    ")\n",
    "id_review_df_agg_user[\"vec\"] = id_review_df_agg_user[\"vec\"].apply(lambda x: np.sum(np.array(x), axis=0))\n",
    "id_review_df_agg_user = id_review_df_agg_user.rename(\n",
    "    columns={\"vec\": \"user_vec\", \"word_count\": \"user_word_count\"}\n",
    ")\n",
    "\n",
    "id_review_df_agg_user_review = (\n",
    "    user_id_reviewTextWords_df.copy().groupby([\"review_id\"], as_index=False).agg(\n",
    "        {\"vec\": list, \"word_count\": np.sum})\n",
    ")\n",
    "id_review_df_agg_user_review[\"vec\"] = id_review_df_agg_user_review[\"vec\"].apply(lambda x: np.sum(np.array(x), axis=0))"
   ]
  },
  {
   "cell_type": "code",
   "execution_count": 22,
   "metadata": {},
   "outputs": [],
   "source": [
    "business_id_review_df = id_review_df[[\"business_id\", \"review_id\", \"review_text\"]]\n",
    "business_id_review_df = business_id_review_df.groupby([\"business_id\"], as_index=False).agg({\n",
    "    \"review_id\": list,\n",
    "    \"review_text\": list})\n",
    "business_id_review_df[\"review_text\"] = business_id_review_df[\"review_text\"].apply(lambda x: \" \".join(x))\n",
    "\n",
    "# Create an instance of the TfidfVectorizer class\n",
    "vectorizer = Pipeline([('count', CountVectorizer(\n",
    "    vocabulary=recipe_tfidf.vocab2idx,\n",
    "    stop_words=stop_words,\n",
    "    max_df=1,\n",
    ")), ('tfidf', TfidfTransformer())])\n",
    "# Use the `fit_transform` method to learn the vocabulary and transform the data\n",
    "vectorizer.fit(business_id_review_df['review_text'])\n",
    "# Extract the vocabulary from the TfidfVectorizer object\n",
    "vocab = vectorizer.named_steps[\"count\"].vocabulary_\n",
    "tfidf_features = vectorizer.transform(business_id_review_df[\"review_text\"])##\n",
    "assert (business_id_review_df.shape[0] == tfidf_features.shape[0])\n",
    "business_id_review_df[\"review_text\"] = business_id_review_df[\"review_text\"].str.split(\" \")\n",
    "tfidf_features_column = pd.Series([tfidf_features[i].A[0] for i in range(tfidf_features.shape[0])])\n",
    "def get_tfidfs_sentence(row_idx, words):\n",
    "    return [(tfidf_features_column.iloc[row_idx][recipe_tfidf.vocab2idx[word]]) for word in words]\n",
    "word_counts_column = [get_tfidfs_sentence(i, words) for i, words in enumerate(business_id_review_df[\"review_text\"].values)]\n",
    "\n",
    "business_id_review_df[\"word_count\"] = word_counts_column\n",
    "\n",
    "business_id_reviewTextWords_df = business_id_review_df.explode([\"review_id\", \"review_text\",\"word_count\"])\n",
    "\n",
    "business_id_reviewTextWords_df = business_id_reviewTextWords_df.merge(word2vec_df, on=[\"review_text\"])\n",
    "\n",
    "id_review_df_agg_business = (\n",
    "    business_id_reviewTextWords_df.groupby([\"business_id\"], as_index=False).agg(\n",
    "        {\"vec\": list, \"word_count\": np.sum})\n",
    ")\n",
    "id_review_df_agg_business[\"vec\"] = id_review_df_agg_business[\"vec\"].apply(lambda x: np.sum(np.array(x), axis=0))\n",
    "id_review_df_agg_business = id_review_df_agg_business.rename(\n",
    "    columns={\"vec\": \"business_vec\", \"word_count\": \"business_word_count\"}\n",
    ")\n",
    "\n",
    "id_review_df_agg_business_review = (\n",
    "    business_id_reviewTextWords_df.groupby([\"review_id\"], as_index=False).agg(\n",
    "        {\"vec\": list, \"word_count\": np.sum})\n",
    ")\n",
    "id_review_df_agg_business_review[\"vec\"] = id_review_df_agg_business_review[\"vec\"].apply(lambda x: np.sum(np.array(x), axis=0))"
   ]
  },
  {
   "cell_type": "code",
   "execution_count": 23,
   "metadata": {},
   "outputs": [],
   "source": [
    "id2vec_df = id_review_df.copy()"
   ]
  },
  {
   "cell_type": "code",
   "execution_count": 24,
   "metadata": {},
   "outputs": [],
   "source": [
    "id2vec_df = id2vec_df[[\"user_id\",\"business_id\",\"review_id\"]].drop_duplicates()"
   ]
  },
  {
   "cell_type": "code",
   "execution_count": 25,
   "metadata": {},
   "outputs": [],
   "source": [
    "id2vec_df = id2vec_df.merge(id_review_df_agg_user, on=[\"user_id\"])\n",
    "id2vec_df = id2vec_df.merge(id_review_df_agg_user_review, on=[\"review_id\"])\n",
    "id2vec_df[\"user_vec\"] -= id2vec_df[\"vec\"]\n",
    "id2vec_df[\"user_word_count\"] -=id2vec_df[\"word_count\"]\n",
    "id2vec_df = id2vec_df[id2vec_df[\"user_word_count\"] != 0]\n",
    "id2vec_df[\"user_vec\"] /= id2vec_df[\"user_word_count\"]\n",
    "id2vec_df.drop(columns=[\"vec\",\"word_count\"],inplace=True)"
   ]
  },
  {
   "cell_type": "code",
   "execution_count": 26,
   "metadata": {},
   "outputs": [],
   "source": [
    "id2vec_df = id2vec_df.merge(id_review_df_agg_business, on=[\"business_id\"])\n",
    "id2vec_df = id2vec_df.merge(id_review_df_agg_business_review, on=[\"review_id\"])\n",
    "id2vec_df[\"business_vec\"] -= id2vec_df[\"vec\"]\n",
    "id2vec_df[\"business_word_count\"] -=id2vec_df[\"word_count\"]\n",
    "id2vec_df = id2vec_df[id2vec_df[\"business_word_count\"] != 0]\n",
    "id2vec_df[\"business_vec\"] /= id2vec_df[\"business_word_count\"]\n",
    "id2vec_df.drop(columns=[\"vec\",\"word_count\"],inplace=True)"
   ]
  },
  {
   "cell_type": "code",
   "execution_count": 27,
   "metadata": {},
   "outputs": [],
   "source": [
    "id2vec_df.drop(columns=[\"user_word_count\",\"business_word_count\"],inplace=True)"
   ]
  },
  {
   "cell_type": "code",
   "execution_count": 28,
   "metadata": {},
   "outputs": [],
   "source": [
    "#id2vec_df = id2vec_df.drop(columns=[\"vec_curr\",\"word_count_curr\",\"user_word_count\",\"business_word_count\"])\n",
    "concat_vecs = (\n",
    "    id2vec_df[\"user_vec\"].apply(list) + id2vec_df[\"business_vec\"].apply(list)\n",
    ")"
   ]
  },
  {
   "cell_type": "code",
   "execution_count": 29,
   "metadata": {},
   "outputs": [],
   "source": [
    "train_X_curr_excluded_from_average = np.array(concat_vecs.values.tolist())\n",
    "train_y_curr_excluded_from_average = np.ones(train_X_curr_excluded_from_average.shape[0])"
   ]
  },
  {
   "cell_type": "code",
   "execution_count": null,
   "metadata": {},
   "outputs": [],
   "source": []
  },
  {
   "cell_type": "code",
   "execution_count": 30,
   "metadata": {
    "scrolled": true
   },
   "outputs": [],
   "source": [
    "#id2vec_df = id2vec_df.drop(columns=[\"vec_curr\",\"word_count_curr\",\"user_word_count\",\"business_word_count\"])\n",
    "concat_vecs = (\n",
    "    id2vec_df[\"user_vec\"].apply(list) + id2vec_df[\"business_vec\"].apply(list)\n",
    ")\n",
    "\n",
    "train_X_curr_excluded_from_average = np.array(concat_vecs.values.tolist())\n",
    "train_y_curr_excluded_from_average = np.ones(train_X_curr_excluded_from_average.shape[0])\n",
    "\n",
    "id_review_df_agg_user[\"user_vec\"] /= id_review_df_agg_user[\"user_word_count\"]\n",
    "id_review_df_agg_business[\"business_vec\"] /= id_review_df_agg_business[\"business_word_count\"]\n",
    "\n",
    "user_mapper = id_review_df_agg_user[[\"user_id\",\"user_vec\"]].set_index(\"user_id\")[\"user_vec\"].to_dict()\n",
    "business_mapper = id_review_df_agg_business[[\"business_id\", \"business_vec\"]].set_index(\"business_id\")[\"business_vec\"].to_dict()\n",
    "\n",
    "valid_user_id_column = id2vec_df[\"user_id\"].values.tolist()\n",
    "valid_business_id_column = id2vec_df[\"business_id\"].values.tolist()\n",
    "#valid_user_id_column = id_review_df[\"user_id\"].values.tolist()\n",
    "#valid_business_id_column = id_review_df[\"business_id\"].values.tolist()\n",
    "\n",
    "pair_existence_checker = defaultdict(lambda: -1)\n",
    "for pair in list(zip(valid_user_id_column,valid_business_id_column)):\n",
    "    pair_existence_checker[pair] = 1\n"
   ]
  },
  {
   "cell_type": "code",
   "execution_count": 31,
   "metadata": {},
   "outputs": [
    {
     "name": "stderr",
     "output_type": "stream",
     "text": [
      "100%|███████████████████████████████████████████████████████████████████████████| 35739/35739 [00:43<00:00, 829.71it/s]\n"
     ]
    }
   ],
   "source": [
    "# Unseen sampling (PCA verifies that this is a valid operation)\n",
    "non_existing_interaction_pairs = []\n",
    "pair_non_existence_checker = defaultdict(lambda: -1)\n",
    "\n",
    "sampled_user_id_list = np.random.choice(valid_user_id_column, size=len(set(valid_user_id_column)))\n",
    "business_id_list_ = list(set(valid_business_id_column)).copy()\n",
    "\n",
    "business_amount_per_user = train_X_curr_excluded_from_average.shape[0] // (len(set(valid_user_id_column)))\n",
    "\n",
    "max_sampling_amounts = [\n",
    "    #np.floor(business_amount_per_user), \n",
    "    np.ceil(business_amount_per_user)\n",
    "    ]\n",
    "train_X_averages_with_curr_bc_unseen = []\n",
    "train_y_averages_with_curr_bc_unseen = []\n",
    "concat_embeddings_maxes = []\n",
    "for temp_user_id in tqdm.tqdm(sampled_user_id_list):\n",
    "    sampled_amount = 0\n",
    "    business_id_iterator = 0\n",
    "    np.random.shuffle(business_id_list_)\n",
    "    max_sampling_amount = np.random.choice(max_sampling_amounts)\n",
    "    while sampled_amount < max_sampling_amount:\n",
    "        temp_business_id = business_id_list_[business_id_iterator]\n",
    "        pair = [temp_user_id, temp_business_id]\n",
    "        if ((pair_existence_checker[tuple(pair)] == -1) and (pair_non_existence_checker[tuple(pair)] == -1)):\n",
    "            pair_non_existence_checker[tuple(pair)] = 1\n",
    "            #non_existing_interaction_pairs.append(pair)\n",
    "            concat_embeddings = list(user_mapper[temp_user_id]) + list(business_mapper[temp_business_id])\n",
    "            train_X_averages_with_curr_bc_unseen.append(concat_embeddings)\n",
    "            train_y_averages_with_curr_bc_unseen.append(0)\n",
    "            sampled_amount += 1\n",
    "        business_id_iterator += 1\n",
    "assert all([(pair_existence_checker[tuple(pair)]==-1) for pair in non_existing_interaction_pairs])\n",
    "\n",
    "train_X_averages_with_curr_bc_unseen = np.array(train_X_averages_with_curr_bc_unseen)\n",
    "train_y_averages_with_curr_bc_unseen = np.array(train_y_averages_with_curr_bc_unseen)"
   ]
  },
  {
   "cell_type": "code",
   "execution_count": null,
   "metadata": {},
   "outputs": [],
   "source": []
  },
  {
   "cell_type": "code",
   "execution_count": 32,
   "metadata": {
    "scrolled": false
   },
   "outputs": [
    {
     "data": {
      "text/plain": [
       "<matplotlib.collections.PathCollection at 0x1e318c7f808>"
      ]
     },
     "execution_count": 32,
     "metadata": {},
     "output_type": "execute_result"
    },
    {
     "data": {
      "image/png": "[encoded data removed]",
      "text/plain": [
       "<Figure size 576x576 with 1 Axes>"
      ]
     },
     "metadata": {
      "needs_background": "light"
     },
     "output_type": "display_data"
    }
   ],
   "source": [
    "existing_interaction_pairs = train_X_curr_excluded_from_average\n",
    "non_existing_interaction_pairs = train_X_averages_with_curr_bc_unseen\n",
    "train_X_seen = train_X_curr_excluded_from_average\n",
    "train_X_unseen = train_X_averages_with_curr_bc_unseen\n",
    "train_y_seen = train_y_curr_excluded_from_average\n",
    "train_y_unseen = train_y_averages_with_curr_bc_unseen\n",
    "\n",
    "train_dataset_size = len(existing_interaction_pairs)+len(non_existing_interaction_pairs)\n",
    "train_dataset_indexer = np.arange(train_dataset_size)\n",
    "np.random.shuffle(train_dataset_indexer)\n",
    "\n",
    "train_X = np.vstack((train_X_curr_excluded_from_average,train_X_averages_with_curr_bc_unseen))\n",
    "train_y = np.hstack((train_y_curr_excluded_from_average,train_y_averages_with_curr_bc_unseen))\n",
    "\n",
    "train_X = train_X[train_dataset_indexer]\n",
    "train_y = train_y[train_dataset_indexer]\n",
    "X_train, X_val, y_train, y_val = train_test_split(train_X, train_y, test_size=0.25)\n",
    "\n",
    "\n",
    "pca = PCA(2)\n",
    "temp_X_pca_input = train_X\n",
    "temp_y_pca_input = train_y\n",
    "\n",
    "Z = pca.fit_transform(temp_X_pca_input)\n",
    "fig, ax = plt.subplots(figsize=(8,8))\n",
    "ax.scatter(Z[:,0], Z[:,1],c=temp_y_pca_input, alpha=0.1, s=5, cmap=\"winter\")"
   ]
  },
  {
   "cell_type": "code",
   "execution_count": 33,
   "metadata": {},
   "outputs": [
    {
     "data": {
      "text/plain": [
       "(2.0, 0)"
      ]
     },
     "execution_count": 33,
     "metadata": {},
     "output_type": "execute_result"
    },
    {
     "data": {
      "image/png": "[encoded data removed]",
      "text/plain": [
       "<Figure size 720x720 with 2 Axes>"
      ]
     },
     "metadata": {
      "needs_background": "light"
     },
     "output_type": "display_data"
    }
   ],
   "source": [
    "from sklearn.linear_model import LogisticRegression\n",
    "log_reg = LogisticRegression(max_iter=800, class_weight=\"balanced\")\n",
    "log_reg.fit(X_train, y_train)\n",
    "#X_val = ss.transform(X_val)\n",
    "lr_y_pred = log_reg.predict(X_val)\n",
    "\n",
    "y_true = y_val\n",
    "y_pred = lr_y_pred\n",
    "conf_matrix = confusion_matrix(y_true, y_pred,normalize=\"true\")\n",
    "fig, ax2 = plt.subplots(figsize=(10,10)) \n",
    "ax2 = sns.heatmap(conf_matrix, annot=True) #notation: \"annot\" not \"annote\"\n",
    "y_lims = ax2.get_ylim()\n",
    "ax2.set_ylim(sum(y_lims), 0)"
   ]
  },
  {
   "cell_type": "code",
   "execution_count": null,
   "metadata": {},
   "outputs": [
    {
     "name": "stdout",
     "output_type": "stream",
     "text": [
      "Epoch 1/5\n",
      " 178/1242 [===>..........................] - ETA: 2s - loss: 0.6624 - accuracy: 0.5838"
     ]
    }
   ],
   "source": [
    "model = Sequential()\n",
    "model.add(Dense(50, input_shape=(train_X.shape[1],), activation='relu'))\n",
    "model.add(Dense(100, activation='relu'))\n",
    "#model.add(Dense(100, activation='relu'))\n",
    "model.add(Dense(1, activation='sigmoid'))\n",
    "# Compile model\n",
    "model.compile(loss='binary_crossentropy', optimizer='adam', metrics=['accuracy'])\n",
    "model.fit(X_train, y_train, epochs=5, batch_size=100)"
   ]
  },
  {
   "cell_type": "code",
   "execution_count": null,
   "metadata": {},
   "outputs": [],
   "source": []
  }
 ],
 "metadata": {
  "colab": {
   "provenance": []
  },
  "gpuClass": "standard",
  "kernelspec": {
   "display_name": "Python 3",
   "language": "python",
   "name": "python3"
  },
  "language_info": {
   "codemirror_mode": {
    "name": "ipython",
    "version": 3
   },
   "file_extension": ".py",
   "mimetype": "text/x-python",
   "name": "python",
   "nbconvert_exporter": "python",
   "pygments_lexer": "ipython3",
   "version": "3.7.4"
  }
 },
 "nbformat": 4,
 "nbformat_minor": 1
}
