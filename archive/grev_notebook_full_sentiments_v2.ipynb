{
 "cells": [
  {
   "cell_type": "code",
   "execution_count": 1,
   "metadata": {
    "id": "NJC4K7SmVl5V"
   },
   "outputs": [],
   "source": [
    "#!pip install geopandas"
   ]
  },
  {
   "cell_type": "code",
   "execution_count": 2,
   "metadata": {},
   "outputs": [
    {
     "name": "stderr",
     "output_type": "stream",
     "text": [
      "[nltk_data] Downloading package stopwords to\n",
      "[nltk_data]     C:\\Users\\Benson\\AppData\\Roaming\\nltk_data...\n",
      "[nltk_data]   Package stopwords is already up-to-date!\n",
      "[nltk_data] Downloading package stopwords to\n",
      "[nltk_data]     C:\\Users\\Benson\\AppData\\Roaming\\nltk_data...\n",
      "[nltk_data]   Package stopwords is already up-to-date!\n"
     ]
    }
   ],
   "source": [
    "import numpy as np # linear algebra\n",
    "import pandas as pd # data processing, CSV file I/O (e.g. pd.read_csv)\n",
    "import matplotlib.pyplot as plt\n",
    "plt.style.use(\"ggplot\")\n",
    "import seaborn as sns\n",
    "\n",
    "import re\n",
    "import pickle\n",
    "import os\n",
    "from collections import defaultdict\n",
    "from tqdm import tqdm\n",
    "from sklearn.feature_extraction.text import TfidfVectorizer\n",
    "from sklearn.feature_extraction.text import CountVectorizer\n",
    "from sklearn.feature_extraction.text import TfidfTransformer\n",
    "from sklearn.pipeline import make_pipeline\n",
    "from sklearn.pipeline import Pipeline\n",
    "from sklearn.model_selection import train_test_split\n",
    "from sklearn.linear_model import LogisticRegression\n",
    "from sklearn.metrics import confusion_matrix\n",
    "from sklearn.metrics import classification_report\n",
    "\n",
    "import nltk\n",
    "from nltk.corpus import stopwords\n",
    "nltk.download('stopwords')\n",
    "stop_words = stopwords.words(\"english\")\n",
    "\n",
    "import gensim\n",
    "\n",
    "import sys\n",
    "\n",
    "path_folder = (os.path.abspath(os.path.join((os.path.abspath(os.path.join(os.getcwd(), os.pardir))),os.pardir)))\n",
    "\n",
    "google_colab = 0\n",
    "if google_colab == 1:\n",
    "    from google.colab import drive\n",
    "    drive.mount('/content/drive/')\n",
    "    path_folder = \"/content/drive/MyDrive/dsprojects/dsproject_grev/\"\n",
    "\n",
    "sys.path.insert(0, path_folder+\"/src/features/\")\n",
    "import util"
   ]
  },
  {
   "cell_type": "code",
   "execution_count": 3,
   "metadata": {},
   "outputs": [],
   "source": [
    "USING_SPARK = 0"
   ]
  },
  {
   "cell_type": "code",
   "execution_count": 4,
   "metadata": {},
   "outputs": [],
   "source": [
    "DATASET_VERSION = [\"FULL\", \"FILTER\"][1]  \n",
    "DROP_ONE_TIME_APPEARANCES = 1\n",
    "DROP_SEPARATED_ONE_TIME_APPEARANCES = 0\n",
    "USING_PICS = 0"
   ]
  },
  {
   "cell_type": "code",
   "execution_count": 5,
   "metadata": {},
   "outputs": [],
   "source": [
    "reviews_dataset_reader = util.Reviews_Dataset_Reader(\n",
    "    path_folder, \n",
    "    DATASET_VERSION, \n",
    "    USING_PICS,\n",
    "    USING_SPARK,\n",
    "    DROP_ONE_TIME_APPEARANCES, \n",
    "    DROP_SEPARATED_ONE_TIME_APPEARANCES,\n",
    ")"
   ]
  },
  {
   "cell_type": "code",
   "execution_count": 6,
   "metadata": {},
   "outputs": [
    {
     "name": "stderr",
     "output_type": "stream",
     "text": [
      "1it [00:17, 17.87s/it]\n",
      "100%|████████████████████████████████████████████████████████████████████████| 87013/87013 [00:00<00:00, 345842.53it/s]\n",
      "100%|████████████████████████████████████████████████████████████████████████| 10860/10860 [00:00<00:00, 262657.95it/s]\n",
      "100%|████████████████████████████████████████████████████████████████████████| 11015/11015 [00:00<00:00, 338101.80it/s]\n"
     ]
    }
   ],
   "source": [
    "_ = reviews_dataset_reader.build_reviews_df()"
   ]
  },
  {
   "cell_type": "code",
   "execution_count": 7,
   "metadata": {},
   "outputs": [],
   "source": [
    "reviews_df = reviews_dataset_reader.reviews_df"
   ]
  },
  {
   "cell_type": "code",
   "execution_count": 8,
   "metadata": {
    "id": "byXR0VgiEcUa"
   },
   "outputs": [],
   "source": [
    "review_text_column_name = \"review_text\"\n",
    "rating_column_name = \"rating\"\n",
    "binarized_rating_column_name = \"binarized_rating\"\n",
    "target_column_name = binarized_rating_column_name\n",
    "\n",
    "rating_column = reviews_df[rating_column_name]\n",
    "binarized_rating_column = (rating_column > 4).astype(int)\n",
    "target_column = binarized_rating_column\n",
    "reviews_df[target_column_name] = target_column\n",
    "\n",
    "review_text_column = reviews_df[review_text_column_name]\n",
    "review_text_column = review_text_column.fillna(\"\")\n",
    "review_text_column = util.clean_text_column(review_text_column)\n",
    "reviews_df[review_text_column_name] = review_text_column\n",
    "\n",
    "X = reviews_df\n",
    "y_column_name = target_column_name\n",
    "y = reviews_df[y_column_name]\n",
    "X_train, X_test, y_train, y_test = train_test_split(X, y,stratify=y)"
   ]
  },
  {
   "cell_type": "code",
   "execution_count": 9,
   "metadata": {
    "colab": {
     "base_uri": "https://localhost:8080/"
    },
    "id": "EwRmnRUBEg_V",
    "outputId": "dcb5491d-7ad0-4afd-b1b8-a8f82a6d2935"
   },
   "outputs": [
    {
     "name": "stdout",
     "output_type": "stream",
     "text": [
      "Removed stop words\n"
     ]
    }
   ],
   "source": [
    "def get_negative_words_of_stop_words_list(stop_words_list):\n",
    "    negative_words = [\"no\",\"not\",\"t\",\"nor\",\"against\"] # constant\n",
    "    contraction_not_words = [word for word in stop_words_list if word[-2:]==\"'t\"]\n",
    "    contraction_not_words_pre_apostrophe = [word[:-2] for word in contraction_not_words]\n",
    "    negative_words += contraction_not_words\n",
    "    negative_words += contraction_not_words_pre_apostrophe\n",
    "    return negative_words\n",
    "\n",
    "stop_words = stopwords.words(\"english\")\n",
    "negative_words = get_negative_words_of_stop_words_list(stop_words)\n",
    "#raw_recipes_df = pd.read_csv(os.path.join(PATH_FOLDER,\"RAW_recipes.csv\"))\n",
    "for word in negative_words: stop_words.remove(word);\n",
    "#stop_words_list += (cooking_related_words)\n",
    "\n",
    "print(\"Removed stop words\")\n",
    "####"
   ]
  },
  {
   "cell_type": "code",
   "execution_count": 11,
   "metadata": {},
   "outputs": [
    {
     "data": {
      "text/plain": [
       "0.6277490244738689"
      ]
     },
     "execution_count": 11,
     "metadata": {},
     "output_type": "execute_result"
    }
   ],
   "source": [
    "np.random.seed(1)\n",
    "reviews_df = reviews_df.sample(frac=0.75)\n",
    "threshold = int(reviews_df.shape[0]*0.75)\n",
    "train_reviews_df = reviews_df.iloc[:threshold,]\n",
    "#train_reviews_df[\"binarized_rating\"].mean()"
   ]
  },
  {
   "cell_type": "code",
   "execution_count": 12,
   "metadata": {},
   "outputs": [
    {
     "data": {
      "text/plain": [
       "0.6285448400842435"
      ]
     },
     "execution_count": 12,
     "metadata": {},
     "output_type": "execute_result"
    }
   ],
   "source": [
    "test_reviews_df = reviews_df.iloc[threshold:,]\n",
    "#test_reviews_df[\"binarized_rating\"].mean()"
   ]
  },
  {
   "cell_type": "code",
   "execution_count": 13,
   "metadata": {},
   "outputs": [],
   "source": [
    "pipeline = Pipeline([('count', CountVectorizer(stop_words=stop_words)),\n",
    "              ('tfidf', TfidfTransformer())])\n",
    "\n",
    "vectorizer = util.Temp_Recipe_Vectorizer_Builder(pipeline)\n",
    "\n",
    "tfidf_group_collapser = util.Tfidf_Group_Collapser(\n",
    "    train_reviews_df,\n",
    "    target_column_name,\n",
    "    review_text_column_name,\n",
    "    vectorizer\n",
    ")"
   ]
  },
  {
   "cell_type": "code",
   "execution_count": 14,
   "metadata": {},
   "outputs": [
    {
     "name": "stderr",
     "output_type": "stream",
     "text": [
      "100%|█████████████████████████████████████████████████████████████████████████| 38449/38449 [00:02<00:00, 18754.89it/s]\n",
      "100%|█████████████████████████████████████████████████████████████████████████| 22800/22800 [00:00<00:00, 24486.62it/s]\n"
     ]
    }
   ],
   "source": [
    "result = tfidf_group_collapser.collapse_by_strjoin()"
   ]
  },
  {
   "cell_type": "code",
   "execution_count": 15,
   "metadata": {},
   "outputs": [
    {
     "data": {
      "text/plain": [
       "[1, 0]"
      ]
     },
     "execution_count": 15,
     "metadata": {},
     "output_type": "execute_result"
    }
   ],
   "source": [
    "tfidf_group_collapser.temp_labels"
   ]
  },
  {
   "cell_type": "code",
   "execution_count": 16,
   "metadata": {
    "scrolled": true
   },
   "outputs": [],
   "source": [
    "result = tfidf_group_collapser.build_temp_word2label_df()"
   ]
  },
  {
   "cell_type": "code",
   "execution_count": 19,
   "metadata": {
    "id": "t-iV7zyhFCMd"
   },
   "outputs": [],
   "source": [
    "############\n",
    "N = 100\n",
    "top_n_tfidf_negative_skewed_words_by_contrast_list = (\n",
    "    result[result[\"arg_label\"]==1].sort_values([\"stdev\"],ascending=False)[\"word\"].head(N).values\n",
    ")\n",
    "learned_mapping = dict(zip(list(top_n_tfidf_negative_skewed_words_by_contrast_list),list(range(N))))\n",
    "learned_count_vectorizer = CountVectorizer(vocabulary=learned_mapping)\n",
    "\n",
    "##########\n",
    "\n",
    "X_train = learned_count_vectorizer.transform(train_reviews_df[review_text_column_name]).tocsc().A\n",
    "\n",
    "y_train = 1-(train_reviews_df[target_column_name].astype(int))"
   ]
  },
  {
   "cell_type": "code",
   "execution_count": 20,
   "metadata": {},
   "outputs": [],
   "source": [
    "X_test = learned_count_vectorizer.transform(test_reviews_df[review_text_column_name]).tocsc().A\n",
    "\n",
    "y_test = 1-(test_reviews_df[target_column_name].astype(int))"
   ]
  },
  {
   "cell_type": "code",
   "execution_count": 21,
   "metadata": {
    "colab": {
     "base_uri": "https://localhost:8080/"
    },
    "id": "siVU4BXvz5i0",
    "outputId": "dcc0020e-1d2a-42ee-c96e-23b42a2f7efe"
   },
   "outputs": [
    {
     "name": "stdout",
     "output_type": "stream",
     "text": [
      "0.372250975526131\n",
      "0.6433991228070175\n",
      "0.6462280701754386\n",
      "0.6455263157894737\n",
      "0.647061403508772\n",
      "0.6458771929824562\n",
      "0.6447368421052632\n",
      "0.645438596491228\n",
      "0.6454166666666666\n",
      "0.6440570175438597\n",
      "0.6450877192982456\n",
      "0.6571974335112896\n"
     ]
    }
   ],
   "source": [
    "###########\n",
    "\n",
    "def fit_model_subset(X_train_, y_train_):\n",
    "    model = LogisticRegression(class_weight=\"balanced\",max_iter=300)\n",
    "    model.fit(X_train_, y_train_)\n",
    "    predictions = model.predict(X_train_)\n",
    "    acc = np.mean(predictions==y_train_)\n",
    "    print(acc)\n",
    "    #confusion_matrix_array = confusion_matrix(y_train_, predictions, normalize=\"true\")\n",
    "    #confusion_matrix_array\n",
    "    return model\n",
    "\n",
    "def undersampling_fitting(\n",
    "    X_train_, \n",
    "    y_train_,\n",
    "    num_subset_model_fittings = 10\n",
    "    ):\n",
    "    good_reviews_indices = np.where(y_train_ == 0)[0]\n",
    "    bad_reviews_indices = np.where(y_train_ == 1)[0]\n",
    "    print(len(bad_reviews_indices)/(len(bad_reviews_indices) + len(good_reviews_indices)))\n",
    "    subset_size = bad_reviews_indices.shape[0] # len(good_reviews_indices) // num_subset_model_fittings\n",
    "    subset_models = []\n",
    "\n",
    "    for i in (range(num_subset_model_fittings)):\n",
    "        good_reviews_subset_indices = np.random.choice(good_reviews_indices,size=subset_size)\n",
    "\n",
    "        good_reviews_subset = X_train_[good_reviews_subset_indices,:]\n",
    "        bad_reviews = X_train_[bad_reviews_indices,:]\n",
    "\n",
    "        X_train_subset = np.vstack([good_reviews_subset, bad_reviews])\n",
    "        y_train_subset = np.array(\n",
    "            [0 for _ in range(good_reviews_subset.shape[0])] + \\\n",
    "            [1 for _ in range(bad_reviews.shape[0])]\n",
    "        )\n",
    "\n",
    "        shuffler_indices = np.arange((good_reviews_subset.shape[0]) + (bad_reviews.shape[0]))\n",
    "        np.random.shuffle(shuffler_indices)\n",
    "\n",
    "        X_train_subset_shuffled = X_train_subset[shuffler_indices]\n",
    "        y_train_subset_shuffled = y_train_subset[shuffler_indices]\n",
    "\n",
    "        #print(X_train_subset_shuffled.shape)\n",
    "\n",
    "        subset_model = fit_model_subset(X_train_subset_shuffled, y_train_subset_shuffled)\n",
    "        subset_models.append(subset_model)\n",
    "\n",
    "    return subset_models\n",
    "\n",
    "##############\n",
    "\n",
    "subset_models = undersampling_fitting(X_train, y_train, 10)\n",
    "\n",
    "model_coefs = np.array([model.coef_ for model in subset_models])\n",
    "model_intercepts = np.array([model.intercept_ for model in subset_models])\n",
    "model_coefs = np.squeeze(model_coefs,1)\n",
    "model_intercepts = np.squeeze(model_intercepts,1)\n",
    "model_coefs_std = np.std(model_coefs, axis=1, keepdims=1,ddof=0)\n",
    "model_coefs_ = model_coefs / model_coefs_std\n",
    "model_coefs_avg = np.mean(model_coefs_,axis=0)\n",
    "model_intercepts_ = model_intercepts #/ np.squeeze(model_coefs_std,1)\n",
    "model_intercepts_avg = np.mean(model_intercepts_)\n",
    "\n",
    "########################\n",
    "\n",
    "sigmoid = lambda x: 1/(1+(np.exp(-x)))\n",
    "\n",
    "predictions_prob_undersampled = sigmoid((X_test @ np.expand_dims(model_coefs_avg,1)+model_intercepts_avg))\n",
    "\n",
    "predictions = (predictions_prob_undersampled > 0.5).astype(int)\n",
    "\n",
    "predictions = np.squeeze(predictions,1)\n",
    "\n",
    "y_test.shape, predictions.shape\n",
    "\n",
    "acc = np.mean(predictions==y_test)\n",
    "print(acc)"
   ]
  },
  {
   "cell_type": "code",
   "execution_count": 29,
   "metadata": {
    "colab": {
     "base_uri": "https://localhost:8080/",
     "height": 300
    },
    "id": "jv2KPenZ5LTK",
    "outputId": "5212b2a4-0663-471c-ea22-ade9d180ac5a"
   },
   "outputs": [
    {
     "name": "stdout",
     "output_type": "stream",
     "text": [
      "[[0.69181018 0.30818982]\n",
      " [0.40137131 0.59862869]]\n"
     ]
    }
   ],
   "source": [
    "confusion_matrix_array = confusion_matrix(y_test, predictions, normalize=\"true\")\n",
    "print(confusion_matrix_array)\n",
    "#f, ax = plt.subplots(figsize=(9, 9))\n",
    "#heatmap = sns.heatmap(confusion_matrix_array, annot=True)"
   ]
  },
  {
   "cell_type": "code",
   "execution_count": 30,
   "metadata": {
    "colab": {
     "base_uri": "https://localhost:8080/",
     "height": 282
    },
    "id": "jMA0VtveAIhh",
    "outputId": "3e65567c-48e4-4972-8589-8c19a6875827"
   },
   "outputs": [
    {
     "data": {
      "text/plain": [
       "<matplotlib.axes._subplots.AxesSubplot at 0x17545def888>"
      ]
     },
     "execution_count": 30,
     "metadata": {},
     "output_type": "execute_result"
    },
    {
     "data": {
      "image/png": "[encoded data removed]",
      "text/plain": [
       "<Figure size 432x288 with 1 Axes>"
      ]
     },
     "metadata": {},
     "output_type": "display_data"
    }
   ],
   "source": [
    "pd.Series(index=top_n_tfidf_negative_skewed_words_by_contrast_list, \n",
    "          data=model_coefs_avg).sort_values(ascending=False).head(20)[::-1].plot.barh()#(type=\"barh\")"
   ]
  },
  {
   "cell_type": "code",
   "execution_count": null,
   "metadata": {
    "id": "kY4hqWRyG39t"
   },
   "outputs": [],
   "source": []
  }
 ],
 "metadata": {
  "colab": {
   "provenance": []
  },
  "kernelspec": {
   "display_name": "Python 3",
   "language": "python",
   "name": "python3"
  },
  "language_info": {
   "codemirror_mode": {
    "name": "ipython",
    "version": 3
   },
   "file_extension": ".py",
   "mimetype": "text/x-python",
   "name": "python",
   "nbconvert_exporter": "python",
   "pygments_lexer": "ipython3",
   "version": "3.7.4"
  }
 },
 "nbformat": 4,
 "nbformat_minor": 1
}
