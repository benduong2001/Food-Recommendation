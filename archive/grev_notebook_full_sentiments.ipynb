{
  "nbformat": 4,
  "nbformat_minor": 0,
  "metadata": {
    "colab": {
      "provenance": []
    },
    "kernelspec": {
      "name": "python3",
      "display_name": "Python 3"
    },
    "language_info": {
      "name": "python"
    }
  },
  "cells": [
    {
      "cell_type": "code",
      "source": [
        "#!pip install geopandas"
      ],
      "metadata": {
        "id": "NJC4K7SmVl5V"
      },
      "execution_count": null,
      "outputs": []
    },
    {
      "cell_type": "code",
      "execution_count": null,
      "metadata": {
        "colab": {
          "base_uri": "https://localhost:8080/"
        },
        "id": "XBpZE7xbVj4H",
        "outputId": "48fb6be3-ac25-4b4a-8c11-7c222a15d9be"
      },
      "outputs": [
        {
          "output_type": "stream",
          "name": "stdout",
          "text": [
            "Mounted at /content/drive\n"
          ]
        }
      ],
      "source": [
        "import pandas as pd\n",
        "import numpy as np\n",
        "import matplotlib.pyplot as plt\n",
        "plt.style.use(\"ggplot\")\n",
        "\n",
        "import os\n",
        "from bs4 import BeautifulSoup  \n",
        "import requests\n",
        "import zipfile\n",
        "import io\n",
        "import nltk\n",
        "\n",
        "#import geopandas as gpd\n",
        "#import shapely\n",
        "#import gensim\n",
        "import tqdm\n",
        "import tensorflow as tf\n",
        "import keras\n",
        "\n",
        "# Load the Drive helper and mount\n",
        "from google.colab import drive\n",
        "mounted_path_folder = '/content/drive'\n",
        "drive.mount(mounted_path_folder, force_remount=True)\n",
        "path_folder = \"/content/drive/MyDrive/dsprojects/dsproject_grev/\" # parent of current src folder"
      ]
    },
    {
      "cell_type": "code",
      "source": [
        "import pandas as pd\n",
        "import numpy as np\n",
        "\n",
        "import matplotlib.pyplot as plt\n",
        "plt.style.use(\"ggplot\")\n",
        "import seaborn as sns\n",
        "\n",
        "from collections import defaultdict\n",
        "import scipy\n",
        "import string\n",
        "import re\n",
        "import os\n",
        "\n",
        "from sklearn.decomposition import PCA\n",
        "from sklearn.feature_extraction.text import TfidfVectorizer\n",
        "from sklearn.feature_extraction.text import CountVectorizer\n",
        "from sklearn.feature_extraction.text import TfidfTransformer\n",
        "from sklearn.model_selection import train_test_split\n",
        "from sklearn.linear_model import LogisticRegression\n",
        "from sklearn.metrics import confusion_matrix\n",
        "from sklearn.metrics import classification_report\n",
        "\n",
        "import nltk\n",
        "from nltk.corpus import stopwords\n",
        "#from nltk.stem.porter import PorterStemmer\n",
        "#from nltk.tokenize import word_tokenize\n",
        "nltk.download('stopwords')"
      ],
      "metadata": {
        "colab": {
          "base_uri": "https://localhost:8080/"
        },
        "id": "zdHwwG34EX9W",
        "outputId": "f09d39ef-3a5e-41b4-8108-2441f7377427"
      },
      "execution_count": null,
      "outputs": [
        {
          "output_type": "stream",
          "name": "stderr",
          "text": [
            "[nltk_data] Downloading package stopwords to /root/nltk_data...\n",
            "[nltk_data]   Unzipping corpora/stopwords.zip.\n"
          ]
        },
        {
          "output_type": "execute_result",
          "data": {
            "text/plain": [
              "True"
            ]
          },
          "metadata": {},
          "execution_count": 3
        }
      ]
    },
    {
      "cell_type": "code",
      "source": [
        "#path_folder_data = os.path.join(path_folder,\"data\",\"raw\",\"filter_all_t.json\")\n",
        "path_folder_data = os.path.join(path_folder,\"data\",\"raw\",\"image_review_all.json\")\n",
        "\n",
        "reviews_df_business_id_column_list = []\n",
        "reviews_df_user_id_column_list = []\n",
        "reviews_df_rating_column_list = []\n",
        "reviews_df_review_text_column_list = []\n",
        "\n",
        "with open(path_folder_data) as f:\n",
        "    for line in tqdm.tqdm(f):\n",
        "        review = (eval(line))\n",
        "        temp_business_id = None\n",
        "        temp_user_id = None\n",
        "        temp_rating = None\n",
        "        temp_review_text = None\n",
        "        temp_pics = None\n",
        "        temp_history_reviews = None\n",
        "\n",
        "        if \"business_id\" in review:\n",
        "            temp_business_id = review[\"business_id\"]\n",
        "        if \"user_id\" in review:\n",
        "            temp_user_id = review[\"user_id\"]\n",
        "        if \"rating\" in review:\n",
        "            temp_rating = review[\"rating\"]\n",
        "        if \"review_text\" in review:\n",
        "            temp_review_text = review[\"review_text\"]\n",
        "        if \"pics\" in review:\n",
        "            temp_pics = None #review[\"pics\"] \n",
        "        \n",
        "        reviews_df_business_id_column_list.append(temp_business_id)\n",
        "        reviews_df_user_id_column_list.append(temp_user_id)\n",
        "        reviews_df_rating_column_list.append(temp_rating)\n",
        "        reviews_df_review_text_column_list.append(temp_review_text)\n",
        "    f.close()\n",
        "reviews_df = pd.DataFrame()\n",
        "reviews_df[\"business_id\"] = reviews_df_business_id_column_list\n",
        "reviews_df[\"user_id\"] = reviews_df_user_id_column_list\n",
        "reviews_df[\"rating\"] = reviews_df_rating_column_list\n",
        "reviews_df[\"review_text\"] = reviews_df_review_text_column_list"
      ],
      "metadata": {
        "id": "byTfDGK2WJ9v",
        "colab": {
          "base_uri": "https://localhost:8080/"
        },
        "outputId": "153b514f-6d66-47d5-a98f-32c951033ff8"
      },
      "execution_count": null,
      "outputs": [
        {
          "output_type": "stream",
          "name": "stderr",
          "text": [
            "1487747it [01:37, 15188.06it/s]\n"
          ]
        }
      ]
    },
    {
      "cell_type": "code",
      "source": [
        "def clean_text_column(text_column):\n",
        "    non_alphanumeric = string.punctuation # constant\n",
        "    text_column = text_column.str.lower()\n",
        "    text_column = text_column.str.translate(str.maketrans(non_alphanumeric, \" \"*len(non_alphanumeric)))\n",
        "    return text_column\n",
        "\n",
        "review_column_name = \"review_text\"\n",
        "rating_column_name = \"rating\"\n",
        "binarized_rating_column_name = \"binarized_rating\"\n",
        "target_column_name = binarized_rating_column_name\n",
        "\n",
        "raw_interactions_df = reviews_df\n",
        "\n",
        "rating_column = raw_interactions_df[rating_column_name]\n",
        "binarized_rating_column = rating_column > 3\n",
        "target_column = binarized_rating_column\n",
        "raw_interactions_df[target_column_name] = target_column\n",
        "\n",
        "review_text_column = raw_interactions_df[review_column_name]\n",
        "review_text_column = review_text_column.fillna(\"\")\n",
        "review_text_column = clean_text_column(review_text_column)\n",
        "\n",
        "X = review_text_column\n",
        "y_column_name = target_column_name\n",
        "y = raw_interactions_df[y_column_name]\n",
        "X_train, X_test, y_train, y_test = train_test_split(X, y,stratify=y)"
      ],
      "metadata": {
        "id": "byXR0VgiEcUa"
      },
      "execution_count": null,
      "outputs": []
    },
    {
      "cell_type": "code",
      "source": [
        "def get_negative_words_of_stop_words_list(stop_words_list):\n",
        "    negative_words = [\"no\",\"not\",\"t\",\"nor\",\"against\"] # constant\n",
        "    contraction_not_words = [word for word in stop_words_list if word[-2:]==\"'t\"]\n",
        "    contraction_not_words_pre_apostrophe = [word[:-2] for word in contraction_not_words]\n",
        "    negative_words += contraction_not_words\n",
        "    negative_words += contraction_not_words_pre_apostrophe\n",
        "    return negative_words\n",
        "\n",
        "stop_words_list = stopwords.words(\"english\")\n",
        "negative_words = get_negative_words_of_stop_words_list(stop_words_list)\n",
        "#raw_recipes_df = pd.read_csv(os.path.join(PATH_FOLDER,\"RAW_recipes.csv\"))\n",
        "for word in negative_words: stop_words_list.remove(word);\n",
        "#stop_words_list += (cooking_related_words)\n",
        "\n",
        "print(\"Removed stop words\")\n",
        "####"
      ],
      "metadata": {
        "colab": {
          "base_uri": "https://localhost:8080/"
        },
        "id": "EwRmnRUBEg_V",
        "outputId": "dcb5491d-7ad0-4afd-b1b8-a8f82a6d2935"
      },
      "execution_count": null,
      "outputs": [
        {
          "output_type": "stream",
          "name": "stdout",
          "text": [
            "Removed stop words\n"
          ]
        }
      ]
    },
    {
      "cell_type": "code",
      "source": [
        "train_df = pd.DataFrame()\n",
        "train_df[review_column_name] = X_train\n",
        "train_df[target_column_name] = y_train"
      ],
      "metadata": {
        "id": "fPb94gN1Ess7"
      },
      "execution_count": null,
      "outputs": []
    },
    {
      "cell_type": "code",
      "source": [
        "# vectorizer method, stopwords, max_df\n",
        "# liststr_columns\n",
        "class Temp_Recipe_Vectorizer_Builder:\n",
        "    def __init__(self, vectorizer, food_vocab_column):\n",
        "        self.vectorizer = (vectorizer)\n",
        "        food_vocab_vectorizer = vectorizer.fit(food_vocab_column)\n",
        "\n",
        "        self.fitted_vectorizer = food_vocab_vectorizer\n",
        "\n",
        "        food_vocab_vectorized = vectorizer.transform(food_vocab_column)\n",
        "\n",
        "        self.vectorized_matrix = food_vocab_vectorized.tocsc()\n",
        "        self.vocab2idx = self.fitted_vectorizer.named_steps[\"count\"].vocabulary_\n",
        "        self.idx2vocab = dict((v, k) for k, v in self.fitted_vectorizer.named_steps[\"count\"].vocabulary_.items())\n",
        "    def get_top_n_features_by_colwise_aggfunc(self, func, n=1000, as_words=True):\n",
        "        result = np.array(func(self.vectorized_matrix, axis=0))[0].argsort()[-n:]\n",
        "        if as_words:\n",
        "            result = [self.idx2vocab[i] for i in result]\n",
        "        return result"
      ],
      "metadata": {
        "id": "-yF5UZtcjYfR"
      },
      "execution_count": null,
      "outputs": []
    },
    {
      "cell_type": "code",
      "source": [],
      "metadata": {
        "id": "7y2BqXNHjx4r"
      },
      "execution_count": null,
      "outputs": []
    },
    {
      "cell_type": "code",
      "source": [
        "#####\n",
        "\n",
        "df_temp = train_df#[[review_column_name,target_column_name]]\n",
        "group_column_name = target_column_name\n",
        "\n",
        "df_temp = df_temp.sort_values([group_column_name])\n",
        "threshold_index = list(df_temp[group_column_name].values).index(True)\n",
        "assert threshold_index != 0\n",
        "\n",
        "tfidf_vectorizer = TfidfVectorizer(stop_words=stop_words_list)\n",
        "\n",
        "tfidf_reviews = tfidf_vectorizer.fit_transform(df_temp[review_column_name]).tocsc()\n",
        "vocab_word2idx = tfidf_vectorizer.vocabulary_\n",
        "vocab_idx2word = dict(zip(list(vocab_word2idx.values()), list(vocab_word2idx.keys())))\n",
        "\n",
        "print(\"vocab size:\", len(vocab_word2idx))\n",
        "\n",
        "tfidf_reviews_negative = tfidf_reviews[:threshold_index,:]\n",
        "tfidf_reviews_positive = tfidf_reviews[threshold_index:,:]\n",
        "\n",
        "tfidf_reviews_negative_collapsed = np.squeeze(np.asarray(scipy.sparse.csc_matrix.mean(tfidf_reviews_negative,axis=0)))\n",
        "tfidf_reviews_positive_collapsed = np.squeeze(np.asarray(scipy.sparse.csc_matrix.mean(tfidf_reviews_positive,axis=0)))\n",
        "\n",
        "tfidf_sentiments = np.array([tfidf_reviews_negative_collapsed, tfidf_reviews_positive_collapsed])\n",
        "\n",
        "print(\"Creation of 2xV Matrix\")"
      ],
      "metadata": {
        "colab": {
          "base_uri": "https://localhost:8080/"
        },
        "id": "XwiSb4NrE1lW",
        "outputId": "8d5222f2-6481-48cf-885d-9390bd8446aa"
      },
      "execution_count": null,
      "outputs": [
        {
          "output_type": "stream",
          "name": "stdout",
          "text": [
            "vocab size: 291456\n",
            "Creation of 2xV Matrix\n"
          ]
        }
      ]
    },
    {
      "cell_type": "code",
      "source": [
        "############\n",
        "\n",
        "column_amount = tfidf_sentiments.shape[1]\n",
        "column_wise_argmaxer = tfidf_sentiments.argmax(axis=0) # gets the row index of the greater row for each column\n",
        "negative_columns_indexer = np.arange(column_amount)[np.where(column_wise_argmaxer==0)[0]]\n",
        "tfidf_sentiments_negative_columns = tfidf_sentiments[:,negative_columns_indexer]\n",
        "assert tfidf_sentiments_negative_columns.shape[1] == np.sum(column_wise_argmaxer==0)\n",
        "negative_skewed_words = [vocab_idx2word[i] for i in negative_columns_indexer]\n",
        "\n",
        "#########\n",
        "\n",
        "N = 100\n",
        "negative_skewed_words_by_contrast = pd.Series(index=negative_skewed_words, \n",
        "                                              data=list(np.abs(np.diff(tfidf_sentiments_negative_columns,axis=0))[0]))\n",
        "top_n_tfidf_negative_skewed_words_by_contrast = negative_skewed_words_by_contrast.sort_values(ascending=False)[:N]\n",
        "\n",
        "############\n",
        "\n",
        "top_n_tfidf_negative_skewed_words_by_contrast_list = list(top_n_tfidf_negative_skewed_words_by_contrast.index)\n",
        "learned_mapping = dict(zip(top_n_tfidf_negative_skewed_words_by_contrast_list,list(range(N))))\n",
        "learned_count_vectorizer = CountVectorizer(vocabulary=learned_mapping)\n",
        "\n",
        "##########\n",
        "\n",
        "X_train = learned_count_vectorizer.transform(X_train).tocsc().A\n",
        "\n",
        "y_train = 1-(y_train.astype(int).values)"
      ],
      "metadata": {
        "id": "t-iV7zyhFCMd"
      },
      "execution_count": null,
      "outputs": []
    },
    {
      "cell_type": "code",
      "source": [
        "###########\n",
        "\n",
        "def fit_model_subset(X_train_, y_train_):\n",
        "    model = LogisticRegression(class_weight=\"balanced\",max_iter=300)\n",
        "    model.fit(X_train_, y_train_)\n",
        "    predictions = model.predict(X_train_)\n",
        "    acc = np.mean(predictions==y_train_)\n",
        "    print(acc)\n",
        "    #confusion_matrix_array = confusion_matrix(y_train_, predictions, normalize=\"true\")\n",
        "    #confusion_matrix_array\n",
        "    return model\n",
        "\n",
        "def undersampling_fitting(\n",
        "    X_train_, \n",
        "    y_train_,\n",
        "    num_subset_model_fittings = 10\n",
        "    ):\n",
        "    good_reviews_indices = np.where(y_train_ == 0)[0]\n",
        "    bad_reviews_indices = np.where(y_train_ == 1)[0]\n",
        "    print(len(bad_reviews_indices)/(len(bad_reviews_indices) + len(good_reviews_indices)))\n",
        "    subset_size = bad_reviews_indices.shape[0] # len(good_reviews_indices) // num_subset_model_fittings\n",
        "    subset_models = []\n",
        "\n",
        "    for i in (range(num_subset_model_fittings)):\n",
        "        good_reviews_subset_indices = np.random.choice(good_reviews_indices,size=subset_size)\n",
        "\n",
        "        good_reviews_subset = X_train_[good_reviews_subset_indices,:]\n",
        "        bad_reviews = X_train_[bad_reviews_indices,:]\n",
        "\n",
        "        X_train_subset = np.vstack([good_reviews_subset, bad_reviews])\n",
        "        y_train_subset = np.array(\n",
        "            [0 for _ in range(good_reviews_subset.shape[0])] + \\\n",
        "            [1 for _ in range(bad_reviews.shape[0])]\n",
        "        )\n",
        "\n",
        "        shuffler_indices = np.arange((good_reviews_subset.shape[0]) + (bad_reviews.shape[0]))\n",
        "        np.random.shuffle(shuffler_indices)\n",
        "\n",
        "        X_train_subset_shuffled = X_train_subset[shuffler_indices]\n",
        "        y_train_subset_shuffled = y_train_subset[shuffler_indices]\n",
        "\n",
        "        #print(X_train_subset_shuffled.shape)\n",
        "\n",
        "        subset_model = fit_model_subset(X_train_subset_shuffled, y_train_subset_shuffled)\n",
        "        subset_models.append(subset_model)\n",
        "\n",
        "    return subset_models\n",
        "\n",
        "##############\n",
        "\n",
        "subset_models = undersampling_fitting(X_train, y_train, 10)\n",
        "\n",
        "model_coefs = np.array([model.coef_ for model in subset_models])\n",
        "model_intercepts = np.array([model.intercept_ for model in subset_models])\n",
        "model_coefs = np.squeeze(model_coefs,1)\n",
        "model_intercepts = np.squeeze(model_intercepts,1)\n",
        "model_coefs_std = np.std(model_coefs, axis=1, keepdims=1,ddof=0)\n",
        "model_coefs_ = model_coefs / model_coefs_std\n",
        "model_coefs_avg = np.mean(model_coefs_,axis=0)\n",
        "model_intercepts_ = model_intercepts #/ np.squeeze(model_coefs_std,1)\n",
        "model_intercepts_avg = np.mean(model_intercepts_)\n",
        "\n",
        "########################\n",
        "\n",
        "X_test = learned_count_vectorizer.transform(X_test).tocsc().A\n",
        "y_test = 1-(y_test.astype(int).values)\n",
        "\n",
        "sigmoid = lambda x: 1/(1+(np.exp(-x)))\n",
        "\n",
        "predictions_prob_undersampled = sigmoid((X_test @ np.expand_dims(model_coefs_avg,1)+model_intercepts_avg))\n",
        "\n",
        "predictions = (predictions_prob_undersampled > 0.5).astype(int)\n",
        "\n",
        "predictions = np.squeeze(predictions,1)\n",
        "\n",
        "y_test.shape, predictions.shape\n",
        "\n",
        "acc = np.mean(predictions==y_test)\n",
        "print(acc)"
      ],
      "metadata": {
        "colab": {
          "base_uri": "https://localhost:8080/"
        },
        "id": "siVU4BXvz5i0",
        "outputId": "dcc0020e-1d2a-42ee-c96e-23b42a2f7efe"
      },
      "execution_count": null,
      "outputs": [
        {
          "output_type": "stream",
          "name": "stdout",
          "text": [
            "0.12447459692958479\n",
            "0.7865973072215422\n",
            "0.7867845057239542\n",
            "0.7862157102743178\n",
            "0.7850997192022464\n",
            "0.7859493124055008\n",
            "0.7865901072791418\n",
            "0.7862121103031176\n",
            "0.7872057023543811\n",
            "0.7863849089207287\n",
            "0.7866693066455468\n",
            "0.8394943229632975\n"
          ]
        }
      ]
    },
    {
      "cell_type": "code",
      "source": [
        "confusion_matrix_array = confusion_matrix(y_test, predictions, normalize=\"true\")\n",
        "print(confusion_matrix_array)\n",
        "heatmap = sns.heatmap(confusion_matrix_array, annot=True)"
      ],
      "metadata": {
        "id": "jv2KPenZ5LTK",
        "colab": {
          "base_uri": "https://localhost:8080/",
          "height": 300
        },
        "outputId": "5212b2a4-0663-471c-ea22-ade9d180ac5a"
      },
      "execution_count": null,
      "outputs": [
        {
          "output_type": "stream",
          "name": "stdout",
          "text": [
            "[[0.85696782 0.14303218]\n",
            " [0.28340929 0.71659071]]\n"
          ]
        },
        {
          "output_type": "display_data",
          "data": {
            "text/plain": [
              "<Figure size 432x288 with 2 Axes>"
            ],
            "image/png": "[encoded data removed]"
          },
          "metadata": {}
        }
      ]
    },
    {
      "cell_type": "code",
      "source": [
        "pd.Series(index=top_n_tfidf_negative_skewed_words_by_contrast.index, \n",
        "          data=model_coefs_avg).sort_values(ascending=False).head(20)[::-1].plot.barh()#(type=\"barh\")"
      ],
      "metadata": {
        "colab": {
          "base_uri": "https://localhost:8080/",
          "height": 282
        },
        "id": "jMA0VtveAIhh",
        "outputId": "3e65567c-48e4-4972-8589-8c19a6875827"
      },
      "execution_count": null,
      "outputs": [
        {
          "output_type": "execute_result",
          "data": {
            "text/plain": [
              "<matplotlib.axes._subplots.AxesSubplot at 0x7f1d0a588ac0>"
            ]
          },
          "metadata": {},
          "execution_count": 13
        },
        {
          "output_type": "display_data",
          "data": {
            "text/plain": [
              "<Figure size 432x288 with 1 Axes>"
            ],
            "image/png": "[encoded data removed]"
          },
          "metadata": {}
        }
      ]
    },
    {
      "cell_type": "code",
      "source": [],
      "metadata": {
        "id": "kY4hqWRyG39t"
      },
      "execution_count": null,
      "outputs": []
    }
  ]
}