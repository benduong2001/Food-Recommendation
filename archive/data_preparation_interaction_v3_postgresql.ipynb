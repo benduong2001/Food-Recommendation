{
 "cells": [
  {
   "cell_type": "code",
   "execution_count": 1,
   "metadata": {},
   "outputs": [
    {
     "name": "stderr",
     "output_type": "stream",
     "text": [
      "[nltk_data] Downloading package stopwords to\n",
      "[nltk_data]     C:\\Users\\Benson\\AppData\\Roaming\\nltk_data...\n",
      "[nltk_data]   Package stopwords is already up-to-date!\n",
      "[nltk_data] Downloading package stopwords to\n",
      "[nltk_data]     C:\\Users\\Benson\\AppData\\Roaming\\nltk_data...\n",
      "[nltk_data]   Package stopwords is already up-to-date!\n"
     ]
    }
   ],
   "source": [
    "from sklearn.model_selection import train_test_split\n",
    "from sklearn.decomposition import PCA\n",
    "import tensorflow as tf\n",
    "from tensorflow.keras.models import Sequential\n",
    "from tensorflow.keras.layers import Dense\n",
    "\n",
    "from sklearn.metrics import confusion_matrix\n",
    "import seaborn as sns\n",
    "\n",
    "import pandas as pd\n",
    "import numpy as np\n",
    "import matplotlib.pyplot as plt\n",
    "plt.style.use(\"ggplot\")\n",
    "\n",
    "import os\n",
    "from collections import defaultdict\n",
    "from bs4 import BeautifulSoup  \n",
    "import requests\n",
    "import zipfile\n",
    "import io\n",
    "import nltk\n",
    "from nltk.corpus import stopwords\n",
    "#from nltk.stem.porter import PorterStemmer\n",
    "#from nltk.tokenize import word_tokenize\n",
    "nltk.download('stopwords')\n",
    "\n",
    "#import geopandas as gpd|\n",
    "#import shapely\n",
    "import gensim\n",
    "import tqdm\n",
    "import tensorflow as tf\n",
    "import keras\n",
    "\n",
    "from sklearn.decomposition import PCA\n",
    "from sklearn.manifold import TSNE\n",
    "from sklearn.manifold import SpectralEmbedding\n",
    "\n",
    "import sys\n",
    "\n",
    "path_folder = (os.path.abspath(os.path.join((os.path.abspath(os.path.join(os.getcwd(), os.pardir))),os.pardir)))\n",
    "\n",
    "google_colab = 0\n",
    "if google_colab == 1:\n",
    "    from google.colab import drive\n",
    "    drive.mount('/content/drive/')\n",
    "    path_folder = \"/content/drive/MyDrive/dsprojects/dsproject_grev/\"\n",
    "    \n",
    "sys.path.insert(0, path_folder+\"/src/features/\")\n",
    "import util\n",
    "\n",
    "from word2vec_recipe import *\n",
    "\n",
    "import tqdm\n",
    "import pickle"
   ]
  },
  {
   "cell_type": "code",
   "execution_count": 2,
   "metadata": {},
   "outputs": [],
   "source": [
    "from keras.applications.vgg16 import VGG16\n",
    "#vggnet_model = VGG16()\n",
    "pics_link_header = \"https://lh5.googleusercontent.com/p/\"\n",
    "from keras.applications.vgg16 import preprocess_input\n",
    "from keras.applications.vgg16 import decode_predictions\n",
    "\n",
    "from PIL import Image\n",
    "import requests\n",
    "from io import BytesIO\n",
    "\n",
    "from sklearn.preprocessing import LabelEncoder\n"
   ]
  },
  {
   "cell_type": "code",
   "execution_count": 3,
   "metadata": {},
   "outputs": [],
   "source": [
    "import string"
   ]
  },
  {
   "cell_type": "code",
   "execution_count": null,
   "metadata": {},
   "outputs": [],
   "source": [
    "USING_SPARK = 0\n",
    "SPARK_SESSION_VERSION = 1\n",
    "if USING_SPARK == 1:\n",
    "    import findspark\n",
    "    import pyspark\n",
    "    import pyspark.sql.functions as F\n",
    "    import pyspark.sql.types as T\n",
    "    import pyspark.ml as M\n",
    "    from pyspark.sql.window import Window\n",
    "    from pyspark.sql import SparkSession\n",
    "    findspark.init()\n",
    "    if SPARK_SESSION_VERSION == 1:\n",
    "        spark = SparkSession.builder.getOrCreate()\n",
    "    elif SPARK_SESSION_VERSION == 2:\n",
    "        spark = SparkSession.builder \\\n",
    "            .master('local[*]') \\\n",
    "            .config(\"spark.driver.memory\", \"3g\") \\\n",
    "            .appName('food_rec') \\\n",
    "            .getOrCreate()\n",
    "    "
   ]
  },
  {
   "cell_type": "code",
   "execution_count": 4,
   "metadata": {},
   "outputs": [],
   "source": [
    "class Reviews_Dataset_Reader:\n",
    "    def __init__(self, \n",
    "                 path_folder,\n",
    "                 dataset_version = \"FULL\",\n",
    "                 using_pics = 0,\n",
    "                 drop_double_one_time_appearances = 1,\n",
    "                 drop_separate_one_time_appearances = 0,\n",
    "                ):\n",
    "        assert dataset_version in [\"FULL\", \"FILTER\"]\n",
    "        assert using_pics in [0,1]    \n",
    "        #self.path_folder = path_folder\n",
    "        self.dataset_version = dataset_version\n",
    "        self.using_pics = using_pics\n",
    "        if self.using_pics == 1:\n",
    "            self.dataset_version = \"FILTER\"\n",
    "            self.vggnet_model = VGG16()\n",
    "            self.pic_link_header = \"https://lh5.googleusercontent.com/p/\"\n",
    "        self.drop_double_one_time_appearances = drop_double_one_time_appearances\n",
    "        self.drop_separate_one_time_appearances = drop_separate_one_time_appearances\n",
    "        if self.dataset_version == \"FULL\":\n",
    "            file_name_data = \"image_review_all.json\"\n",
    "        if self.dataset_version == \"FILTER\":\n",
    "            file_name_data = \"filter_all_t.json\"\n",
    "        self.path_folder_data = os.path.join(path_folder,\"data\",\"raw\",file_name_data)\n",
    "\n",
    "    def get_pics_words_from_links(self, pic_links, top_n=10):\n",
    "        pics_len = len(pic_links)\n",
    "        vggnet_model_input = []\n",
    "        for i in (range(0, pics_len)):\n",
    "            try:\n",
    "                temp_pic_link = pic_links[i]\n",
    "                temp_pic_link = self.pic_link_header + temp_pic_link\n",
    "                response = requests.get(temp_pic_link)\n",
    "                image = Image.open(BytesIO(response.content))\n",
    "                image = np.array(image)\n",
    "                image =  np.array(Image.fromarray(image).resize((224, 224), Image.NEAREST))\n",
    "                assert image.shape == (224, 224, 3)\n",
    "                vggnet_model_input.append(image)\n",
    "            except:\n",
    "                pass\n",
    "        vggnet_model_input = np.array(vggnet_model_input)\n",
    "        if vggnet_model_input.size == 0:\n",
    "            return []\n",
    "        #print(vggnet_model_input.shape)\n",
    "        assert list(vggnet_model_input.shape)[-3:] == [224, 224, 3]\n",
    "        assert len(vggnet_model_input.shape) == 4\n",
    "        #assert len(unbroken_indices) == vggnet_model_input.shape[0]\n",
    "        encoded_predictions = self.vggnet_model.predict(vggnet_model_input) #, verbose=0)\n",
    "        decoded_output = decode_predictions(encoded_predictions)\n",
    "        \n",
    "        pics_words = []\n",
    "        for decoded_i in range(len(decoded_output)):\n",
    "            pic_words = [label[1] for label in decoded_output[decoded_i][:top_n]]\n",
    "            pics_words += pic_words\n",
    "            # assert len(pics_words) > 0\n",
    "        return pics_words\n",
    "    def get_review_info(self, review):\n",
    "        temp_business_id = None\n",
    "        temp_user_id = None\n",
    "        temp_rating = None\n",
    "        temp_review_text = None\n",
    "        temp_pics = None\n",
    "\n",
    "        if \"business_id\" in review:\n",
    "            temp_business_id = review[\"business_id\"]\n",
    "        if \"user_id\" in review:\n",
    "            temp_user_id = review[\"user_id\"]\n",
    "        if \"rating\" in review:\n",
    "            temp_rating = review[\"rating\"]\n",
    "        if \"review_text\" in review:\n",
    "            temp_review_text = review[\"review_text\"]\n",
    "        if \"pics\" in review:\n",
    "            temp_pics = review[\"pics\"]\n",
    "            if self.dataset_version == \"FULL\":\n",
    "                temp_pics = [x[\"id\"] for x in (temp_pics)]\n",
    "\n",
    "        if self.using_pics == 1:\n",
    "            if (temp_pics is None)==False:\n",
    "                temp_pics_words = self.get_pics_words_from_links(temp_pics)\n",
    "                if temp_review_text is None:\n",
    "                    temp_review_text = \"\"\n",
    "                temp_review_text += (\" \" + \" \".join(temp_pics_words))\n",
    "        return (temp_business_id, temp_user_id, temp_rating, temp_review_text)\n",
    "    def build_reviews_df(self):\n",
    "        \n",
    "        raw_data_orig = []\n",
    "        with open(self.path_folder_data) as f:\n",
    "            for line in tqdm.tqdm(f):\n",
    "                raw_data_orig.append(eval(line))\n",
    "            f.close()\n",
    "            \n",
    "        assert len(raw_data_orig) == 1\n",
    "        #print(raw_data_orig[0].keys())\n",
    "\n",
    "        if self.dataset_version in [\"FILTER\"]:\n",
    "            raw_data_train = (raw_data_orig[0][\"train\"])\n",
    "            raw_data_val = (raw_data_orig[0][\"val\"])\n",
    "            raw_data_test = (raw_data_orig[0][\"test\"])\n",
    "            raw_data_sources = [raw_data_train, raw_data_val, raw_data_test]\n",
    "        else:\n",
    "            raw_data = raw_data\n",
    "            raw_data_sources = [raw_data]\n",
    "        \n",
    "        reviews_df_business_id_column_list = []\n",
    "        reviews_df_user_id_column_list = []\n",
    "        reviews_df_rating_column_list = []\n",
    "        reviews_df_review_text_column_list = []\n",
    "        \n",
    "        for raw_data_source in raw_data_sources:\n",
    "            for review in tqdm.tqdm(raw_data_source):\n",
    "                temp_business_id, temp_user_id, temp_rating, temp_review_text = self.get_review_info(review)\n",
    "\n",
    "                reviews_df_business_id_column_list.append(temp_business_id)\n",
    "                reviews_df_user_id_column_list.append(temp_user_id)\n",
    "                reviews_df_rating_column_list.append(temp_rating)\n",
    "                reviews_df_review_text_column_list.append(temp_review_text)            \n",
    "\n",
    "        reviews_df = pd.DataFrame()\n",
    "        reviews_df[\"business_id\"] = reviews_df_business_id_column_list\n",
    "        reviews_df[\"user_id\"] = reviews_df_user_id_column_list\n",
    "        reviews_df[\"rating\"] = reviews_df_rating_column_list\n",
    "        reviews_df[\"review_text\"] = reviews_df_review_text_column_list  \n",
    "        \n",
    "        business_id_label_encoder = LabelEncoder()\n",
    "        user_id_label_encoder = LabelEncoder()\n",
    "\n",
    "        business_id_label_encoder.fit(reviews_df[\"business_id\"])\n",
    "        user_id_label_encoder.fit(reviews_df[\"user_id\"])\n",
    "\n",
    "        reviews_df[\"business_id\"] = business_id_label_encoder.transform(reviews_df[\"business_id\"])\n",
    "        reviews_df[\"user_id\"] = user_id_label_encoder.transform(reviews_df[\"user_id\"])\n",
    "        self.reviews_df = reviews_df\n",
    "        return reviews_df\n",
    "    def convert_df_to_spark(self, reviews_df=None):\n",
    "        if word2vec_df is None:\n",
    "            reviews_df = self.reviews_df\n",
    "        \n",
    "        if USING_SPARK == 1:\n",
    "            reviews_df[\"review_text\"].fillna(\"_\",inplace=True)\n",
    "            schema = T.StructType([\n",
    "                T.StructField(\"business_id\", T.IntegerType(), True),\n",
    "                T.StructField(\"user_id\", T.IntegerType(), True),\n",
    "                T.StructField(\"rating\", T.IntegerType(), True),\n",
    "                T.StructField(\"review_text\", T.StringType(), True)]\n",
    "            )\n",
    "            reviews_df = spark.createDataFrame(reviews_df, schema)        \n",
    "        else:\n",
    "            raise Exception(\"Spark is disabled; cannot convert dataframe to spark\")\n",
    "        \n",
    "        self.reviews_df = reviews_df\n",
    "        \n",
    "        return reviews_df"
   ]
  },
  {
   "cell_type": "code",
   "execution_count": 5,
   "metadata": {
    "id": "O2e9fEv-bbJU"
   },
   "outputs": [
    {
     "name": "stderr",
     "output_type": "stream",
     "text": [
      "c:\\users\\benson\\appdata\\local\\programs\\python\\python37\\lib\\site-packages\\sklearn\\base.py:315: UserWarning: Trying to unpickle estimator CountVectorizer from version 1.0.2 when using version 0.24.2. This might lead to breaking code or invalid results. Use at your own risk.\n",
      "  UserWarning)\n",
      "c:\\users\\benson\\appdata\\local\\programs\\python\\python37\\lib\\site-packages\\sklearn\\base.py:315: UserWarning: Trying to unpickle estimator TfidfTransformer from version 1.0.2 when using version 0.24.2. This might lead to breaking code or invalid results. Use at your own risk.\n",
      "  UserWarning)\n",
      "c:\\users\\benson\\appdata\\local\\programs\\python\\python37\\lib\\site-packages\\sklearn\\base.py:315: UserWarning: Trying to unpickle estimator Pipeline from version 1.0.2 when using version 0.24.2. This might lead to breaking code or invalid results. Use at your own risk.\n",
      "  UserWarning)\n"
     ]
    }
   ],
   "source": [
    "vocab_column_names = [\"ingredients\"]+[\"name\"]\n",
    "file_name_word2vec = \"word2vec_\"+(\"_\".join(vocab_column_names))+\".pkl\"\n",
    "path_file_word2vec = os.path.join(path_folder, \"data\",\"temp\",file_name_word2vec)\n",
    "with open(path_file_word2vec, \"rb\") as f:\n",
    "    recipe_word2vec = pickle.load(f)\n",
    "\n",
    "vocab_column_names = [\"ingredients\"]#+[\"name\"]\n",
    "file_name_tfidf = \"tfidf_\"+(\"_\".join(vocab_column_names))+\".pkl\"\n",
    "path_file_tfidf = os.path.join(path_folder, \"data\",\"temp\",file_name_tfidf)\n",
    "with open(path_file_tfidf, \"rb\") as f:\n",
    "    recipe_tfidf = pickle.load(f)"
   ]
  },
  {
   "cell_type": "code",
   "execution_count": 6,
   "metadata": {},
   "outputs": [],
   "source": [
    "DATASET_VERSION = [\"FULL\", \"FILTER\"][1]  \n",
    "DROP_ONE_TIME_APPEARANCES = 1\n",
    "DROP_SEPARATED_ONE_TIME_APPEARANCES = 0\n",
    "USING_PICS = 0\n"
   ]
  },
  {
   "cell_type": "code",
   "execution_count": 7,
   "metadata": {},
   "outputs": [],
   "source": [
    "reviews_dataset_reader = Reviews_Dataset_Reader(\n",
    "    path_folder, \n",
    "    DATASET_VERSION, \n",
    "    USING_PICS,\n",
    "    DROP_ONE_TIME_APPEARANCES, \n",
    "    DROP_SEPARATED_ONE_TIME_APPEARANCES,\n",
    ")"
   ]
  },
  {
   "cell_type": "code",
   "execution_count": 8,
   "metadata": {},
   "outputs": [
    {
     "name": "stderr",
     "output_type": "stream",
     "text": [
      "1it [00:18, 18.71s/it]\n",
      " 35%|████████████████████████▉                                               | 30160/87013 [00:00<00:00, 295163.32it/s]"
     ]
    },
    {
     "name": "stdout",
     "output_type": "stream",
     "text": [
      "dict_keys(['train', 'val', 'test'])\n"
     ]
    },
    {
     "name": "stderr",
     "output_type": "stream",
     "text": [
      "100%|████████████████████████████████████████████████████████████████████████| 87013/87013 [00:00<00:00, 313660.71it/s]\n",
      "100%|████████████████████████████████████████████████████████████████████████| 10860/10860 [00:00<00:00, 324602.29it/s]\n",
      "100%|████████████████████████████████████████████████████████████████████████| 11015/11015 [00:00<00:00, 359568.66it/s]\n"
     ]
    },
    {
     "data": {
      "text/html": [
       "<div>\n",
       "<style scoped>\n",
       "    .dataframe tbody tr th:only-of-type {\n",
       "        vertical-align: middle;\n",
       "    }\n",
       "\n",
       "    .dataframe tbody tr th {\n",
       "        vertical-align: top;\n",
       "    }\n",
       "\n",
       "    .dataframe thead th {\n",
       "        text-align: right;\n",
       "    }\n",
       "</style>\n",
       "<table border=\"1\" class=\"dataframe\">\n",
       "  <thead>\n",
       "    <tr style=\"text-align: right;\">\n",
       "      <th></th>\n",
       "      <th>business_id</th>\n",
       "      <th>user_id</th>\n",
       "      <th>rating</th>\n",
       "      <th>review_text</th>\n",
       "    </tr>\n",
       "  </thead>\n",
       "  <tbody>\n",
       "    <tr>\n",
       "      <th>0</th>\n",
       "      <td>29490</td>\n",
       "      <td>2307</td>\n",
       "      <td>4</td>\n",
       "      <td>The tang of the tomato sauce is outstanding. A...</td>\n",
       "    </tr>\n",
       "    <tr>\n",
       "      <th>1</th>\n",
       "      <td>21309</td>\n",
       "      <td>34177</td>\n",
       "      <td>5</td>\n",
       "      <td>Chicken and waffles were really good!</td>\n",
       "    </tr>\n",
       "    <tr>\n",
       "      <th>2</th>\n",
       "      <td>14616</td>\n",
       "      <td>13542</td>\n",
       "      <td>4</td>\n",
       "      <td>The appetizer of colossal shrimp was very good...</td>\n",
       "    </tr>\n",
       "    <tr>\n",
       "      <th>3</th>\n",
       "      <td>600</td>\n",
       "      <td>3455</td>\n",
       "      <td>5</td>\n",
       "      <td>The fish tacos here  omg! The salad was great ...</td>\n",
       "    </tr>\n",
       "    <tr>\n",
       "      <th>4</th>\n",
       "      <td>701</td>\n",
       "      <td>19773</td>\n",
       "      <td>4</td>\n",
       "      <td>Ribs are great, as are the mac and cheese, fri...</td>\n",
       "    </tr>\n",
       "    <tr>\n",
       "      <th>...</th>\n",
       "      <td>...</td>\n",
       "      <td>...</td>\n",
       "      <td>...</td>\n",
       "      <td>...</td>\n",
       "    </tr>\n",
       "    <tr>\n",
       "      <th>108883</th>\n",
       "      <td>223</td>\n",
       "      <td>35757</td>\n",
       "      <td>5</td>\n",
       "      <td>The pancakes were light and fluffy, the eggs a...</td>\n",
       "    </tr>\n",
       "    <tr>\n",
       "      <th>108884</th>\n",
       "      <td>29739</td>\n",
       "      <td>14158</td>\n",
       "      <td>5</td>\n",
       "      <td>Fish and chips/fries very fresh and very good ...</td>\n",
       "    </tr>\n",
       "    <tr>\n",
       "      <th>108885</th>\n",
       "      <td>13506</td>\n",
       "      <td>4595</td>\n",
       "      <td>2</td>\n",
       "      <td>The place is known for quantity and not qualit...</td>\n",
       "    </tr>\n",
       "    <tr>\n",
       "      <th>108886</th>\n",
       "      <td>19217</td>\n",
       "      <td>4739</td>\n",
       "      <td>5</td>\n",
       "      <td>Great drinks (margaritas!!! My favorites eat a...</td>\n",
       "    </tr>\n",
       "    <tr>\n",
       "      <th>108887</th>\n",
       "      <td>3264</td>\n",
       "      <td>26739</td>\n",
       "      <td>5</td>\n",
       "      <td>Really good salad and pizza.</td>\n",
       "    </tr>\n",
       "  </tbody>\n",
       "</table>\n",
       "<p>108888 rows × 4 columns</p>\n",
       "</div>"
      ],
      "text/plain": [
       "        business_id  user_id  rating  \\\n",
       "0             29490     2307       4   \n",
       "1             21309    34177       5   \n",
       "2             14616    13542       4   \n",
       "3               600     3455       5   \n",
       "4               701    19773       4   \n",
       "...             ...      ...     ...   \n",
       "108883          223    35757       5   \n",
       "108884        29739    14158       5   \n",
       "108885        13506     4595       2   \n",
       "108886        19217     4739       5   \n",
       "108887         3264    26739       5   \n",
       "\n",
       "                                              review_text  \n",
       "0       The tang of the tomato sauce is outstanding. A...  \n",
       "1                   Chicken and waffles were really good!  \n",
       "2       The appetizer of colossal shrimp was very good...  \n",
       "3       The fish tacos here  omg! The salad was great ...  \n",
       "4       Ribs are great, as are the mac and cheese, fri...  \n",
       "...                                                   ...  \n",
       "108883  The pancakes were light and fluffy, the eggs a...  \n",
       "108884  Fish and chips/fries very fresh and very good ...  \n",
       "108885  The place is known for quantity and not qualit...  \n",
       "108886  Great drinks (margaritas!!! My favorites eat a...  \n",
       "108887                       Really good salad and pizza.  \n",
       "\n",
       "[108888 rows x 4 columns]"
      ]
     },
     "execution_count": 8,
     "metadata": {},
     "output_type": "execute_result"
    }
   ],
   "source": [
    "reviews_dataset_reader.build_reviews_df()"
   ]
  },
  {
   "cell_type": "code",
   "execution_count": 9,
   "metadata": {},
   "outputs": [],
   "source": [
    "reviews_df = reviews_dataset_reader.reviews_df"
   ]
  },
  {
   "cell_type": "code",
   "execution_count": 10,
   "metadata": {},
   "outputs": [],
   "source": [
    "stop_words = stopwords.words('english')\n",
    "lexicon = [word for word in recipe_tfidf.vocab2idx if word not in stop_words]"
   ]
  },
  {
   "cell_type": "code",
   "execution_count": null,
   "metadata": {},
   "outputs": [],
   "source": [
    "class Word2vec_Dataset_Reader:\n",
    "    def __init__(self, word2vec_model, lexicon, vector_mode=\"COMPRESSED\"):\n",
    "        assert vector_mode in [\"COMPRESSED\",\"SPLIT\"]\n",
    "        self.word2vec_model = self.word2vec_model\n",
    "        self.lexicon = lexicon\n",
    "        self._vector_mode = vector_mode\n",
    "        embedding_size = self.word2vec_model.vector_size\n",
    "        if self._vector_mode == \"COMPRESSED\":\n",
    "            self.vec_column_names = [\"vec\"]\n",
    "        elif self._vector_mode == \"SPLIT\":\n",
    "            self.vec_column_names = [\"v{0}\".format(i) for i in range(embedding_size)]\n",
    "    def build_word2vec_df(self):\n",
    "        word2vec_vocab = self.word2vec_model.wv.vocab\n",
    "        vocab = [word for word in word2vec_vocab if (word in self.lexicon)]\n",
    "        vecs = [self.word2vec.wv[word] for word in vocab]\n",
    "        vecs_arr = np.array(vecs)\n",
    "        \n",
    "        word2vec_df = pd.DataFrame()\n",
    "        word2vec_df[\"review_text\"] = vocab\n",
    "        vec_column_names = self.vec_column_names\n",
    "        vector_mode = self._vector_mode\n",
    "        if vector_mode == \"COMPRESSED\":\n",
    "            word2vec_df[vec_column_names[0]] = vecs\n",
    "        elif vector_mode == \"SPLIT\"\n",
    "            for i in range(len(vec_column_names)):\n",
    "                vec_column_name = vec_column_names[i]\n",
    "                word2vec_df[vec_column_name] = vecs_arr[:, i]\n",
    "        self.word2vec_df = word2vec_df\n",
    "        return word2vec_df\n",
    "    def convert_df_to_spark(self, word2vec_df=None):\n",
    "        if word2vec_df is None:\n",
    "            word2vec_df = self.word2vec_df\n",
    "        vector_mode = self.vector_mode\n",
    "        vec_column_names = self.vec_column_names\n",
    "        if USING_SPARK == 1:\n",
    "            if vector_mode == \"COMPRESSED\":\n",
    "                schema = T.StructType([\n",
    "                    T.StructField(\"review_text\", T.StringType(), True)\n",
    "                ]+[T.StructField(vec_column_names[0],T.ArrayType(T.DoubleType()), True)]\n",
    "                )\n",
    "            elif vector_mode == \"SPLIT\":\n",
    "                schema = T.StructType([\n",
    "                    T.StructField(\"review_text\", T.StringType(), True)\n",
    "                ]+[T.StructField(c, T.DoubleType(), True) for c in vec_column_names]\n",
    "                )\n",
    "            word2vec_df = spark.createDataFrame(word2vec_df, schema)\n",
    "        else:\n",
    "            raise Exception(\"Spark is disabled; cannot convert dataframe to spark\")\n",
    "        self.word2vec_df = word2vec_df\n",
    "        return word2vec_df"
   ]
  },
  {
   "cell_type": "code",
   "execution_count": null,
   "metadata": {},
   "outputs": [],
   "source": []
  },
  {
   "cell_type": "code",
   "execution_count": null,
   "metadata": {},
   "outputs": [],
   "source": []
  },
  {
   "cell_type": "code",
   "execution_count": null,
   "metadata": {},
   "outputs": [],
   "source": []
  },
  {
   "cell_type": "code",
   "execution_count": null,
   "metadata": {},
   "outputs": [],
   "source": []
  },
  {
   "cell_type": "code",
   "execution_count": null,
   "metadata": {},
   "outputs": [],
   "source": [
    "# https://count.co/sql-resources/bigquery-standard-sql/unnest"
   ]
  },
  {
   "cell_type": "code",
   "execution_count": null,
   "metadata": {},
   "outputs": [],
   "source": [
    "# pretend the filt was stacked with train test and pics words added already"
   ]
  },
  {
   "cell_type": "code",
   "execution_count": 11,
   "metadata": {
    "scrolled": true
   },
   "outputs": [
    {
     "name": "stderr",
     "output_type": "stream",
     "text": [
      "c:\\users\\benson\\appdata\\local\\programs\\python\\python37\\lib\\site-packages\\ipykernel_launcher.py:14: SettingWithCopyWarning: \n",
      "A value is trying to be set on a copy of a slice from a DataFrame.\n",
      "Try using .loc[row_indexer,col_indexer] = value instead\n",
      "\n",
      "See the caveats in the documentation: https://pandas.pydata.org/pandas-docs/stable/user_guide/indexing.html#returning-a-view-versus-a-copy\n",
      "  \n"
     ]
    },
    {
     "name": "stdout",
     "output_type": "stream",
     "text": [
      "3095788\n"
     ]
    }
   ],
   "source": [
    "# PANDAS VERSION\n",
    "\n",
    "def clean_text_column(text_column):\n",
    "    non_alphanumeric = string.punctuation # constant\n",
    "    text_column = text_column.str.lower()\n",
    "    text_column = text_column.str.translate(str.maketrans(non_alphanumeric, \" \"*len(non_alphanumeric)))\n",
    "    return text_column\n",
    "\n",
    "temp_df = reviews_df\n",
    "temp_df[\"review_id\"] = np.arange(temp_df.shape[0])\n",
    "id_df = temp_df[[\"user_id\",\"business_id\",\"review_id\"]]\n",
    "review_df = temp_df[[\"review_id\",\"review_text\"]]\n",
    "\n",
    "review_df[\"review_text\"] = clean_text_column(review_df[\"review_text\"]).str.split(\" \")\n",
    "\n",
    "reviewTextWords_df = review_df.explode(\"review_text\")\n",
    "\n",
    "print(len(reviewTextWords_df))\n",
    "\n",
    "reviewTextWords_df = reviewTextWords_df[~(reviewTextWords_df[\"review_text\"].isin(stop_words))]\n",
    "reviewTextWords_df = reviewTextWords_df[(reviewTextWords_df[\"review_text\"].isin(recipe_word2vec.wv.vocab))]\n",
    "reviewTextWords_df = reviewTextWords_df[(reviewTextWords_df[\"review_text\"].isin(recipe_tfidf.vocab2idx))]\n",
    "reviewTextWords_df = reviewTextWords_df[(reviewTextWords_df[\"review_text\"] != \"\")]\n",
    "\n",
    "review_df = review_df[(review_df[\"review_id\"].isin(pd.unique(reviewTextWords_df[\"review_id\"])))]\n",
    "# Remove double singletons\n",
    "\n",
    "\n",
    "business_id_frequency = id_df.groupby([\"business_id\"],as_index=False).agg({\"business_id\": \"count\"}).reset_index()\n",
    "business_id_frequency.rename(columns={\"business_id\":\"count\", \"index\": \"business_id\"},inplace=True)\n",
    "#business_id_frequency = id_df[\"business_id\"].value_counts().reset_index(name='count')\n",
    "user_id_frequency = id_df.groupby([\"user_id\"],as_index=False).agg({\"business_id\": \"count\"}).reset_index()\n",
    "user_id_frequency.rename(columns={\"user_id\":\"count\", \"index\": \"user_id\"},inplace=True)\n",
    "\n",
    "#user_id_frequency = id_df[\"user_id\"].value_counts().reset_index(name='count')\n",
    "one_time_business_id_list = business_id_frequency[business_id_frequency[\"count\"] == 1][\"business_id\"]\n",
    "one_time_user_id_list = user_id_frequency[user_id_frequency[\"count\"] == 1][\"user_id\"]\n",
    "\n",
    "if DROP_ONE_TIME_APPEARANCES == True:\n",
    "    id_df = id_df[\n",
    "        ~( (id_df[\"business_id\"].isin(one_time_business_id_list)) & (id_df[\"user_id\"].isin(one_time_user_id_list)))\n",
    "    ]\n",
    "del business_id_frequency\n",
    "del user_id_frequency\n",
    "del one_time_business_id_list\n",
    "del one_time_user_id_list\n",
    "\n",
    "vocab = [word for word in recipe_word2vec.wv.vocab\n",
    "         if ((word in recipe_tfidf.vocab2idx) and (word not in stop_words))\n",
    "        ]\n",
    "vecs = [recipe_word2vec.wv[word] for word in vocab]\n",
    "word2vec_df = pd.DataFrame()\n",
    "word2vec_df[\"review_text\"] = vocab\n",
    "word2vec_df[\"vec\"] = vecs\n",
    "\n",
    "word2vec_df[\"vec\"][0].shape\n",
    "\n",
    "reviewTextWords_df[\"word_count\"] = 1\n",
    "\n",
    "reviewTextWord2vec_df = reviewTextWords_df.merge(word2vec_df, on=[\"review_text\"])\n",
    "\n",
    "reviewTextWord2vec_df.sort_values([\"review_id\"], inplace=True)\n",
    "\n",
    "reviewTextWord2vec_df_agg = (\n",
    "    reviewTextWord2vec_df.groupby([\"review_id\"], as_index=False).agg(\n",
    "        {\"vec\": list, \"word_count\": np.sum})\n",
    ")\n",
    "reviewTextWord2vec_df_agg[\"vec\"] = reviewTextWord2vec_df_agg[\"vec\"].apply(lambda x: np.sum(np.array(x), axis=0))\n",
    "\n",
    "id_review_df = id_df.merge(reviewTextWord2vec_df_agg, on=[\"review_id\"])\n",
    "\n",
    "id_review_df_agg_user = (\n",
    "    id_review_df.groupby([\"user_id\"], as_index=False).agg(\n",
    "        {\"vec\": list, \"word_count\": np.sum})\n",
    ")\n",
    "id_review_df_agg_user[\"vec\"] = id_review_df_agg_user[\"vec\"].apply(lambda x: np.sum(np.array(x), axis=0))\n",
    "\n",
    "id_review_df_agg_business = (\n",
    "    id_review_df.groupby([\"business_id\"], as_index=False).agg(\n",
    "        {\"vec\": list, \"word_count\": np.sum})\n",
    ")\n",
    "id_review_df_agg_business[\"vec\"] = id_review_df_agg_business[\"vec\"].apply(lambda x: np.sum(np.array(x), axis=0))\n",
    "\n",
    "id2vec_df = id_review_df.copy()\n",
    "id2vec_df = id2vec_df.rename(columns={\"vec\": \"vec_curr\", \"word_count\": \"word_count_curr\"})\n",
    "\n",
    "assert np.mean(id2vec_df[\"word_count_curr\"]>0) > 0\n",
    "\n",
    "id2vec_df = id2vec_df.merge(id_review_df_agg_user, on=[\"user_id\"])\n",
    "id2vec_df[\"vec\"] -= id2vec_df[\"vec_curr\"]\n",
    "id2vec_df[\"word_count\"] -=id2vec_df[\"word_count_curr\"]\n",
    "id2vec_df = id2vec_df.rename(columns={\"vec\": \"user_vec\", \"word_count\": \"user_word_count\"})\n",
    "id2vec_df[\"user_vec\"] /= id2vec_df[\"user_word_count\"]\n",
    "id2vec_df = id2vec_df[id2vec_df[\"user_word_count\"] != 0]\n",
    "\n",
    "id2vec_df = id2vec_df.merge(id_review_df_agg_business, on=[\"business_id\"])\n",
    "id2vec_df[\"vec\"] -= id2vec_df[\"vec_curr\"]\n",
    "id2vec_df[\"word_count\"] -= id2vec_df[\"word_count_curr\"]\n",
    "id2vec_df = id2vec_df.rename(columns={\"vec\": \"business_vec\", \"word_count\": \"business_word_count\"})\n",
    "id2vec_df[\"business_vec\"] /= id2vec_df[\"business_word_count\"]\n",
    "id2vec_df = id2vec_df[id2vec_df[\"business_word_count\"] != 0]\n",
    "\n",
    "\n",
    "id2vec_df = id2vec_df.drop(columns=[\"vec_curr\",\"word_count_curr\",\"user_word_count\",\"business_word_count\"])\n",
    "concat_vecs = (\n",
    "    id2vec_df[\"user_vec\"].apply(list) + id2vec_df[\"business_vec\"].apply(list)\n",
    ")\n",
    "\n",
    "\n",
    "id_review_df_agg_user[\"vec\"] /= id_review_df_agg_user[\"word_count\"]\n",
    "id_review_df_agg_business[\"vec\"] /= id_review_df_agg_business[\"word_count\"]\n",
    "\n",
    "user_mapper = id_review_df_agg_user[[\"user_id\",\"vec\"]].set_index(\"user_id\")[\"vec\"].to_dict()\n",
    "business_mapper = id_review_df_agg_business[[\"business_id\", \"vec\"]].set_index(\"business_id\")[\"vec\"].to_dict()\n",
    "\n",
    "valid_user_id_column = id2vec_df[\"user_id\"].values.tolist()\n",
    "valid_business_id_column = id2vec_df[\"business_id\"].values.tolist()\n",
    "#valid_user_id_column = id_review_df[\"user_id\"].values.tolist()\n",
    "#valid_business_id_column = id_review_df[\"business_id\"].values.tolist()\n",
    "\n",
    "pair_existence_checker = defaultdict(lambda: -1)\n",
    "for pair in list(zip(valid_user_id_column,valid_business_id_column)):\n",
    "    pair_existence_checker[pair] = 1\n"
   ]
  },
  {
   "cell_type": "code",
   "execution_count": null,
   "metadata": {},
   "outputs": [],
   "source": [
    "# PYSPARK VERSION\n",
    "\n",
    "temp_df = reviews_df\n",
    "\n",
    "win_row_number = Window.orderBy(\"review_id\")\n",
    "temp_df = temp_df.withColumn('review_id',F.row_number().over(win_row_number))\n",
    "id_df = temp_df.select(F.col(\"user_id\"),F.col(\"business_id\"),F.col(\"review_id\"))\n",
    "review_df = temp_df.select(F.col(\"review_id\"),F.col(\"review_text\"))\n",
    "\n",
    "\n",
    "review_df = review_df.withColumn(\"review_text\",F.lower(col(\"review_text\")))\n",
    "review_df = review_df.withColumn(\"review_text\", F.translate(\"review_text\", non_alphanumeric, \" \"*len(non_alphanumeric)))\n",
    "# https://sparkbyexamples.com/pyspark/pyspark-replace-column-values/\n",
    "review_df = review_df.withColumn(\"review_text\", F.split(\"review_text\", \" \"))\n",
    "# https://sparkbyexamples.com/pyspark/pyspark-convert-string-to-array-column/  \n",
    "\n",
    "# reviewTextWords_df = review_df.explode(\"review_text\")\n",
    "\n",
    "reviewTextWords_df = review_df.withColumn(\"review_text\", F.explode(\"review_text\"))\n",
    "# https://stackoverflow.com/questions/44436856/explode-array-data-into-rows-in-spark    \n",
    "\n",
    "\n",
    "\n",
    "reviewTextWords_df = reviewTextWords_df.filter(~((F.col(\"review_text\")).isin(stop_words)))\n",
    "reviewTextWords_df = reviewTextWords_df.filter(((F.col(\"review_text\")).isin(recipe_word2vec_lexicon)))\n",
    "reviewTextWords_df = reviewTextWords_df.filter(((F.col(\"review_text\")).isin(recipe_tfidf_lexicon)))\n",
    "reviewTextWords_df = reviewTextWords_df.filter(((F.col(\"review_text\")) != \"\"))\n",
    "\n",
    "# https://sparkbyexamples.com/pyspark/pyspark-where-filter/\n",
    "\n",
    "# review_df = review_df[(review_df[\"review_id\"].isin(pd.unique(reviewTextWords_df[\"review_id\"])))]\n",
    "\n",
    "reviewTextWords_df_unique_review_ids = reviewTextWords_df.select(F.col(\"review_id\")).distinct().collect()\n",
    "\n",
    "review_df = review_df.filter(((F.col(\"review_text\")).isin(reviewTextWords_df_unique_review_ids)))\n",
    "\n",
    "\n",
    "business_id_frequency = id_df.groupBy(\"business_id\").count()\n",
    "user_id_frequency = id_df.groupBy(\"user_id\").count()\n",
    "\n",
    "business_id_one_time = business_id_frequency.filter(((F.col(\"count\"))==1)).select(F.col(\"business_id\"))\n",
    "user_id_one_time = user_id_frequency.filter(((F.col(\"count\"))==1)).select(F.col(\"user_id\"))\n",
    "\n",
    "id_df = id_df.filter(~(\n",
    "    ((F.col(\"business_id\").isin(business_id_one_time))) & ((F.col(\"user_id\").isin(user_id_one_time)))\n",
    "))\n",
    "# https://sparkbyexamples.com/pyspark/pyspark-groupby-count-explained/\n",
    "\n",
    "\n",
    "reviewTextWords_df = reviewTextWords_df.withColumn(\"word_count\", F.lit(1))\n",
    "# https://sparkbyexamples.com/pyspark/pyspark-add-new-column-to-dataframe/\n",
    "\n",
    "\n",
    "reviewTextWord2vec_df = reviewTextWords_df.join(word2vec_df, on=\"review_text\")\n",
    "# https://spark.apache.org/docs/3.1.2/api/python/reference/api/pyspark.sql.DataFrame.join.html\n",
    "\n",
    "# reviewTextWord2vec_df.sort_values([\"review_id\"], inplace=True)\n",
    "\n",
    "\n",
    "\n",
    "agg_column_names = vec_column_names + [\"word_count\"]\n",
    "\n",
    "reviewTextWord2vec_df_agg = reviewTextWord2vec_df.groupBy(\"review_id\").sum(agg_column_names)\n",
    "\n",
    "# https://sparkbyexamples.com/pyspark/pyspark-groupby-agg-aggregate-explained/\n",
    "# https://stackoverflow.com/questions/33882894/spark-sql-apply-aggregate-functions-to-a-list-of-columns\n",
    "\n",
    "\n",
    "id_review_df = id_df.join(reviewTextWord2vec_df_agg, on=\"review_id\")\n",
    "\n",
    "\n",
    "id_review_df_agg_user = id_review_df.groupBy(\"user_id\").sum(agg_column_names)\n",
    "\n",
    "id_review_df_agg_business = id_review_df.groupBy(\"business_id\").sum(agg_column_names)\n",
    "\n",
    "user_vec_column_names = [\"u\"+x for x in vec_column_names]\n",
    "business_vec_column_names = [\"b\"+x for x in vec_column_names]\n",
    "for i in range(len(vec_column_names)):\n",
    "    vec_column_name = vec_column_names[i]\n",
    "    user_vec_column_name = user_vec_column_names[i]\n",
    "    business_vec_column_name = business_vec_column_names[i]\n",
    "    id_review_df_agg_user = id_review_df_agg_user.withColumnRenamed(vec_column_name, user_vec_column_name)\n",
    "    id_review_df_agg_business = id_review_df_agg_business.withColumnRenamed(vec_column_name, business_vec_column_name)\n",
    "\n",
    "id_review_df_agg_user = id_review_df_agg_user.withColumnRenamed(\"word_count\", \"user_word_count\")\n",
    "id_review_df_agg_business = id_review_df_agg_business.withColumnRenamed(\"word_count\", \"business_word_count\")\n",
    "# https://stackoverflow.com/questions/38798567/pyspark-rename-more-than-one-column-using-withcolumnrenamed\n",
    "\n",
    "\n",
    "\n",
    "id2vec_df = id2vec_df.join(id_review_df_agg_user, \"user_id\")\n",
    "for i in range(len(vec_column_names)):\n",
    "    vec_column_name = vec_column_names[i]\n",
    "    user_vec_column_name = user_vec_column_names[i]\n",
    "    id2vec_df = id2vec_df.withColumn(vec_column_name, \n",
    "                ((F.col(user_vec_column_name)) - (F.col(vec_column_name)))\n",
    "                                    )\n",
    "#https://www.datasciencemadesimple.com/sum-of-two-or-more-columns-in-pyspark/    \n",
    "id2vec_df = id2vec_df.withColumn(vec_column_name, \n",
    "            ((F.col(\"user_word_count\")) - (F.col(\"word_count\")))\n",
    "                                    )\n",
    "id2vec_df = id2vec_df.filter(((F.col(\"user_word_count\")) != 0))\n",
    "\n",
    "for i in range(len(user_vec_column_names)):\n",
    "    user_vec_column_name = user_vec_column_names[i]\n",
    "    id2vec_df = id2vec_df.withColumn(user_vec_column_name, \n",
    "                                     ((F.col(user_vec_column_name)) / (F.col(\"user_word_count\")))\n",
    "                                    )\n",
    "# https://mrpowers.medium.com/performing-operations-on-multiple-columns-in-a-pyspark-dataframe-36e97896c378\n",
    "\n",
    "id2vec_df = id2vec_df.join(id_review_df_agg_business, \"business_id\")\n",
    "for i in range(len(vec_column_names)):\n",
    "    vec_column_name = vec_column_names[i]\n",
    "    business_vec_column_name = business_vec_column_names[i]\n",
    "    id2vec_df = id2vec_df.withColumn(business_vec_column_name, \n",
    "                ((F.col(business_vec_column_name)) - (F.col(vec_column_name))))\n",
    "#https://www.datasciencemadesimple.com/sum-of-two-or-more-columns-in-pyspark/    \n",
    "id2vec_df = id2vec_df.withColumn(business_vec_column_name, \n",
    "            ((F.col(\"(business_word_count\")) - (F.col(\"word_count\"))))\n",
    "id2vec_df = id2vec_df.filter(((F.col(\"(business_word_count\")) != 0))\n",
    "\n",
    "for i in range(len(business_vec_column_names)):\n",
    "    business_vec_column_name = business_vec_column_names[i]\n",
    "    id2vec_df = id2vec_df.withColumn(business_vec_column_name, \n",
    "                                     ((F.col(business_vec_column_name)) / (F.col(\"user_word_count\"))))\n",
    "\n",
    "# https://mrpowers.medium.com/performing-operations-on-multiple-columns-in-a-pyspark-dataframe-36e97896c378\n",
    "\n",
    "target_column_name = \"target\"\n",
    "target_column_names = [target_column_name]\n",
    "id2vec_df = id2vec_df.withColumn(target_column_name, F.lit(1))\n",
    "\n",
    "concated_vec_column_names = user_vec_column_names + business_vec_column_names\n",
    "\n",
    "data_column_names = concated_vec_column_names + target_column_names\n",
    "data_column_names = [F.col(x) for x in data_column_names]\n",
    "train_data_curr_excluded_from_average = id2vec_df.select(*data_column_names)\n",
    "\n",
    "\n",
    "for i in range(len(vec_column_names)):\n",
    "    vec_column_name = vec_column_names[i]\n",
    "    user_vec_column_name = user_vec_column_names[i]\n",
    "    id_review_df_agg_user = id_review_df_agg_user.withColumn(user_vec_column_name, \n",
    "                                     ((F.col(vec_column_name)) / (F.col(\"word_count\")))\n",
    "                                    )\n",
    "    #id_review_df_agg_user = id_review_df_agg_user.drop(F.col(vec_column_name))\n",
    "    \n",
    "    business_vec_column_name = business_vec_column_names[i]\n",
    "    id_review_df_agg_business = id_review_df_agg_business.withColumn(business_vec_column_name, \n",
    "                                     ((F.col(vec_column_name)) / (F.col(\"word_count\")))\n",
    "                                    )\n",
    "    #id_review_df_agg_business = id_review_df_agg_business.drop(F.col(vec_column_name))\n",
    "\n",
    "\n",
    "valid_user_id_column = id2vec_df.select(F.col(\"user_id\"))\n",
    "valid_business_id_column = id2vec_df.select(F.col(\"business_id\"))\n",
    "\n",
    "\n",
    "\n",
    "\n",
    "\n",
    "chunk_size = 5000\n",
    "#len_set_valid_user_id_column = valid_user_id_column.distinct().count()\n",
    "train_id_df = train_data_curr_excluded_from_average\n",
    "\n",
    "seen_pairs = train_id_df.select(F.col(\"user_id\"), F.col(\"business_id\"))\n",
    "\n",
    "user_fraction = np.ceil(chunk_size/valid_user_id_column.count())\n",
    "business_fraction = np.ceil(chunk_size/valid_business_id_column.count())\n",
    "\n",
    "temp_user_id_samples = valid_user_id_column.sample(fraction=1)\n",
    "temp_business_id_samples = valid_business_id_column.sample(fraction=1)\n",
    "\n",
    "temp_user_id_sampled = temp_user_id_samples.sample(fraction=user_fraction)\n",
    "temp_user_id_sampled = temp_user_id_sampled.limit(chunk_size)\n",
    "temp_business_id_sampled = temp_business_id_samples.sample(fraction=business_fraction)\n",
    "temp_business_id_sampled = temp_business_id_sampled.limit(chunk_size)\n",
    "\n",
    "temp_sampled_pairs = temp_user_id_sampled.withColumn(\"business_id\", \n",
    "                                                       temp_business_id_sampled.select(F.col(\"business_id\"))\n",
    "                                                      )\n",
    "unseen_pairs = temp_sampled_pairs.difference(seen_pairs)\n",
    "\n",
    "len_train_df = train_id_df.count()\n",
    "while unseen_pairs.count() < len_train_df:\n",
    "\n",
    "    temp_user_id_samples = valid_user_id_column.sample(fraction=1)\n",
    "    temp_business_id_samples = valid_business_id_column.sample(fraction=1)\n",
    "\n",
    "    temp_user_id_sampled = temp_user_id_samples.sample(fraction=user_fraction)\n",
    "    temp_user_id_sampled = temp_user_id_sampled.limit(chunk_size)\n",
    "    temp_business_id_sampled = temp_business_id_samples.sample(fraction=business_fraction)\n",
    "    temp_business_id_sampled = temp_business_id_sampled.limit(chunk_size)\n",
    "\n",
    "    temp_sampled_pairs = temp_user_id_sampled.withColumn(\"business_id\", \n",
    "                                                           temp_business_id_sampled.select(F.col(\"business_id\"))\n",
    "                                                          )\n",
    "    temp_unseen_pairs = temp_sampled_pairs.difference(seen_pairs)\n",
    "    unseen_pairs = unseen_pairs.union(temp_unseen_pairs)\n",
    "\n",
    "seen_pairs_with_target = train_id_df.select(F.col(\"user_id\"), F.col(\"business_id\"), F.col(target_column_name))\n",
    "unseen_pairs_with_target = unseen_pairs.withColumn(target_column_name, F.lit(0))\n",
    "# https://www.datasciencemadesimple.com/set-difference-in-pyspark-difference-of-two-dataframe/\n",
    "\n",
    "final_interaction = seen_pairs_with_target.union(unseen_pairs_with_target)\n",
    "\n",
    "final_interaction = final_interaction.join(id_review_df_agg_user,\"user_id\").drop(F.col(\"user_word_count\"))\n",
    "final_interaction = final_interaction.join(id_review_df_agg_business,\"business_id\").drop(F.col(\"business_word_count\"))\n",
    "\n",
    "input_column_names = user_vec_column_names + business_vec_column_names\n",
    "assembler = M.features.VectorAssembler(inputCols = input_column_names, outputCol='features')\n",
    "final_interaction = assembler.transform(final_interaction).select(F.col('features'), F.col(target_column_name))\n",
    "\n",
    "splitted = final_interaction.randomSplit([0.75, 0.25], 1)\n",
    "train_interaction = splitted[0]\n",
    "test_interaction = splitted[1]\n",
    "\n",
    "input_column_names = user_vec_column_names + business_vec_column_names\n",
    "input_column_names = [F.col(x) for x in input_column_names]\n",
    "target_column_names = [target_column_name]\n",
    "target_column_names = [F.col(x) for x in target_column_names]\n",
    "\n",
    "train_X = train_interaction.select(*input_column_names)\n",
    "train_y = train_interaction.select(*target_column_names)\n",
    "\n",
    "test_X = test_interaction.select(*input_column_names)\n",
    "test_y = test_interaction.select(*target_column_names)\n",
    "\n",
    "lr = M.classification.LogisticRegression(labelCol = target_column_name,\n",
    "                                     featuresCol=\"features\")\n",
    "pl = M.Pipeline(stages=[dt])\n",
    "\n",
    "model = pl.fit(train_interaction)    \n",
    "# https://medium.com/featurepreneur/logistic-regression-with-pyspark-in-10-steps-3edecd6fe3c5\n",
    "\n",
    "predictions = model.transform(test_X)\n",
    "\n",
    "spark.stop()\n",
    "\n",
    "\n"
   ]
  },
  {
   "cell_type": "markdown",
   "metadata": {},
   "source": [
    "id2vec_df_ = id2vec_df.merge(reviews_df[[\"review_id\",\"rating\"]], on=\"review_id\")\n",
    "id2vec_df_[\"rating\"] = id2vec_df_[\"rating\"] == 5\n",
    "\n",
    "train_X = id2vec_df_[[\"user_vec\",\"business_vec\"]]\n",
    "train_y = id2vec_df_[\"rating\"]\n",
    "\n",
    "unravel = lambda X, name: np.array(list((X[name].apply(list)).values))\n",
    "X_train, X_val, y_train, y_val = train_test_split(train_X, train_y, test_size=0.25)\n",
    "X_train = np.hstack((unravel(X_train,\"user_vec\"),unravel(X_train,\"business_vec\")))\n",
    "X_val = np.hstack((unravel(X_val,\"user_vec\"),unravel(X_val,\"business_vec\")))\n",
    "\n",
    "pca = PCA(2)\n",
    "temp_X_pca_input = X_train\n",
    "temp_y_pca_input = y_train\n",
    "\n",
    "Z = pca.fit_transform(temp_X_pca_input)\n",
    "fig, ax = plt.subplots(figsize=(8,8))\n",
    "ax.scatter(Z[:,0], Z[:,1],c=temp_y_pca_input, alpha=0.1, s=5, cmap=\"winter\")\n",
    "\n",
    "from sklearn.linear_model import LogisticRegression\n",
    "log_reg = LogisticRegression(max_iter=500, class_weight=\"balanced\", C=0.5)\n",
    "log_reg.fit(X_train, y_train)\n",
    "lr_y_pred = log_reg.predict(X_val)\n",
    "\n",
    "y_true = y_val\n",
    "y_pred = lr_y_pred\n",
    "conf_matrix = confusion_matrix(y_true, y_pred,normalize=\"true\")\n",
    "fig2, ax2 = plt.subplots(figsize=(10,10)) \n",
    "ax2 = sns.heatmap(conf_matrix, annot=True) #notation: \"annot\" not \"annote\"\n",
    "y_lims = ax2.get_ylim()\n",
    "ax2.set_ylim(sum(y_lims), 0)"
   ]
  },
  {
   "cell_type": "markdown",
   "metadata": {},
   "source": [
    "#DOTPRODUCT OF USER AND BUSINESS\n",
    "\n",
    "id2vec_df_ = id2vec_df.merge(reviews_df[[\"review_id\",\"rating\"]], on=\"review_id\")\n",
    "id2vec_df_[\"rating\"] = id2vec_df_[\"rating\"] == 5\n",
    "\n",
    "train_X = id2vec_df_[[\"user_vec\",\"business_vec\"]]\n",
    "train_y = id2vec_df_[\"rating\"]\n",
    "\n",
    "from sklearn.preprocessing import normalize\n",
    "\n",
    "\n",
    "unravel = lambda X, name: normalize(np.array(list((X[name].apply(list)).values)))\n",
    "X_train, X_val, y_train, y_val = train_test_split(train_X, train_y, test_size=0.25)\n",
    "X_train = ((unravel(X_train,\"user_vec\")*unravel(X_train,\"business_vec\")))\n",
    "X_val = ((unravel(X_val,\"user_vec\")*unravel(X_val,\"business_vec\")))\n",
    "\n",
    "pca = PCA(2)\n",
    "temp_X_pca_input = X_train\n",
    "temp_y_pca_input = y_train\n",
    "\n",
    "Z = pca.fit_transform(temp_X_pca_input)\n",
    "fig, ax = plt.subplots(figsize=(8,8))\n",
    "ax.scatter(Z[:,0], Z[:,1],c=temp_y_pca_input, alpha=0.1, s=5, cmap=\"winter\")\n",
    "\n",
    "from sklearn.linear_model import LogisticRegression\n",
    "log_reg = LogisticRegression(max_iter=500, class_weight=\"balanced\", C=0.5)\n",
    "log_reg.fit(X_train, y_train)\n",
    "lr_y_pred = log_reg.predict(X_val)\n",
    "\n",
    "y_true = y_val\n",
    "y_pred = lr_y_pred\n",
    "conf_matrix = confusion_matrix(y_true, y_pred,normalize=\"true\")\n",
    "fig2, ax2 = plt.subplots(figsize=(10,10)) \n",
    "ax2 = sns.heatmap(conf_matrix, annot=True) #notation: \"annot\" not \"annote\"\n",
    "y_lims = ax2.get_ylim()\n",
    "ax2.set_ylim(sum(y_lims), 0)"
   ]
  },
  {
   "cell_type": "code",
   "execution_count": 13,
   "metadata": {},
   "outputs": [
    {
     "name": "stderr",
     "output_type": "stream",
     "text": [
      "100%|███████████████████████████████████████████████████████████████████████████| 35739/35739 [00:46<00:00, 772.99it/s]\n"
     ]
    }
   ],
   "source": [
    "train_X_curr_excluded_from_average = np.array(concat_vecs.values.tolist())\n",
    "train_y_curr_excluded_from_average = np.ones(train_X_curr_excluded_from_average.shape[0])\n",
    "\n",
    "from sklearn.preprocessing import normalize\n",
    "\n",
    "\n",
    "unravel = lambda X, name: normalize(np.array(list((X[name].apply(list)).values)))\n",
    "X_train, X_val, y_train, y_val = train_test_split(train_X, train_y, test_size=0.25)\n",
    "X_train = ((unravel(X_train,\"user_vec\")*unravel(X_train,\"business_vec\")))\n",
    "X_val = ((unravel(X_val,\"user_vec\")*unravel(X_val,\"business_vec\")))\n",
    "\n",
    "\n",
    "# Unseen sampling (PCA verifies that this is a valid operation)\n",
    "non_existing_interaction_pairs = []\n",
    "pair_non_existence_checker = defaultdict(lambda: -1)\n",
    "\n",
    "sampled_user_id_list = np.random.choice(valid_user_id_column, size=len(set(valid_user_id_column)))\n",
    "business_id_list_ = list(set(valid_business_id_column)).copy()\n",
    "\n",
    "business_amount_per_user = train_X_curr_excluded_from_average.shape[0] // (len(set(valid_user_id_column)))\n",
    "\n",
    "max_sampling_amounts = [\n",
    "    #np.floor(business_amount_per_user), \n",
    "    np.ceil(business_amount_per_user)\n",
    "    ]\n",
    "train_X_averages_with_curr_bc_unseen = []\n",
    "train_y_averages_with_curr_bc_unseen = []\n",
    "concat_embeddings_maxes = []\n",
    "for temp_user_id in tqdm.tqdm(sampled_user_id_list):\n",
    "    sampled_amount = 0\n",
    "    business_id_iterator = 0\n",
    "    np.random.shuffle(business_id_list_)\n",
    "    max_sampling_amount = np.random.choice(max_sampling_amounts)\n",
    "    while sampled_amount < max_sampling_amount:\n",
    "        temp_business_id = business_id_list_[business_id_iterator]\n",
    "        pair = [temp_user_id, temp_business_id]\n",
    "        if ((pair_existence_checker[tuple(pair)] == -1) and (pair_non_existence_checker[tuple(pair)] == -1)):\n",
    "            pair_non_existence_checker[tuple(pair)] = 1\n",
    "            #non_existing_interaction_pairs.append(pair)\n",
    "            concat_embeddings = list(user_mapper[temp_user_id]) + list(business_mapper[temp_business_id])\n",
    "            train_X_averages_with_curr_bc_unseen.append(concat_embeddings)\n",
    "            train_y_averages_with_curr_bc_unseen.append(0)\n",
    "            sampled_amount += 1\n",
    "        business_id_iterator += 1\n",
    "assert all([(pair_existence_checker[tuple(pair)]==-1) for pair in non_existing_interaction_pairs])\n",
    "\n",
    "train_X_averages_with_curr_bc_unseen = np.array(train_X_averages_with_curr_bc_unseen)\n",
    "train_y_averages_with_curr_bc_unseen = np.array(train_y_averages_with_curr_bc_unseen)\n",
    "\n",
    "existing_interaction_pairs = train_X_curr_excluded_from_average\n",
    "non_existing_interaction_pairs = train_X_averages_with_curr_bc_unseen\n",
    "train_X_seen = train_X_curr_excluded_from_average\n",
    "train_X_unseen = train_X_averages_with_curr_bc_unseen\n",
    "train_y_seen = train_y_curr_excluded_from_average\n",
    "train_y_unseen = train_y_averages_with_curr_bc_unseen\n",
    "\n",
    "train_dataset_size = len(existing_interaction_pairs)+len(non_existing_interaction_pairs)\n",
    "train_dataset_indexer = np.arange(train_dataset_size)\n",
    "np.random.shuffle(train_dataset_indexer)\n",
    "\n",
    "train_X = np.vstack((train_X_curr_excluded_from_average,train_X_averages_with_curr_bc_unseen))\n",
    "train_y = np.hstack((train_y_curr_excluded_from_average,train_y_averages_with_curr_bc_unseen))\n",
    "\n",
    "train_X = train_X[train_dataset_indexer]\n",
    "train_y = train_y[train_dataset_indexer]\n",
    "X_train, X_val, y_train, y_val = train_test_split(train_X, train_y, test_size=0.25)\n",
    "\n",
    "\n",
    "pca = PCA(2)\n",
    "temp_X_pca_input = train_X\n",
    "temp_y_pca_input = train_y\n",
    "\n",
    "Z = pca.fit_transform(temp_X_pca_input)\n",
    "fig, ax = plt.subplots(figsize=(8,8))\n",
    "ax.scatter(Z[:,0], Z[:,1],c=temp_y_pca_input, alpha=0.1, s=5, cmap=\"winter\")\n",
    "\n",
    "from sklearn.linear_model import LogisticRegression\n",
    "log_reg = LogisticRegression(max_iter=500, class_weight=\"balanced\", C=0.5)\n",
    "log_reg.fit(X_train, y_train)\n",
    "#X_val = ss.transform(X_val)\n",
    "lr_y_pred = log_reg.predict(X_val)\n",
    "\n",
    "y_true = y_val\n",
    "y_pred = lr_y_pred\n",
    "conf_matrix = confusion_matrix(y_true, y_pred,normalize=\"true\")\n",
    "fig, ax2 = plt.subplots(figsize=(10,10)) \n",
    "ax2 = sns.heatmap(conf_matrix, annot=True) #notation: \"annot\" not \"annote\"\n",
    "y_lims = ax2.get_ylim()\n",
    "ax2.set_ylim(sum(y_lims), 0)"
   ]
  },
  {
   "cell_type": "code",
   "execution_count": 19,
   "metadata": {},
   "outputs": [
    {
     "name": "stderr",
     "output_type": "stream",
     "text": [
      "100%|███████████████████████████████████████████████████████████████████████████| 35739/35739 [00:49<00:00, 727.87it/s]\n"
     ]
    },
    {
     "data": {
      "text/plain": [
       "(2.0, 0)"
      ]
     },
     "execution_count": 19,
     "metadata": {},
     "output_type": "execute_result"
    },
    {
     "data": {
      "image/png": "[encoded data removed]",
      "text/plain": [
       "<Figure size 576x576 with 1 Axes>"
      ]
     },
     "metadata": {
      "needs_background": "light"
     },
     "output_type": "display_data"
    },
    {
     "data": {
      "image/png": "[encoded data removed]",
      "text/plain": [
       "<Figure size 720x720 with 2 Axes>"
      ]
     },
     "metadata": {
      "needs_background": "light"
     },
     "output_type": "display_data"
    }
   ],
   "source": [
    "#DOTPRODUCT OF USER AND BUSINESS\n",
    "\n",
    "train_X_curr_excluded_from_average = np.array(concat_vecs.values.tolist())\n",
    "unravel = lambda X, name: normalize(np.array(list((X[name].apply(list)).values)))\n",
    "#X_train, X_val, y_train, y_val = train_test_split(train_X, train_y, test_size=0.25)\n",
    "#X_train = ((unravel(X_train,\"user_vec\")*unravel(X_train,\"business_vec\")))\n",
    "train_X_curr_excluded_from_average = ((unravel(id2vec_df,\"user_vec\")*unravel(id2vec_df,\"business_vec\")))\n",
    "\n",
    "train_y_curr_excluded_from_average = np.ones(train_X_curr_excluded_from_average.shape[0])\n",
    "\n",
    "# Unseen sampling (PCA verifies that this is a valid operation)\n",
    "non_existing_interaction_pairs = []\n",
    "pair_non_existence_checker = defaultdict(lambda: -1)\n",
    "\n",
    "sampled_user_id_list = np.random.choice(valid_user_id_column, size=len(set(valid_user_id_column)))\n",
    "business_id_list_ = list(set(valid_business_id_column)).copy()\n",
    "\n",
    "business_amount_per_user = train_X_curr_excluded_from_average.shape[0] // (len(set(valid_user_id_column)))\n",
    "\n",
    "max_sampling_amounts = [\n",
    "    #np.floor(business_amount_per_user), \n",
    "    np.ceil(business_amount_per_user)\n",
    "    ]\n",
    "train_X_averages_with_curr_bc_unseen = []\n",
    "train_y_averages_with_curr_bc_unseen = []\n",
    "concat_embeddings_maxes = []\n",
    "for temp_user_id in tqdm.tqdm(sampled_user_id_list):\n",
    "    sampled_amount = 0\n",
    "    business_id_iterator = 0\n",
    "    np.random.shuffle(business_id_list_)\n",
    "    max_sampling_amount = np.random.choice(max_sampling_amounts)\n",
    "    while sampled_amount < max_sampling_amount:\n",
    "        temp_business_id = business_id_list_[business_id_iterator]\n",
    "        pair = [temp_user_id, temp_business_id]\n",
    "        if ((pair_existence_checker[tuple(pair)] == -1) and (pair_non_existence_checker[tuple(pair)] == -1)):\n",
    "            pair_non_existence_checker[tuple(pair)] = 1\n",
    "            #non_existing_interaction_pairs.append(pair)\n",
    "            uv = (user_mapper[temp_user_id])\n",
    "            bv = (business_mapper[temp_business_id])\n",
    "            concat_embeddings = (uv/np.linalg.norm(uv)) * (bv/np.linalg.norm(bv))\n",
    "            train_X_averages_with_curr_bc_unseen.append(concat_embeddings)\n",
    "            train_y_averages_with_curr_bc_unseen.append(0)\n",
    "            sampled_amount += 1\n",
    "        business_id_iterator += 1\n",
    "assert all([(pair_existence_checker[tuple(pair)]==-1) for pair in non_existing_interaction_pairs])\n",
    "\n",
    "train_X_averages_with_curr_bc_unseen = np.array(train_X_averages_with_curr_bc_unseen)\n",
    "train_y_averages_with_curr_bc_unseen = np.array(train_y_averages_with_curr_bc_unseen)\n",
    "\n",
    "existing_interaction_pairs = train_X_curr_excluded_from_average\n",
    "non_existing_interaction_pairs = train_X_averages_with_curr_bc_unseen\n",
    "train_X_seen = train_X_curr_excluded_from_average\n",
    "train_X_unseen = train_X_averages_with_curr_bc_unseen\n",
    "train_y_seen = train_y_curr_excluded_from_average\n",
    "train_y_unseen = train_y_averages_with_curr_bc_unseen\n",
    "\n",
    "train_dataset_size = len(existing_interaction_pairs)+len(non_existing_interaction_pairs)\n",
    "train_dataset_indexer = np.arange(train_dataset_size)\n",
    "np.random.shuffle(train_dataset_indexer)\n",
    "\n",
    "train_X = np.vstack((train_X_curr_excluded_from_average,train_X_averages_with_curr_bc_unseen))\n",
    "train_y = np.hstack((train_y_curr_excluded_from_average,train_y_averages_with_curr_bc_unseen))\n",
    "\n",
    "train_X = train_X[train_dataset_indexer]\n",
    "train_y = train_y[train_dataset_indexer]\n",
    "X_train, X_val, y_train, y_val = train_test_split(train_X, train_y, test_size=0.25)\n",
    "\n",
    "\n",
    "pca = PCA(2)\n",
    "temp_X_pca_input = train_X\n",
    "temp_y_pca_input = train_y\n",
    "\n",
    "Z = pca.fit_transform(temp_X_pca_input)\n",
    "fig, ax = plt.subplots(figsize=(8,8))\n",
    "ax.scatter(Z[:,0], Z[:,1],c=temp_y_pca_input, alpha=0.1, s=5, cmap=\"winter\")\n",
    "\n",
    "from sklearn.linear_model import LogisticRegression\n",
    "log_reg = LogisticRegression(max_iter=500, class_weight=\"balanced\", C=0.5)\n",
    "log_reg.fit(X_train, y_train)\n",
    "#X_val = ss.transform(X_val)\n",
    "lr_y_pred = log_reg.predict(X_val)\n",
    "\n",
    "y_true = y_val\n",
    "y_pred = lr_y_pred\n",
    "conf_matrix = confusion_matrix(y_true, y_pred,normalize=\"true\")\n",
    "fig, ax2 = plt.subplots(figsize=(10,10)) \n",
    "ax2 = sns.heatmap(conf_matrix, annot=True) #notation: \"annot\" not \"annote\"\n",
    "y_lims = ax2.get_ylim()\n",
    "ax2.set_ylim(sum(y_lims), 0)"
   ]
  },
  {
   "cell_type": "code",
   "execution_count": null,
   "metadata": {},
   "outputs": [],
   "source": []
  },
  {
   "cell_type": "code",
   "execution_count": null,
   "metadata": {},
   "outputs": [],
   "source": []
  },
  {
   "cell_type": "code",
   "execution_count": null,
   "metadata": {},
   "outputs": [],
   "source": []
  },
  {
   "cell_type": "code",
   "execution_count": null,
   "metadata": {},
   "outputs": [],
   "source": []
  },
  {
   "cell_type": "code",
   "execution_count": null,
   "metadata": {},
   "outputs": [],
   "source": []
  },
  {
   "cell_type": "code",
   "execution_count": null,
   "metadata": {},
   "outputs": [],
   "source": []
  },
  {
   "cell_type": "code",
   "execution_count": null,
   "metadata": {},
   "outputs": [],
   "source": []
  },
  {
   "cell_type": "code",
   "execution_count": null,
   "metadata": {},
   "outputs": [],
   "source": []
  },
  {
   "cell_type": "code",
   "execution_count": null,
   "metadata": {},
   "outputs": [],
   "source": []
  },
  {
   "cell_type": "code",
   "execution_count": null,
   "metadata": {},
   "outputs": [],
   "source": []
  },
  {
   "cell_type": "code",
   "execution_count": null,
   "metadata": {},
   "outputs": [],
   "source": []
  },
  {
   "cell_type": "code",
   "execution_count": null,
   "metadata": {},
   "outputs": [],
   "source": []
  },
  {
   "cell_type": "code",
   "execution_count": null,
   "metadata": {},
   "outputs": [],
   "source": []
  },
  {
   "cell_type": "code",
   "execution_count": null,
   "metadata": {},
   "outputs": [],
   "source": []
  },
  {
   "cell_type": "code",
   "execution_count": null,
   "metadata": {},
   "outputs": [],
   "source": []
  },
  {
   "cell_type": "code",
   "execution_count": 13,
   "metadata": {
    "id": "tdVMdN-saA3A"
   },
   "outputs": [],
   "source": [
    "import string\n",
    "non_alphanumeric = string.punctuation # constant\n",
    "\n",
    "class Dataset_Embedding_Mapper_Review_Text:\n",
    "    def __init__(self, recipe_word2vec, recipe_tfidf, temp_df, file_name_suffix):\n",
    "        # temp_df is reviews_df\n",
    "        assert all((x in list(temp_df.columns)) for x in [\"review_text\",\"business_id\",\"user_id\"])\n",
    "        self.recipe_word2vec = recipe_word2vec\n",
    "        self.recipe_tfidf = recipe_tfidf\n",
    "        self.temp_df = temp_df\n",
    "        self.path_file_business_user2vec = os.path.join(path_folder, \"data\", \"temp\",\"business_user2\"+file_name_suffix+\".pkl\")\n",
    "        self.path_file_user_business2vec = os.path.join(path_folder, \"data\", \"temp\",\"user_business2\"+file_name_suffix+\".pkl\")\n",
    "        self.business_user2vec = None\n",
    "        self.user_business2vec = None\n",
    "        self.__non_alphanumeric = string.punctuation\n",
    "        self.__stop_words = stopwords.words('english')+[\"\"]\n",
    "    def __clean_text(self, text):\n",
    "        non_alphanumeric = string.punctuation\n",
    "        text = text.lower()\n",
    "        text = text.translate(str.maketrans(self.__non_alphanumeric, \" \"*len(non_alphanumeric)))\n",
    "        return text\n",
    "    def __reviewText2vecList(self, review_text):\n",
    "        vec_list = []\n",
    "        clean_review_text = self.__clean_text(review_text)\n",
    "        for word in clean_review_text.split(\" \"):\n",
    "            if word in self.__stop_words: continue;\n",
    "            if word not in self.recipe_word2vec.wv: continue;\n",
    "            if word not in self.recipe_tfidf.vocab2idx: continue;\n",
    "            vec = self.recipe_word2vec.wv[word]\n",
    "            vec_list.append(vec)\n",
    "        return vec_list\n",
    "    def __reviewText(self, review_text):\n",
    "        word_list = []\n",
    "        clean_review_text = self.__clean_text(review_text)\n",
    "        for word in clean_review_text.split(\" \"):\n",
    "            if word in self.__stop_words: continue;\n",
    "            if word not in self.recipe_word2vec.wv: continue;\n",
    "            if word not in self.recipe_tfidf.vocab2idx: continue;\n",
    "            #vec = self.recipe_word2vec.wv[word]\n",
    "            word_list.append(word)\n",
    "        return word_list\n",
    "    def build_dataset_embedding_mappers(self):\n",
    "        reviews_df = self.temp_df\n",
    "        business_user2reviewTextVec = dict()\n",
    "        user_business2reviewTextVec = dict()\n",
    "        for i in tqdm.tqdm(range(reviews_df.shape[0])):\n",
    "            temp_row = reviews_df.iloc[i]\n",
    "            temp_business_id = (temp_row[\"business_id\"])\n",
    "            temp_user_id = (temp_row[\"user_id\"])\n",
    "            temp_review_text = (temp_row[\"review_text\"])\n",
    "            temp_review_text_vecs = self.__reviewText2vecList(temp_review_text)\n",
    "            # cannot add within the function, because we need to keep information about the amount (which may decrease within the function because of stop words)\n",
    "            if temp_review_text_vecs != []:\n",
    "                if temp_business_id not in business_user2reviewTextVec:\n",
    "                    business_user2reviewTextVec[temp_business_id] = dict()\n",
    "                business_user2reviewTextVec[temp_business_id][temp_user_id] = temp_review_text_vecs\n",
    "\n",
    "                if temp_user_id not in user_business2reviewTextVec:\n",
    "                    user_business2reviewTextVec[temp_user_id] = dict()\n",
    "                user_business2reviewTextVec[temp_user_id][temp_business_id] = temp_review_text_vecs\n",
    "        self.business_user2vec = business_user2reviewTextVec\n",
    "        self.user_business2vec = user_business2reviewTextVec\n",
    "\n",
    "    def build_dataset_cleaned_text_mappers(self):\n",
    "        reviews_df = self.temp_df\n",
    "        business_user2reviewText = dict()\n",
    "        user_business2reviewText = dict()\n",
    "        for i in tqdm.tqdm(range(reviews_df.shape[0])):\n",
    "            temp_row = reviews_df.iloc[i]\n",
    "            temp_business_id = (temp_row[\"business_id\"])\n",
    "            temp_user_id = (temp_row[\"user_id\"])\n",
    "            temp_review_text = (temp_row[\"review_text\"])\n",
    "            temp_review_text_cleaned = self.__reviewText(temp_review_text)\n",
    "            temp_review_text_cleaned = \" \".join(temp_review_text_cleaned)\n",
    "            # cannot add within the function, because we need to keep information about the amount (which may decrease within the function because of stop words)\n",
    "            if temp_review_text_cleaned != \"\":\n",
    "                if temp_business_id not in business_user2reviewText:\n",
    "                    business_user2reviewText[temp_business_id] = dict()\n",
    "                business_user2reviewText[temp_business_id][temp_user_id] = temp_review_text_cleaned\n",
    "                if temp_user_id not in user_business2reviewText:\n",
    "                    user_business2reviewText[temp_user_id] = dict()\n",
    "                user_business2reviewText[temp_user_id][temp_business_id] = None #temp_review_text_cleaned\n",
    "        self.business_user2reviewText = (business_user2reviewText)\n",
    "        self.user_business2reviewText = (user_business2reviewText)\n",
    "\n",
    "    def read_dataset_embedding_mappers(self, path_file_business_user2vec=None, path_file_user_business2vec=None):\n",
    "        if path_file_business_user2vec is None:\n",
    "            path_file_business_user2vec = self.path_file_business_user2vec\n",
    "        if path_file_user_business2vec is None:\n",
    "            path_file_user_business2vec = self.path_file_user_business2vec\n",
    "        with open(path_file_business_user2vec, \"rb\") as f:\n",
    "            business_user2vec = pickle.load(f)\n",
    "            f.close()\n",
    "        with open(path_file_user_business2vec, \"rb\") as f:\n",
    "            user_business2vec = pickle.load(f)\n",
    "            f.close()\n",
    "        self.business_user2vec = business_user2vec\n",
    "        self.user_business2vec = user_business2vec\n",
    "    def write_dataset_embedding_mappers(self, path_file_business_user2vec=None, path_file_user_business2vec=None):\n",
    "        if path_file_business_user2vec is None:\n",
    "            path_file_business_user2vec = self.path_file_business_user2vec\n",
    "        if path_file_user_business2vec is None:\n",
    "            path_file_user_business2vec = self.path_file_user_business2vec\n",
    "        with open(path_file_business_user2vec, \"wb\") as f:\n",
    "            pickle.dump(self.business_user2vec, f)\n",
    "            f.close()\n",
    "        with open(path_file_user_business2vec, \"wb\") as f:\n",
    "            pickle.dump(self.user_business2vec, f)\n",
    "            f.close()\n",
    "    "
   ]
  },
  {
   "cell_type": "code",
   "execution_count": 14,
   "metadata": {
    "id": "atnJfFZnr9Sr"
   },
   "outputs": [],
   "source": [
    "# Right before the writing of the business_user2reviewTextVec, remove all rows where BOTH the business and user id are never before seen, to reduce running time\n",
    "# \n",
    "business_id_frequency = reviews_df[\"business_id\"].value_counts()\n",
    "user_id_frequency = reviews_df[\"user_id\"].value_counts()\n",
    "one_time_business_id_list = np.array(list(business_id_frequency.index))[np.where(business_id_frequency==1)[0]]\n",
    "one_time_user_id_list = np.array(list(user_id_frequency.index))[np.where(user_id_frequency==1)[0]]\n",
    "if DROP_ONE_TIME_APPEARANCES == True:\n",
    "    reviews_df = reviews_df[~( (reviews_df[\"business_id\"].isin(one_time_business_id_list)) & (reviews_df[\"user_id\"].isin(one_time_user_id_list)))]"
   ]
  },
  {
   "cell_type": "code",
   "execution_count": 15,
   "metadata": {
    "id": "k8LJAT-hbbcA"
   },
   "outputs": [],
   "source": [
    "del business_id_frequency\n",
    "del user_id_frequency"
   ]
  },
  {
   "cell_type": "code",
   "execution_count": 16,
   "metadata": {
    "id": "6yvAaWiCEO7v"
   },
   "outputs": [],
   "source": [
    "if DROP_SEPARATED_ONE_TIME_APPEARANCES == True:\n",
    "    reviews_df = reviews_df[~( (reviews_df[\"business_id\"].isin(one_time_business_id_list)) | (reviews_df[\"user_id\"].isin(one_time_user_id_list)))]"
   ]
  },
  {
   "cell_type": "code",
   "execution_count": 17,
   "metadata": {
    "colab": {
     "base_uri": "https://localhost:8080/"
    },
    "id": "Xb3x0xRlm9mg",
    "outputId": "b93ce5d0-2108-48d3-80ce-7dced2cf2ea1"
   },
   "outputs": [
    {
     "name": "stdout",
     "output_type": "stream",
     "text": [
      "['ingredients']\n"
     ]
    }
   ],
   "source": [
    "print(vocab_column_names)\n",
    "if DATASET_VERSION == \"FULL\":\n",
    "    file_name_suffix_reviewTextVec_base = \"fullReviewTextVec_\"\n",
    "else:\n",
    "    file_name_suffix_reviewTextVec_base = \"filterReviewTextVec_\"\n",
    "file_name_suffix_reviewTextVec = file_name_suffix_reviewTextVec_base +(\"_\".join(vocab_column_names))\n",
    "dataset_embedding_mapper_review_text_obj = Dataset_Embedding_Mapper_Review_Text(recipe_word2vec, recipe_tfidf, reviews_df, file_name_suffix_reviewTextVec)"
   ]
  },
  {
   "cell_type": "code",
   "execution_count": 18,
   "metadata": {
    "id": "m7UWO2NDpJiz"
   },
   "outputs": [],
   "source": [
    "#dataset_embedding_mapper_review_text_obj.read_dataset_embedding_mappers()\n",
    "#dataset_embedding_mapper_review_text_obj.build_dataset_embedding_mappers()\n",
    "#dataset_embedding_mapper_review_text_obj.write_dataset_embedding_mappers()"
   ]
  },
  {
   "cell_type": "markdown",
   "metadata": {
    "colab": {
     "base_uri": "https://localhost:8080/"
    },
    "id": "_QeGeDX6oE9U",
    "outputId": "e7ea0c7b-5e87-4b60-8fa8-264d2a27d938"
   },
   "source": [
    "dataset_embedding_mapper_review_text_obj.build_dataset_cleaned_text_mappers()"
   ]
  },
  {
   "cell_type": "markdown",
   "metadata": {
    "id": "iQEE871JppHM"
   },
   "source": [
    "business_user2reviewText = dataset_embedding_mapper_review_text_obj.business_user2reviewText\n",
    "user_business2reviewText = dataset_embedding_mapper_review_text_obj.user_business2reviewText"
   ]
  },
  {
   "cell_type": "markdown",
   "metadata": {
    "colab": {
     "base_uri": "https://localhost:8080/",
     "height": 374
    },
    "id": "em1tfiHQji7U",
    "outputId": "a0a7dfeb-d10a-4369-87d2-a8dcc547f8ff"
   },
   "source": [
    "# one_time_user, mul_time_business, review\n",
    "# mul_time_user, one_time_business, review\n",
    "\n",
    "# so how would these types of rows get included in the final dataset?\n",
    "# actually, we cannot use these rows, BUT for the mul_time_business's curr embedding\n",
    "# the one-time-user's review is still included.\n",
    "# likewise, for the mul_time_user's curr embedding, it will still use the review it wrote for the one-time-business\n",
    "\n",
    "\n",
    "# Making the part of the training dataset where the current reviews should be dropped from the averaged embedding (aka for the seen pairs)\n",
    "one_time_user_id_set = set(one_time_user_id_list)\n",
    "one_time_business_id_set = set(one_time_business_id_list)\n",
    "\n",
    "temp_user_id_column = list(reviews_df[\"user_id\"].values)\n",
    "temp_business_id_column = list(reviews_df[\"business_id\"].values)\n",
    "train_X_curr_excluded_from_average = []\n",
    "train_y_curr_excluded_from_average = []\n",
    "pair_existence_checker = defaultdict(lambda: -1)\n",
    "valid_user_id_column = []\n",
    "valid_business_id_column = []\n",
    "for i in tqdm.tqdm(range(reviews_df.shape[0])):\n",
    "    #temp_row = reviews_df.iloc[i]\n",
    "    temp_user_id = temp_user_id_column[i]\n",
    "    temp_business_id = temp_business_id_column[i]\n",
    "    if ((temp_user_id not in user_business2reviewText) or (temp_business_id not in business_user2reviewText)):\n",
    "        continue\n",
    "    # if temp_user_id in one_time_user_id_list\n",
    "    # or temp_business_id in one_time_business_id_list\n",
    "    # then skip the row altogether\n",
    "    if ((temp_user_id in one_time_user_id_set) or (temp_business_id in one_time_business_id_set)):\n",
    "        continue\n",
    "\n",
    "    temp_user_embedding = \" \"\n",
    "    temp_business_embedding = \" \"\n",
    "    for other_business_id in user_business2reviewText[temp_user_id]:\n",
    "        if other_business_id == temp_business_id:\n",
    "            continue\n",
    "        else:\n",
    "            #value_ = ((business_user2reviewText[other_business_id][temp_user_id]))\n",
    "            #assert value_ != \"\"\n",
    "            #value = (\" \" + (business_user2reviewText[other_business_id][temp_user_id]))\n",
    "            #assert type(value)==str\n",
    "            temp_user_embedding += (\" \" + (business_user2reviewText[other_business_id][temp_user_id]))\n",
    "    for other_user_id in business_user2reviewText[temp_business_id]:\n",
    "        if other_user_id == temp_user_id:\n",
    "            continue\n",
    "        else:\n",
    "            temp_business_embedding += (\" \" + (business_user2reviewText[temp_business_id][other_user_id]))\n",
    "    if ((temp_user_embedding == \" \") or (temp_business_embedding == \" \" )):\n",
    "        continue\n",
    "    #result = np.array([recipe_word2vec.wv[word] for word in temp_user_embedding.split(\" \") if word != \"\"])\n",
    "\n",
    "    temp_user_embedding_ = np.array([recipe_word2vec.wv[word] for word in temp_user_embedding.split(\" \") if word != \"\"])\n",
    "\n",
    "    temp_business_embedding_ = np.array([recipe_word2vec.wv[word] for word in temp_business_embedding.split(\" \") if word != \"\"])\n",
    "\n",
    "    temp_user_embedding_avg = np.mean(temp_user_embedding_, axis=0)\n",
    "    temp_business_embedding_avg = np.mean(temp_business_embedding_, axis=0)\n",
    "    concat_embeddings = list(temp_user_embedding_avg) + list(temp_business_embedding_avg)\n",
    "    \n",
    "    pair = [temp_user_id, temp_business_id]\n",
    "    pair_existence_checker[tuple(pair)] = 1\n",
    "    valid_user_id_column.append(temp_user_id)\n",
    "    valid_business_id_column.append(temp_business_id)\n",
    "    train_X_curr_excluded_from_average.append(concat_embeddings)\n",
    "    train_y_curr_excluded_from_average.append(1)\n",
    "train_X_curr_excluded_from_average = np.array(train_X_curr_excluded_from_average)\n",
    "train_y_curr_excluded_from_average = np.array(train_y_curr_excluded_from_average)"
   ]
  },
  {
   "cell_type": "markdown",
   "metadata": {
    "id": "7lktmblSm7Qt"
   },
   "source": [
    "# Includes the currents in the averages\n",
    "# Should be for the unseen sampling, and for visualization part\n",
    "user_id_list = list(user_business2reviewText.keys())\n",
    "user_embeddings = []\n",
    "for user_id in tqdm.tqdm(user_id_list):\n",
    "    temp_user_id = user_business2reviewText[user_id]\n",
    "    temp_embeddings = []\n",
    "    for business_id in temp_user_id:\n",
    "        temp_embeddings += (\" \" + business_user2reviewText[business_id][user_id])\n",
    "    temp_embeddings_ = [recipe_word2vec.wv[word] for word in temp_embeddings.split(\" \") if word != \"\"]\n",
    "    temp_embedding_avg = np.array(temp_embeddings_).mean(axis=0)\n",
    "    user_embeddings.append(temp_embedding_avg)\n",
    "user_embeddings = np.array(user_embeddings)\n",
    "\n",
    "business_id_list = list(business_user2reviewText.keys())\n",
    "business_embeddings = []\n",
    "for business_id in tqdm.tqdm(business_id_list):\n",
    "    temp_business_id = business_user2reviewText[business_id]\n",
    "    temp_embeddings = []\n",
    "    for user_id in temp_business_id:\n",
    "        temp_embeddings += (\" \" + temp_business_id[user_id])\n",
    "    temp_embeddings_ = [recipe_word2vec.wv[word] for word in temp_embeddings.split(\" \") if word != \"\"]\n",
    "    temp_embedding_avg = np.array(temp_embeddings_).mean(axis=0)\n",
    "    business_embeddings.append(temp_embedding_avg)\n",
    "business_embeddings = np.array(business_embeddings)\n",
    "\n",
    "business_mapper = dict(zip(business_id_list, business_embeddings.tolist()))\n",
    "user_mapper = dict(zip(user_id_list, user_embeddings.tolist()))"
   ]
  },
  {
   "cell_type": "markdown",
   "metadata": {
    "id": "qMqk4LtRojg_"
   },
   "source": [
    "# Unseen sampling\n",
    "non_existing_interaction_pairs = []\n",
    "pair_non_existence_checker = defaultdict(lambda: -1)\n",
    "\n",
    "sampled_user_id_list = np.random.choice(valid_user_id_column, size=len(set(valid_user_id_column)))\n",
    "business_id_list_ = list(set(valid_business_id_column)).copy()\n",
    "\n",
    "business_amount_per_user = train_X_curr_excluded_from_average.shape[0] // (len(set(valid_user_id_column)))\n",
    "\n",
    "max_sampling_amounts = [\n",
    "    np.floor(business_amount_per_user), \n",
    "    np.ceil(business_amount_per_user)\n",
    "    ]\n",
    "train_X_averages_with_curr_bc_unseen = []\n",
    "train_y_averages_with_curr_bc_unseen = []\n",
    "\n",
    "for temp_user_id in tqdm.tqdm(sampled_user_id_list):\n",
    "    sampled_amount = 0\n",
    "    business_id_iterator = 0\n",
    "    np.random.shuffle(business_id_list_)\n",
    "    max_sampling_amount = np.random.choice(max_sampling_amounts)\n",
    "    while sampled_amount < max_sampling_amount:\n",
    "        temp_business_id = business_id_list_[business_id_iterator]\n",
    "        pair = [temp_user_id, temp_business_id]\n",
    "        if ((pair_existence_checker[tuple(pair)] == -1) and (pair_non_existence_checker[tuple(pair)] == -1)):\n",
    "            pair_non_existence_checker[tuple(pair)] = 1\n",
    "            #non_existing_interaction_pairs.append(pair)\n",
    "            concat_embeddings = list(user_mapper[temp_user_id]) + list(business_mapper[temp_business_id])\n",
    "            train_X_averages_with_curr_bc_unseen.append(concat_embeddings)\n",
    "            train_y_averages_with_curr_bc_unseen.append(0)\n",
    "            sampled_amount += 1\n",
    "        business_id_iterator += 1\n",
    "assert all([(pair_existence_checker[tuple(pair)]==-1) for pair in non_existing_interaction_pairs])\n",
    "\n",
    "train_X_averages_with_curr_bc_unseen = np.array(train_X_averages_with_curr_bc_unseen)\n",
    "train_y_averages_with_curr_bc_unseen = np.array(train_y_averages_with_curr_bc_unseen)"
   ]
  },
  {
   "cell_type": "markdown",
   "metadata": {
    "id": "siN68qrJop6x"
   },
   "source": [
    "existing_interaction_pairs = train_X_curr_excluded_from_average\n",
    "non_existing_interaction_pairs = train_X_averages_with_curr_bc_unseen\n",
    "train_X_seen = train_X_curr_excluded_from_average\n",
    "train_X_unseen = train_X_averages_with_curr_bc_unseen\n",
    "train_y_seen = train_y_curr_excluded_from_average\n",
    "train_y_unseen = train_y_averages_with_curr_bc_unseen\n",
    "\n",
    "train_dataset_size = len(existing_interaction_pairs)+len(non_existing_interaction_pairs)\n",
    "train_dataset_indexer = np.arange(train_dataset_size)\n",
    "np.random.shuffle(train_dataset_indexer)\n",
    "\n",
    "train_X = np.vstack((train_X_curr_excluded_from_average,train_X_averages_with_curr_bc_unseen))\n",
    "train_y = np.hstack((train_y_curr_excluded_from_average,train_y_averages_with_curr_bc_unseen))\n",
    "\n",
    "train_X = train_X[train_dataset_indexer]\n",
    "train_y = train_y[train_dataset_indexer]\n",
    "X_train, X_val, y_train, y_val = train_test_split(train_X, train_y, test_size=0.25)"
   ]
  },
  {
   "cell_type": "markdown",
   "metadata": {
    "id": "rvBRbEZKqGLj"
   },
   "source": [
    "from sklearn.linear_model import LogisticRegression\n",
    "log_reg = LogisticRegression(max_iter=500)\n",
    "log_reg.fit(X_train, y_train)\n",
    "lr_y_pred = log_reg.predict(X_val)\n",
    "\n",
    "y_true = y_val\n",
    "y_pred = lr_y_pred\n",
    "conf_matrix = confusion_matrix(y_true, y_pred,normalize=\"true\")\n",
    "fig, ax = plt.subplots(figsize=(10,10)) \n",
    "ax = sns.heatmap(conf_matrix, annot=True) #notation: \"annot\" not \"annote\"\n",
    "y_lims = ax.get_ylim()\n",
    "ax.set_ylim(sum(y_lims), 0)"
   ]
  },
  {
   "cell_type": "markdown",
   "metadata": {
    "id": "qX1DcrOjytVj"
   },
   "source": [
    "* orig id -> current word2vec embeddings -> clustered ids -> SVD\n",
    "* orig id -> current word2vec embeddings -> NN (concat business and user)\n",
    "* orig id -> current word2vec embeddings -> clustered ids -> embedding layer -> NN (concat business and user)\n",
    "* orig id -> embedding layer -> NN (concat business and user) [impossible]\n",
    "* orig id -> SVD [impossible]\n"
   ]
  },
  {
   "cell_type": "markdown",
   "metadata": {
    "id": "8_JPiqbmudzy"
   },
   "source": [
    "* The accuracy is surprisingly good\n",
    "* It is so good in fact, that using a Deep Neural Network might not be necessary and that a Logistic Regression alone might suffice.\n",
    "\n",
    "* In conclusion:\n",
    "    * EVEN WITH Logistic Regression, (not in need for Decision Tree, or even Neural Networks)\n",
    "    * EVEN WITH that extra-randomized Negative sampling for accurate frequency. \n",
    "    * EVEN WITH an embedding size as low as 100 (and not 1000), \n",
    "    * EVEN WITH the exclusion of the current reviews in the embedding averages \n",
    "* ...the accuracy is surprisingly good.\n",
    "* ...why?"
   ]
  },
  {
   "cell_type": "markdown",
   "metadata": {
    "id": "rsSA5QeDq7-t"
   },
   "source": [
    "## Version with business_user2reviewTextVec"
   ]
  },
  {
   "cell_type": "code",
   "execution_count": 19,
   "metadata": {
    "id": "P3bQHpbyq3Yf"
   },
   "outputs": [
    {
     "name": "stderr",
     "output_type": "stream",
     "text": [
      "100%|██████████████████████████████████████████████████████████████████████████| 87013/87013 [01:25<00:00, 1022.68it/s]\n"
     ]
    }
   ],
   "source": [
    "dataset_embedding_mapper_review_text_obj.build_dataset_embedding_mappers()\n"
   ]
  },
  {
   "cell_type": "code",
   "execution_count": 21,
   "metadata": {
    "id": "JTvDqUzoiGLH"
   },
   "outputs": [],
   "source": [
    "business_user2reviewTextVec = dataset_embedding_mapper_review_text_obj.business_user2vec\n",
    "user_business2reviewTextVec = dataset_embedding_mapper_review_text_obj.user_business2vec"
   ]
  },
  {
   "cell_type": "code",
   "execution_count": 24,
   "metadata": {},
   "outputs": [
    {
     "data": {
      "text/plain": [
       "29585"
      ]
     },
     "execution_count": 24,
     "metadata": {},
     "output_type": "execute_result"
    }
   ],
   "source": [
    "len(user_business2reviewTextVec)"
   ]
  },
  {
   "cell_type": "code",
   "execution_count": 25,
   "metadata": {},
   "outputs": [
    {
     "data": {
      "text/plain": [
       "27734"
      ]
     },
     "execution_count": 25,
     "metadata": {},
     "output_type": "execute_result"
    }
   ],
   "source": [
    "len(business_user2reviewTextVec)"
   ]
  },
  {
   "cell_type": "code",
   "execution_count": 22,
   "metadata": {
    "colab": {
     "base_uri": "https://localhost:8080/"
    },
    "id": "Wt3lq-5hkQvB",
    "outputId": "740e493e-f6ba-434d-a97e-1ee648f65684"
   },
   "outputs": [
    {
     "name": "stderr",
     "output_type": "stream",
     "text": [
      "100%|██████████████████████████████████████████████████████████████████████████| 87013/87013 [00:27<00:00, 3148.01it/s]\n"
     ]
    }
   ],
   "source": [
    "# one_time_user, mul_time_business, review\n",
    "# mul_time_user, one_time_business, review\n",
    "\n",
    "# so how would these types of rows get included in the final dataset?\n",
    "# actually, we cannot use these rows, BUT for the mul_time_business's curr embedding\n",
    "# the one-time-user's review is still included.\n",
    "# likewise, for the mul_time_user's curr embedding, it will still use the review it wrote for the one-time-business\n",
    "\n",
    "\n",
    "# Making the part of the training dataset where the current reviews should be dropped from the averaged embedding (aka for the seen pairs)\n",
    "one_time_user_id_set = set(one_time_user_id_list)\n",
    "one_time_business_id_set = set(one_time_business_id_list)\n",
    "\n",
    "temp_user_id_column = list(reviews_df[\"user_id\"].values)\n",
    "temp_business_id_column = list(reviews_df[\"business_id\"].values)\n",
    "train_X_curr_excluded_from_average = []\n",
    "train_y_curr_excluded_from_average = []\n",
    "pair_existence_checker = defaultdict(lambda: -1)\n",
    "valid_user_id_column = []\n",
    "valid_business_id_column = []\n",
    "for i in tqdm.tqdm(range(reviews_df.shape[0])):\n",
    "    #temp_row = reviews_df.iloc[i]\n",
    "    temp_user_id = temp_user_id_column[i]\n",
    "    temp_business_id = temp_business_id_column[i]\n",
    "    if ((temp_user_id not in user_business2reviewTextVec) or (temp_business_id not in business_user2reviewTextVec)):\n",
    "        continue\n",
    "    # if temp_user_id in one_time_user_id_list\n",
    "    # or temp_business_id in one_time_business_id_list\n",
    "    # then skip the row altogether\n",
    "    if ((temp_user_id in one_time_user_id_set) or (temp_business_id in one_time_business_id_set)):\n",
    "        continue\n",
    "\n",
    "    temp_user_embedding = []\n",
    "    temp_business_embedding = []\n",
    "    for other_business_id in user_business2reviewTextVec[temp_user_id]:\n",
    "        if other_business_id == temp_business_id:\n",
    "            continue\n",
    "        else:\n",
    "            temp_user_embedding += list(user_business2reviewTextVec[temp_user_id][other_business_id])\n",
    "    for other_user_id in business_user2reviewTextVec[temp_business_id]:\n",
    "        if other_user_id == temp_user_id:\n",
    "            continue\n",
    "        else:\n",
    "            temp_business_embedding += list(business_user2reviewTextVec[temp_business_id][other_user_id])\n",
    "    if (len(temp_user_embedding) == 0 or len(temp_business_embedding) == 0 ):\n",
    "        continue\n",
    "    \n",
    "    temp_user_embedding = np.mean(temp_user_embedding, axis=0)\n",
    "    temp_business_embedding = np.mean(temp_business_embedding, axis=0)\n",
    "    concat_embeddings = list(temp_user_embedding) + list(temp_business_embedding)\n",
    "    \n",
    "    pair = [temp_user_id, temp_business_id]\n",
    "    pair_existence_checker[tuple(pair)] = 1\n",
    "    valid_user_id_column.append(temp_user_id)\n",
    "    valid_business_id_column.append(temp_business_id)\n",
    "    train_X_curr_excluded_from_average.append(concat_embeddings)\n",
    "    train_y_curr_excluded_from_average.append(1)\n",
    "train_X_curr_excluded_from_average = np.array(train_X_curr_excluded_from_average)\n",
    "train_y_curr_excluded_from_average = np.array(train_y_curr_excluded_from_average)"
   ]
  },
  {
   "cell_type": "code",
   "execution_count": 23,
   "metadata": {},
   "outputs": [
    {
     "data": {
      "text/plain": [
       "(73834, 200)"
      ]
     },
     "execution_count": 23,
     "metadata": {},
     "output_type": "execute_result"
    }
   ],
   "source": [
    "train_X_curr_excluded_from_average.shape"
   ]
  },
  {
   "cell_type": "code",
   "execution_count": 32,
   "metadata": {},
   "outputs": [
    {
     "data": {
      "text/plain": [
       "28835"
      ]
     },
     "execution_count": 32,
     "metadata": {},
     "output_type": "execute_result"
    }
   ],
   "source": [
    "len(pd.unique(valid_user_id_column))"
   ]
  },
  {
   "cell_type": "code",
   "execution_count": 33,
   "metadata": {},
   "outputs": [
    {
     "data": {
      "text/plain": [
       "15285"
      ]
     },
     "execution_count": 33,
     "metadata": {},
     "output_type": "execute_result"
    }
   ],
   "source": [
    "len(pd.unique(valid_business_id_column))\n"
   ]
  },
  {
   "cell_type": "code",
   "execution_count": null,
   "metadata": {},
   "outputs": [],
   "source": []
  },
  {
   "cell_type": "code",
   "execution_count": 22,
   "metadata": {
    "id": "DLQX-0a8XAUi"
   },
   "outputs": [
    {
     "name": "stderr",
     "output_type": "stream",
     "text": [
      "100%|████████████████████████████████████████████████████████████████████████| 855181/855181 [01:31<00:00, 9395.10it/s]\n",
      "100%|██████████████████████████████████████████████████████████████████████████| 62690/62690 [00:19<00:00, 3201.81it/s]\n"
     ]
    }
   ],
   "source": [
    "# Includes the currents in the averages\n",
    "# Should be for the unseen sampling, and for visualization part\n",
    "user_id_list = list(user_business2reviewTextVec.keys())\n",
    "user_embeddings = []\n",
    "for user_id in tqdm.tqdm(user_id_list):\n",
    "    temp_user_id = user_business2reviewTextVec[user_id]\n",
    "    temp_embeddings = []\n",
    "    for business_id in temp_user_id:\n",
    "        temp_embeddings += temp_user_id[business_id]\n",
    "    temp_embedding_avg = np.array(temp_embeddings).mean(axis=0)\n",
    "    user_embeddings.append(temp_embedding_avg)\n",
    "user_embeddings = np.array(user_embeddings)\n",
    "\n",
    "business_id_list = list(business_user2reviewTextVec.keys())\n",
    "business_embeddings = []\n",
    "for business_id in tqdm.tqdm(business_id_list):\n",
    "    temp_business_id = business_user2reviewTextVec[business_id]\n",
    "    temp_embeddings = []\n",
    "    for user_id in temp_business_id:\n",
    "        temp_embeddings += temp_business_id[user_id]\n",
    "    temp_embedding_avg = np.array(temp_embeddings).mean(axis=0)\n",
    "    business_embeddings.append(temp_embedding_avg)\n",
    "business_embeddings = np.array(business_embeddings)\n",
    "\n",
    "business_mapper = dict(zip(business_id_list, business_embeddings.tolist()))\n",
    "user_mapper = dict(zip(user_id_list, user_embeddings.tolist()))"
   ]
  },
  {
   "cell_type": "code",
   "execution_count": 23,
   "metadata": {},
   "outputs": [],
   "source": [
    "from tqdm.notebook import tqdm\n",
    "\n"
   ]
  },
  {
   "cell_type": "code",
   "execution_count": 24,
   "metadata": {
    "colab": {
     "base_uri": "https://localhost:8080/"
    },
    "id": "LBgK022ZIuPZ",
    "outputId": "30b44db1-660d-4b83-c2d7-f29675918dab"
   },
   "outputs": [
    {
     "data": {
      "application/vnd.jupyter.widget-view+json": {
       "model_id": "bfcd82035a894c3e98f2d6bee6c68d36",
       "version_major": 2,
       "version_minor": 0
      },
      "text/plain": [
       "HBox(children=(FloatProgress(value=0.0, max=239784.0), HTML(value='')))"
      ]
     },
     "metadata": {},
     "output_type": "display_data"
    },
    {
     "name": "stdout",
     "output_type": "stream",
     "text": [
      "\n"
     ]
    }
   ],
   "source": [
    "# Unseen sampling\n",
    "non_existing_interaction_pairs = []\n",
    "pair_non_existence_checker = defaultdict(lambda: -1)\n",
    "\n",
    "sampled_user_id_list = np.random.choice(valid_user_id_column, size=len(set(valid_user_id_column)))\n",
    "business_id_list_ = list(set(valid_business_id_column)).copy()\n",
    "\n",
    "business_amount_per_user = train_X_curr_excluded_from_average.shape[0] // (len(set(valid_user_id_column)))\n",
    "\n",
    "max_sampling_amounts = [\n",
    "    np.floor(business_amount_per_user), \n",
    "    np.ceil(business_amount_per_user)\n",
    "    ]\n",
    "train_X_averages_with_curr_bc_unseen = []\n",
    "train_y_averages_with_curr_bc_unseen = []\n",
    "\n",
    "for temp_user_id in tqdm(sampled_user_id_list):\n",
    "    sampled_amount = 0\n",
    "    business_id_iterator = 0\n",
    "    np.random.shuffle(business_id_list_)\n",
    "    max_sampling_amount = np.random.choice(max_sampling_amounts)\n",
    "    while sampled_amount < max_sampling_amount:\n",
    "        temp_business_id = business_id_list_[business_id_iterator]\n",
    "        pair = [temp_user_id, temp_business_id]\n",
    "        if ((pair_existence_checker[tuple(pair)] == -1) and (pair_non_existence_checker[tuple(pair)] == -1)):\n",
    "            pair_non_existence_checker[tuple(pair)] = 1\n",
    "            #non_existing_interaction_pairs.append(pair)\n",
    "            concat_embeddings = list(user_mapper[temp_user_id]) + list(business_mapper[temp_business_id])\n",
    "            train_X_averages_with_curr_bc_unseen.append(concat_embeddings)\n",
    "            train_y_averages_with_curr_bc_unseen.append(0)\n",
    "            sampled_amount += 1\n",
    "        business_id_iterator += 1\n",
    "assert all([(pair_existence_checker[tuple(pair)]==-1) for pair in non_existing_interaction_pairs])\n",
    "\n",
    "train_X_averages_with_curr_bc_unseen = np.array(train_X_averages_with_curr_bc_unseen)\n",
    "train_y_averages_with_curr_bc_unseen = np.array(train_y_averages_with_curr_bc_unseen)"
   ]
  },
  {
   "cell_type": "code",
   "execution_count": 25,
   "metadata": {
    "id": "pC_AQI9S-b_x"
   },
   "outputs": [],
   "source": [
    "existing_interaction_pairs = train_X_curr_excluded_from_average\n",
    "non_existing_interaction_pairs = train_X_averages_with_curr_bc_unseen\n",
    "train_X_seen = train_X_curr_excluded_from_average\n",
    "train_X_unseen = train_X_averages_with_curr_bc_unseen\n",
    "train_y_seen = train_y_curr_excluded_from_average\n",
    "train_y_unseen = train_y_averages_with_curr_bc_unseen\n",
    "\n",
    "train_dataset_size = len(existing_interaction_pairs)+len(non_existing_interaction_pairs)\n",
    "train_dataset_indexer = np.arange(train_dataset_size)\n",
    "np.random.shuffle(train_dataset_indexer)\n",
    "\n",
    "train_X = np.vstack((train_X_curr_excluded_from_average,train_X_averages_with_curr_bc_unseen))\n",
    "train_y = np.hstack((train_y_curr_excluded_from_average,train_y_averages_with_curr_bc_unseen))\n",
    "\n",
    "train_X = train_X[train_dataset_indexer]\n",
    "train_y = train_y[train_dataset_indexer]\n",
    "X_train, X_val, y_train, y_val = train_test_split(train_X, train_y, test_size=0.25)"
   ]
  },
  {
   "cell_type": "code",
   "execution_count": 26,
   "metadata": {},
   "outputs": [],
   "source": [
    "with open('X_val.npy', 'wb') as f:\n",
    "    np.save(f,X_val)\n",
    "    f.close()\n",
    "with open('X_train.npy', 'wb') as f:\n",
    "    np.save(f,X_train)\n",
    "    f.close()\n",
    "with open('y_val.npy', 'wb') as f:\n",
    "    np.save(f,y_val)\n",
    "    f.close()\n",
    "with open('y_train.npy', 'wb') as f:\n",
    "    np.save(f,y_train)\n",
    "    f.close()"
   ]
  },
  {
   "cell_type": "code",
   "execution_count": 27,
   "metadata": {
    "colab": {
     "base_uri": "https://localhost:8080/",
     "height": 500
    },
    "id": "IqCBjoLIMlhC",
    "outputId": "511edc5f-d4f5-4150-8949-a8e749661751",
    "scrolled": false
   },
   "outputs": [
    {
     "data": {
      "text/plain": [
       "<matplotlib.collections.PathCollection at 0x2049aea5588>"
      ]
     },
     "execution_count": 27,
     "metadata": {},
     "output_type": "execute_result"
    },
    {
     "data": {
      "image/png": "[encoded data removed]",
      "text/plain": [
       "<Figure size 576x576 with 1 Axes>"
      ]
     },
     "metadata": {},
     "output_type": "display_data"
    }
   ],
   "source": [
    "pca = PCA(2)\n",
    "temp_X_pca_input = train_X\n",
    "temp_y_pca_input = train_y\n",
    "\n",
    "Z = pca.fit_transform(temp_X_pca_input)\n",
    "fig, ax = plt.subplots(figsize=(8,8))\n",
    "ax.scatter(Z[:,0], Z[:,1],c=temp_y_pca_input, alpha=0.1, s=5, cmap=\"winter\")"
   ]
  },
  {
   "cell_type": "code",
   "execution_count": 28,
   "metadata": {
    "colab": {
     "base_uri": "https://localhost:8080/",
     "height": 748
    },
    "id": "hP-IJWvUYP5t",
    "outputId": "fa3c4a94-880b-44ab-9c60-6f26d1734fb4"
   },
   "outputs": [
    {
     "name": "stderr",
     "output_type": "stream",
     "text": [
      "c:\\users\\benson\\appdata\\local\\programs\\python\\python37\\lib\\site-packages\\sklearn\\linear_model\\_logistic.py:765: ConvergenceWarning: lbfgs failed to converge (status=1):\n",
      "STOP: TOTAL NO. of ITERATIONS REACHED LIMIT.\n",
      "\n",
      "Increase the number of iterations (max_iter) or scale the data as shown in:\n",
      "    https://scikit-learn.org/stable/modules/preprocessing.html\n",
      "Please also refer to the documentation for alternative solver options:\n",
      "    https://scikit-learn.org/stable/modules/linear_model.html#logistic-regression\n",
      "  extra_warning_msg=_LOGISTIC_SOLVER_CONVERGENCE_MSG)\n"
     ]
    },
    {
     "data": {
      "text/plain": [
       "(2.0, 0)"
      ]
     },
     "execution_count": 28,
     "metadata": {},
     "output_type": "execute_result"
    },
    {
     "data": {
      "image/png": "[encoded data removed]",
      "text/plain": [
       "<Figure size 720x720 with 2 Axes>"
      ]
     },
     "metadata": {},
     "output_type": "display_data"
    }
   ],
   "source": [
    "from sklearn.linear_model import LogisticRegression\n",
    "log_reg = LogisticRegression(max_iter=200, class_weight=\"balanced\", C=0.5)\n",
    "log_reg.fit(X_train, y_train)\n",
    "lr_y_pred = log_reg.predict(X_val)\n",
    "\n",
    "y_true = y_val\n",
    "y_pred = lr_y_pred\n",
    "conf_matrix = confusion_matrix(y_true, y_pred,normalize=\"true\")\n",
    "fig, ax = plt.subplots(figsize=(10,10)) \n",
    "ax = sns.heatmap(conf_matrix, annot=True) #notation: \"annot\" not \"annote\"\n",
    "y_lims = ax.get_ylim()\n",
    "ax.set_ylim(sum(y_lims), 0)"
   ]
  },
  {
   "cell_type": "code",
   "execution_count": 29,
   "metadata": {},
   "outputs": [
    {
     "name": "stderr",
     "output_type": "stream",
     "text": [
      "c:\\users\\benson\\appdata\\local\\programs\\python\\python37\\lib\\site-packages\\sklearn\\linear_model\\_logistic.py:765: ConvergenceWarning: lbfgs failed to converge (status=1):\n",
      "STOP: TOTAL NO. of ITERATIONS REACHED LIMIT.\n",
      "\n",
      "Increase the number of iterations (max_iter) or scale the data as shown in:\n",
      "    https://scikit-learn.org/stable/modules/preprocessing.html\n",
      "Please also refer to the documentation for alternative solver options:\n",
      "    https://scikit-learn.org/stable/modules/linear_model.html#logistic-regression\n",
      "  extra_warning_msg=_LOGISTIC_SOLVER_CONVERGENCE_MSG)\n"
     ]
    },
    {
     "data": {
      "text/plain": [
       "(2.0, 0)"
      ]
     },
     "execution_count": 29,
     "metadata": {},
     "output_type": "execute_result"
    },
    {
     "data": {
      "image/png": "[encoded data removed]",
      "text/plain": [
       "<Figure size 720x720 with 2 Axes>"
      ]
     },
     "metadata": {},
     "output_type": "display_data"
    }
   ],
   "source": [
    "from sklearn.linear_model import LogisticRegression\n",
    "log_reg = LogisticRegression(max_iter=200, class_weight=\"balanced\", C=5)\n",
    "log_reg.fit(X_train, y_train)\n",
    "lr_y_pred = log_reg.predict(X_val)\n",
    "\n",
    "y_true = y_val\n",
    "y_pred = lr_y_pred\n",
    "conf_matrix = confusion_matrix(y_true, y_pred,normalize=\"true\")\n",
    "fig, ax = plt.subplots(figsize=(10,10)) \n",
    "ax = sns.heatmap(conf_matrix, annot=True) #notation: \"annot\" not \"annote\"\n",
    "y_lims = ax.get_ylim()\n",
    "ax.set_ylim(sum(y_lims), 0)"
   ]
  },
  {
   "cell_type": "code",
   "execution_count": null,
   "metadata": {},
   "outputs": [],
   "source": [
    "from sklearn.tree import DecisionTreeClassifier\n",
    "dt = DecisionTreeClassifier()\n",
    "dt.fit(X_train, y_train)\n",
    "dt_y_pred = dt.predict(X_val)\n",
    "\n",
    "y_true = y_val\n",
    "y_pred = lr_y_pred\n",
    "conf_matrix = confusion_matrix(y_true, y_pred,normalize=\"true\")\n",
    "fig, ax = plt.subplots(figsize=(10,10)) \n",
    "ax = sns.heatmap(conf_matrix, annot=True) #notation: \"annot\" not \"annote\"\n",
    "y_lims = ax.get_ylim()\n",
    "ax.set_ylim(sum(y_lims), 0)"
   ]
  },
  {
   "cell_type": "code",
   "execution_count": 34,
   "metadata": {
    "id": "aE_6UAccGOWw"
   },
   "outputs": [
    {
     "name": "stdout",
     "output_type": "stream",
     "text": [
      "Epoch 1/5\n",
      "11795/11795 [==============================] - 30s 3ms/step - loss: 0.6041 - accuracy: 0.6731\n",
      "Epoch 2/5\n",
      "11795/11795 [==============================] - 29s 2ms/step - loss: 0.5812 - accuracy: 0.6955\n",
      "Epoch 3/5\n",
      "11795/11795 [==============================] - 29s 2ms/step - loss: 0.5739 - accuracy: 0.7018\n",
      "Epoch 4/5\n",
      "11795/11795 [==============================] - 29s 2ms/step - loss: 0.5697 - accuracy: 0.7049\n",
      "Epoch 5/5\n",
      "11795/11795 [==============================] - 29s 2ms/step - loss: 0.5665 - accuracy: 0.7075\n"
     ]
    },
    {
     "data": {
      "text/plain": [
       "<keras.callbacks.History at 0x2ae564c69c8>"
      ]
     },
     "execution_count": 34,
     "metadata": {},
     "output_type": "execute_result"
    }
   ],
   "source": [
    "model = Sequential()\n",
    "model.add(Dense(50, input_shape=(train_X.shape[1],), activation='relu'))\n",
    "model.add(Dense(100, activation='relu'))\n",
    "#model.add(Dense(100, activation='relu'))\n",
    "model.add(Dense(1, activation='sigmoid'))\n",
    "# Compile model\n",
    "model.compile(loss='binary_crossentropy', optimizer='adam', metrics=['accuracy'])\n",
    "model.fit(X_train, y_train, epochs=5, batch_size=100)"
   ]
  },
  {
   "cell_type": "code",
   "execution_count": 35,
   "metadata": {
    "id": "-5WdYIn5JW4c"
   },
   "outputs": [
    {
     "name": "stdout",
     "output_type": "stream",
     "text": [
      "12286/12286 [==============================] - 19s 2ms/step - loss: 0.5677 - accuracy: 0.7069\n",
      "12286/12286 [==============================] - 16s 1ms/step\n",
      "Val Loss:  0.5676828026771545 , Test Accuracy:  0.7068740725517273\n"
     ]
    },
    {
     "data": {
      "text/plain": [
       "(2.0, 0)"
      ]
     },
     "execution_count": 35,
     "metadata": {},
     "output_type": "execute_result"
    },
    {
     "data": {
      "image/png": "[encoded data removed]",
      "text/plain": [
       "<Figure size 720x720 with 2 Axes>"
      ]
     },
     "metadata": {},
     "output_type": "display_data"
    }
   ],
   "source": [
    "val_loss, val_acc = model.evaluate(X_val, y_val)\n",
    "predictions = model.predict(X_val)\n",
    "\n",
    "#assert np.all(predictions >= 0)\n",
    "#assert np.all(predictions <= 1)\n",
    "#accuracy = np.mean(y_val==np.squeeze((predictions >= 0.5).astype(int)))\n",
    "\n",
    "print(\"Val Loss: \", val_loss, \", Test Accuracy: \", val_acc)\n",
    "y_true = y_val\n",
    "y_pred = np.squeeze((predictions >= 0.5).astype(int))\n",
    "conf_matrix = confusion_matrix(y_true, y_pred,normalize=\"true\")\n",
    "fig, ax = plt.subplots(figsize=(10,10)) \n",
    "ax = sns.heatmap(conf_matrix, annot=True) #notation: \"annot\" not \"annote\"\n",
    "y_lims = ax.get_ylim()\n",
    "ax.set_ylim(sum(y_lims), 0)"
   ]
  },
  {
   "cell_type": "code",
   "execution_count": null,
   "metadata": {
    "id": "PE7mW34yTVkD"
   },
   "outputs": [],
   "source": []
  },
  {
   "cell_type": "code",
   "execution_count": null,
   "metadata": {
    "id": "JkCAUPb-TVM7"
   },
   "outputs": [],
   "source": []
  },
  {
   "cell_type": "code",
   "execution_count": null,
   "metadata": {
    "id": "RSsvhK-7TUtg"
   },
   "outputs": [],
   "source": []
  },
  {
   "cell_type": "code",
   "execution_count": null,
   "metadata": {
    "id": "VkVSOvV8TUqv"
   },
   "outputs": [],
   "source": []
  },
  {
   "cell_type": "code",
   "execution_count": null,
   "metadata": {
    "id": "01LKTC69TUn1"
   },
   "outputs": [],
   "source": []
  },
  {
   "cell_type": "code",
   "execution_count": null,
   "metadata": {
    "id": "MKMz6QB7TUhl"
   },
   "outputs": [],
   "source": []
  },
  {
   "cell_type": "code",
   "execution_count": null,
   "metadata": {
    "id": "RfZ2LSY8TUUX"
   },
   "outputs": [],
   "source": []
  },
  {
   "cell_type": "markdown",
   "metadata": {
    "id": "z22j2XX7K_k_"
   },
   "source": [
    "# VISUALIZATION ONLY"
   ]
  },
  {
   "cell_type": "code",
   "execution_count": null,
   "metadata": {
    "id": "63MPQKdD1Ozf"
   },
   "outputs": [],
   "source": [
    "from sklearn.cluster import KMeans\n",
    "from sklearn.metrics import silhouette_score\n",
    "def plot_silhoutte_scores(embeddings):\n",
    "    range_n_clusters = [20, 50, 100, 250, 500, 1000]\n",
    "    silhouette_avg = []\n",
    "    for num_clusters in tqdm.tqdm(range_n_clusters):   \n",
    "        # initialise kmeans\n",
    "        kmeans = KMeans(n_clusters=num_clusters)\n",
    "        kmeans.fit(embeddings)\n",
    "        cluster_labels = kmeans.labels_\n",
    "        \n",
    "        # silhouette score\n",
    "        score = silhouette_score(embeddings, cluster_labels)\n",
    "        silhouette_avg.append(score)\n",
    "        print(score)\n",
    "    plt.plot(range_n_clusters,silhouette_avg,'bx-')\n",
    "    plt.xlabel('Values of K') \n",
    "    plt.ylabel('Silhouette score') \n",
    "    plt.title('Silhouette analysis For Optimal k')\n",
    "    plt.show()\n",
    "# plot_silhoutte_scores(user_embeddings)\n",
    "# silhoutte scores reveal that user_embeddings is poor to k-means cluster on (highly overlapped): increasing K worsens the silhoutte score"
   ]
  },
  {
   "cell_type": "code",
   "execution_count": null,
   "metadata": {
    "id": "XlLBJ7467iQy"
   },
   "outputs": [],
   "source": [
    "your_word_vector = business_embeddings[0]\n",
    "recipe_word2vec.most_similar(positive=[your_word_vector], topn=1)"
   ]
  },
  {
   "cell_type": "code",
   "execution_count": null,
   "metadata": {
    "id": "8bGHzyXH_jZl"
   },
   "outputs": [],
   "source": [
    "import warnings\n",
    "warnings.filterwarnings(\"ignore\")"
   ]
  },
  {
   "cell_type": "code",
   "execution_count": null,
   "metadata": {
    "id": "Mxz0_IOQ5iXf"
   },
   "outputs": [],
   "source": [
    "def clean_text_column(text_column):\n",
    "    non_alphanumeric = string.punctuation # constant\n",
    "    text_column = text_column.str.lower()\n",
    "    text_column = text_column.str.translate(str.maketrans(non_alphanumeric, \" \"*len(non_alphanumeric)))\n",
    "    return text_column"
   ]
  },
  {
   "cell_type": "code",
   "execution_count": null,
   "metadata": {
    "id": "wo9HWo9j3yoC"
   },
   "outputs": [],
   "source": [
    "i = 17\n",
    "# 10\n",
    "print(\"Business id:\", i)\n",
    "print(recipe_word2vec.most_similar(positive=[business_embeddings[i]], topn=1)[0][0])\n",
    "def get_words_of_business_id(business_id):\n",
    "    business_id_df = reviews_df[reviews_df[\"business_id\"]==business_id]\n",
    "    review_text_column = business_id_df[\"review_text\"]\n",
    "    review_text_column = clean_text_column(review_text_column)\n",
    "    review_text_column = review_text_column.apply(\n",
    "        lambda x: \" \".join([\n",
    "            word for word in x.split(\" \") \n",
    "            if word in recipe_tfidf.vocab2idx\n",
    "            ])+\" \")\n",
    "    review_text = review_text_column.values.sum()\n",
    "    review_text_set = pd.Series(review_text.split(\" \")).value_counts()\n",
    "    review_text_set\n",
    "    print(review_text_set)\n",
    "\n",
    "get_words_of_business_id(business_id_list[i])"
   ]
  },
  {
   "cell_type": "code",
   "execution_count": null,
   "metadata": {
    "id": "O_zfD7sW7K_G"
   },
   "outputs": [],
   "source": [
    "i = 0\n",
    "print(\"The representative word for Restaurant\", business_id_list[i], \"is :\\n\", \n",
    "      recipe_word2vec.most_similar(positive=[business_embeddings[i]], topn=1)[0][0])\n",
    "print(\"\\nThe reviews for this restaurant are as follows:\\n\")\n",
    "(reviews_df[reviews_df[\"business_id\"]==business_id_list[i]][\"review_text\"])"
   ]
  },
  {
   "cell_type": "code",
   "execution_count": null,
   "metadata": {
    "id": "XqlTSWjEbPwT"
   },
   "outputs": [],
   "source": [
    "from sklearn.cluster import DBSCAN\n",
    "eps = 3\n",
    "min_samples = 1\n",
    "dbscan = DBSCAN(eps=eps, min_samples=min_samples)\n",
    "dbscan.fit(business_embeddings)\n",
    "business_labels = dbscan.labels_\n",
    "print(len((business_labels)))\n",
    "assert len(business_id_list) == len(business_labels)\n",
    "print(len(set(business_labels)))\n",
    "\n",
    "eps = 3\n",
    "min_samples = 1\n",
    "dbscan = DBSCAN(eps=eps, min_samples=min_samples)\n",
    "dbscan.fit(user_embeddings)\n",
    "user_labels = dbscan.labels_\n",
    "print(len((user_labels)))\n",
    "assert len(user_id_list) == len(user_labels)\n",
    "\n",
    "print(len(set(user_labels)))"
   ]
  },
  {
   "cell_type": "code",
   "execution_count": null,
   "metadata": {
    "id": "4uIrOF2TK-hG"
   },
   "outputs": [],
   "source": []
  },
  {
   "cell_type": "code",
   "execution_count": null,
   "metadata": {
    "id": "lgwhsdPdK-bo"
   },
   "outputs": [],
   "source": []
  },
  {
   "cell_type": "code",
   "execution_count": null,
   "metadata": {
    "id": "kpbydb9ZPKwQ"
   },
   "outputs": [],
   "source": [
    "from sklearn.preprocessing import StandardScaler"
   ]
  },
  {
   "cell_type": "code",
   "execution_count": null,
   "metadata": {
    "id": "i3Y52k_RhVc3"
   },
   "outputs": [],
   "source": [
    "business_embeddings_ = StandardScaler().fit_transform(business_embeddings)\n",
    "user_embeddings_ = StandardScaler().fit_transform(user_embeddings)\n",
    "pca = PCA(50)\n",
    "tsne = TSNE(n_components=2, perplexity=100, n_iter=250)\n",
    "Z_business = business_embeddings_\n",
    "Z_business = pca.fit_transform(Z_business)\n",
    "Z_business = tsne.fit_transform(Z_business)\n",
    "#Z_business = umap0.fit_transform(Z_business)\n",
    "\n",
    "pca = PCA(50)\n",
    "tsne = TSNE(n_components=2, perplexity=100, n_iter=250)\n",
    "Z_user = user_embeddings_\n",
    "Z_user = pca.fit_transform(Z_user)\n",
    "Z_user = tsne.fit_transform(Z_user)\n",
    "#Z_user = umap0.fit_transform(Z_user)"
   ]
  },
  {
   "cell_type": "code",
   "execution_count": null,
   "metadata": {
    "id": "eaIbCZfx5u2y"
   },
   "outputs": [],
   "source": [
    "\n",
    "fig, axs = plt.subplots(1, 2, figsize=(20,10))\n",
    "axs[0].scatter(Z_business[:,0], Z_business[:,1], alpha=0.5,s=1, c=business_labels,cmap=\"Spectral\")\n",
    "axs[0].set_title(\"Business Embeddings\")\n",
    "#from matplotlib import cm\n",
    "#colormap = cm.hsv(range(20))\n",
    "\n",
    "\n",
    "axs[1].scatter(Z_user[:,0], Z_user[:,1], alpha=0.5,s=1, c=user_labels,cmap=\"Spectral\")#, label=word_labels)\n",
    "axs[1].set_title(\"User Embeddings\")\n",
    "#axs[1].legend()"
   ]
  },
  {
   "cell_type": "code",
   "execution_count": null,
   "metadata": {
    "id": "gRXoxPS9uoMl"
   },
   "outputs": [],
   "source": [
    "from sklearn.cluster import KMeans\n",
    "kmeans = KMeans(10)\n",
    "kmeans.fit(business_embeddings)\n",
    "business_labels = kmeans.labels_\n",
    "print(len((business_labels)))\n",
    "print(len(set(business_labels)))\n",
    "\n",
    "kmeans = KMeans(20)\n",
    "kmeans.fit(user_embeddings)\n",
    "user_labels = kmeans.labels_\n",
    "print(len((user_labels)))\n",
    "print(len(set(user_labels)))\n",
    "fig, axs = plt.subplots(1, 2, figsize=(20,10))\n",
    "axs[0].scatter(Z_business[:,0], Z_business[:,1], alpha=0.5,s=1, c=business_labels,cmap=\"tab10\")\n",
    "axs[0].set_title(\"Business Embeddings\")\n",
    "#from matplotlib import cm\n",
    "#colormap = cm.hsv(range(20))\n",
    "\n",
    "\n",
    "axs[1].scatter(Z_user[:,0], Z_user[:,1], alpha=0.5,s=1, c=user_labels,cmap=\"tab20\")#, label=word_labels)\n",
    "axs[1].set_title(\"User Embeddings\")\n",
    "#axs[1].legend()"
   ]
  },
  {
   "cell_type": "code",
   "execution_count": null,
   "metadata": {
    "id": "JEn7I11Yx7y2"
   },
   "outputs": [],
   "source": [
    "fig, axs = plt.subplots(1, 2, figsize=(20,10))\n",
    "axs[0].scatter(Z_business[:,0], Z_business[:,1], alpha=0.5,s=1, c='r',cmap=\"tab10\")\n",
    "axs[0].set_title(\"Business Embeddings\")\n",
    "#from matplotlib import cm\n",
    "#colormap = cm.hsv(range(20))\n",
    "\n",
    "\n",
    "axs[1].scatter(Z_user[:,0], Z_user[:,1], alpha=0.5,s=1, c='r',cmap=\"tab20\")#, label=word_labels)\n",
    "axs[1].set_title(\"User Embeddings\")"
   ]
  },
  {
   "cell_type": "code",
   "execution_count": null,
   "metadata": {
    "id": "iWII7Ea9KWS_"
   },
   "outputs": [],
   "source": [
    "def get_label_data(labels, id_list, id2vec, id_column_name, reviews_df):\n",
    "    labels_set = set(labels)\n",
    "    labels_representative_words = []\n",
    "    labels_representative_embeddings = []\n",
    "    labels_vocab_frequency = []\n",
    "    for label in labels_set:\n",
    "        temp_idxs = np.where(np.array(labels)==label)[0]\n",
    "        embeddings_group = []\n",
    "        group_vocab = \" \"\n",
    "        for temp_idx in temp_idxs:\n",
    "            temp_id = id_list[temp_idx]\n",
    "            #for key in id2vec[temp_id]: embeddings_group += id2vec[(id_list[temp_idx])][key];\n",
    "            ##\n",
    "            temp_id_df = reviews_df[reviews_df[id_column_name]==temp_id]\n",
    "            review_text_column = temp_id_df[\"review_text\"]\n",
    "            review_text_column = clean_text_column(review_text_column)\n",
    "            review_text_column = review_text_column.apply(\n",
    "                lambda x: \" \".join([\n",
    "                    word for word in x.split(\" \") \n",
    "                    if word in recipe_tfidf.vocab2idx\n",
    "                    ])+\" \")\n",
    "            \n",
    "            combined_review_texts_of_id = review_text_column.values.sum() # get all re\n",
    "            group_vocab += (combined_review_texts_of_id+\" \")\n",
    "            ##\n",
    "        group_vocab_list = group_vocab.split(\" \")\n",
    "        group_vocab_list = [word for word in group_vocab_list if word != \"\"]\n",
    "        group_vocab_frequency = pd.Series(group_vocab_list).value_counts()\n",
    "        labels_vocab_frequency.append(group_vocab_frequency)\n",
    "\n",
    "\n",
    "        #embeddings_group = np.array(embeddings_group)\n",
    "        #labels_representative_embedding = embeddings_group.mean(axis=0)\n",
    "        #labels_representative_embeddings.append(labels_representative_embedding)\n",
    "\n",
    "        #labels_representative_word = recipe_word2vec.most_similar(positive=[labels_representative_embedding], topn=1)\n",
    "        #labels_representative_words.append(labels_representative_word[0][0])\n",
    "\n",
    "\n",
    "    return labels_set, labels_representative_words, labels_representative_embeddings, labels_vocab_frequency\n",
    "#output_labels_data = get_label_data(business_labels, business_id_list, business_user2reviewTextVec, \"business_id\", reviews_df)\n",
    "#labels_set, labels_representative_words, labels_representative_embeddings, labels_vocab_frequency = output_labels_data"
   ]
  },
  {
   "cell_type": "code",
   "execution_count": null,
   "metadata": {
    "id": "w91T9-fC-A8-"
   },
   "outputs": [],
   "source": [
    "from sklearn.feature_extraction.text import CountVectorizer\n",
    "from sklearn.feature_extraction.text import TfidfVectorizer\n",
    "from sklearn.feature_extraction.text import TfidfTransformer\n",
    "from sklearn.pipeline import Pipeline\n",
    "\n",
    "import scipy"
   ]
  },
  {
   "cell_type": "code",
   "execution_count": null,
   "metadata": {
    "id": "n-JM22n0DESM"
   },
   "outputs": [],
   "source": []
  },
  {
   "cell_type": "code",
   "execution_count": null,
   "metadata": {
    "id": "PjtDyc86FB4f"
   },
   "outputs": [],
   "source": [
    "learned_mapping = dict(zip(list(recipe_tfidf.vocab2idx.keys()),list(range(len(recipe_tfidf.vocab2idx)))))"
   ]
  },
  {
   "cell_type": "code",
   "execution_count": null,
   "metadata": {
    "id": "618fZuahCsyB"
   },
   "outputs": [],
   "source": [
    "label_column_name = \"business_label\"\n",
    "business_labeler = pd.DataFrame()\n",
    "business_labeler[label_column_name] = business_id_list\n",
    "business_labeler[label_column_name] = business_labels\n",
    "temp_reviews_df = reviews_df.merge(business_labeler, on=[label_column_name])"
   ]
  },
  {
   "cell_type": "code",
   "execution_count": null,
   "metadata": {
    "id": "0Hzw-o3Fl01m"
   },
   "outputs": [],
   "source": [
    "label_column_name = \"user_label\"\n",
    "user_labeler = pd.DataFrame()\n",
    "user_labeler[\"user_id\"] = user_id_list\n",
    "user_labeler[label_column_name] = user_labels\n",
    "temp_reviews_df = reviews_df.merge(user_labeler, on=[\"user_id\"])"
   ]
  },
  {
   "cell_type": "code",
   "execution_count": null,
   "metadata": {
    "id": "vKLSXPtERtes"
   },
   "outputs": [],
   "source": [
    "### Move to Vectorizer_Builder (collapser version 1)\n",
    "learned_mapping = dict(zip(list(recipe_tfidf.vocab2idx.keys()),list(range(len(recipe_tfidf.vocab2idx)))))\n",
    "\n",
    "temp_labels = list(pd.unique(temp_reviews_df[label_column_name]))\n",
    "\n",
    "review_text_column_ = []\n",
    "\n",
    "for label in temp_labels:\n",
    "    label_all_text = \"\"\n",
    "    temp_reviews_df_label = temp_reviews_df[temp_reviews_df[label_column_name]==label]\n",
    "    temp_review_text_column = temp_reviews_df_label[\"review_text\"]\n",
    "    temp_review_text_column = clean_text_column(temp_review_text_column)\n",
    "    for row in tqdm.tqdm(list(temp_review_text_column.values)):\n",
    "        label_all_text += (\" \"+row)\n",
    "    review_text_column_.append(label_all_text)\n",
    "learned_tv = Pipeline([('count', CountVectorizer(vocabulary=learned_mapping)),\n",
    "                       ('tfidf', TfidfTransformer())])\n",
    "learned_tv.fit(review_text_column_)\n",
    "tv_output_collapsed = learned_tv.transform(review_text_column_)\n",
    "#tv_output_collapsed = tv_output_collapsed.tocsc().A\n",
    "\n",
    "def sort_coo(coo_matrix):\n",
    "    tuples = zip(coo_matrix.col, coo_matrix.data)\n",
    "    return sorted(tuples, key=lambda x: (x[1], x[0]), reverse=True)\n",
    "\n",
    "def extract_top_n_from_vector(feature_names, sorted_items, top_n=10):\n",
    "    sorted_items = sorted_items[:top_n]\n",
    "    \n",
    "    score_vals = []\n",
    "    feature_vals = []\n",
    "    for idx, score in sorted_items:\n",
    "        score_vals.append(round(score,3))\n",
    "        feature_vals.append(feature_names[idx])\n",
    "    results = {}\n",
    "    for idx in range(len(feature_vals)):\n",
    "        results[feature_vals[idx]] = score_vals[idx]\n",
    "    return results"
   ]
  },
  {
   "cell_type": "code",
   "execution_count": null,
   "metadata": {
    "id": "NiEWdloTmXRv"
   },
   "outputs": [],
   "source": [
    "# Now doing USERS!"
   ]
  },
  {
   "cell_type": "code",
   "execution_count": null,
   "metadata": {
    "id": "KIJ6wN_tlHNQ"
   },
   "outputs": [],
   "source": [
    "feature_names = learned_tv.named_steps[\"count\"].get_feature_names()\n",
    "i = 19\n",
    "print(\"Group\", temp_labels[i], \"Keywords:\" )\n",
    "output_label_temp = learned_tv.transform([review_text_column_[i]])\n",
    "sorted_items = sort_coo(output_label_temp.tocoo())\n",
    "keywords = extract_top_n_from_vector(feature_names, sorted_items, 50)\n",
    "keywords\n",
    "# 7 = pizza, italian\n",
    "# 4 = sweets (chocolate, cookies, cake, cream)\n",
    "# 5 = seafood?\n",
    "\n",
    "# user7 = asian\n",
    "# user0 = sweets"
   ]
  },
  {
   "cell_type": "code",
   "execution_count": null,
   "metadata": {
    "id": "cKnt6Or6ipGh"
   },
   "outputs": [],
   "source": [
    "from sklearn.preprocessing import MinMaxScaler"
   ]
  },
  {
   "cell_type": "code",
   "execution_count": null,
   "metadata": {
    "id": "aRfKxCdHgREf"
   },
   "outputs": [],
   "source": [
    "a = np.array([\n",
    "    [0.090909, 0.1111111, 0.5],\n",
    "    [0.090909, 0, 0],\n",
    "    [0.11111111, 0, 0],\n",
    "    [0.11111111, 0, 0],\n",
    "    [0.11111111, 0.1818181818, 0],\n",
    "    [0.11111111, 0.090909, 0],\n",
    "    [0.25, 0, 0]\n",
    "])\n",
    "a_scaled = MinMaxScaler().fit_transform(a.T).T\n"
   ]
  },
  {
   "cell_type": "code",
   "execution_count": null,
   "metadata": {
    "id": "2F5Qb-22kERf"
   },
   "outputs": [],
   "source": [
    "a_scaled"
   ]
  },
  {
   "cell_type": "code",
   "execution_count": null,
   "metadata": {
    "id": "TeZdanXWjb46"
   },
   "outputs": [],
   "source": [
    "np.std(a_scaled,axis=1,ddof=0)"
   ]
  },
  {
   "cell_type": "code",
   "execution_count": null,
   "metadata": {
    "id": "ymqkQdsajbzX"
   },
   "outputs": [],
   "source": []
  },
  {
   "cell_type": "code",
   "execution_count": null,
   "metadata": {
    "id": "7x7p6S8rjbtR"
   },
   "outputs": [],
   "source": []
  },
  {
   "cell_type": "code",
   "execution_count": null,
   "metadata": {
    "id": "LVRgsvpXjEEA"
   },
   "outputs": [],
   "source": []
  },
  {
   "cell_type": "code",
   "execution_count": null,
   "metadata": {
    "id": "aD8KLO2US8LY"
   },
   "outputs": [],
   "source": [
    "### Move to Vectorizer_Builder (collapser version 2)\n",
    "\n",
    "#temp_reviews_df.sort_values([\"business_label\"],inplace=True)\n",
    "\n",
    "temp_labels = list(pd.unique(temp_reviews_df[label_column_name]))\n",
    "\n",
    "review_text_column = temp_reviews_df[\"review_text\"]\n",
    "review_text_column = clean_text_column(review_text_column)\n",
    "\n",
    "learned_tv = Pipeline([('count', CountVectorizer(vocabulary=learned_mapping)),\n",
    "                       ('tfidf', TfidfTransformer())])\n",
    "learned_tv.fit(review_text_column)\n",
    "tv_output = learned_tv.transform(review_text_column)\n",
    "\n",
    "tv_output_collapsed = []\n",
    "for temp_label in temp_labels:\n",
    "    temp_label_tv_output_collapsed = tv_output[np.where(temp_reviews_df[label_column_name]==temp_label)[0]].mean(axis=0)\n",
    "    tv_output_collapsed.append(np.squeeze(temp_label_tv_output_collapsed.A,0))\n",
    "tv_output_collapsed = np.array(tv_output_collapsed)"
   ]
  },
  {
   "cell_type": "code",
   "execution_count": null,
   "metadata": {
    "id": "wo1ivBVlJ1aG"
   },
   "outputs": [],
   "source": [
    "ind = np.argsort(tv_output_collapsed, axis=1)\n",
    "[recipe_tfidf.idx2vocab[i] for i in ind[:,-1]]"
   ]
  },
  {
   "cell_type": "code",
   "execution_count": null,
   "metadata": {
    "id": "u706hcFJ89EP"
   },
   "outputs": [],
   "source": [
    "def get_label_data(labels, id_list, id2vec, id_column_name, reviews_df):\n",
    "    labels_set = set(labels)\n",
    "    labels_representative_words = []\n",
    "    labels_representative_embeddings = []\n",
    "    labels_vocab_frequency = []\n",
    "    for label in labels_set:\n",
    "        temp_idxs = np.where(np.array(labels)==label)[0]\n",
    "        temp_ids = [id_list[temp_idx] for temp_idx in temp_idxs]\n",
    "        temp_label_df = reviews_df[reviews_df[id_column_name].isin(temp_ids)]\n",
    "        review_text_column = temp_label_df[\"review_text\"]\n",
    "        review_text_column = clean_text_column(review_text_column)\n",
    "        learned_mapping = dict(zip(list(recipe_tfidf.keys()),list(range(len(recipe_tfidf)))))\n",
    "        # learned_cv = CountVectorizer(vocabulary=learned_mapping)\n",
    "        # cv_output = learned_cv.transform(review_text_column)\n",
    "        # cv_output = cv_output.tocsc()\n",
    "        # scipy.sparse.csc_matrix.sum(cv_output, axis=0)\n",
    "\n",
    "        learned_tv = TfidfVectorizer(vocabulary=learned_mapping)\n",
    "        tv_output = learned_tv.transform(review_text_column)\n",
    "        tv_output.\n",
    "\n",
    "        review_text_column\n",
    "        for temp_idx in temp_idxs:\n",
    "            temp_id = id_list[temp_idx]\n",
    "            #for key in id2vec[temp_id]: embeddings_group += id2vec[(id_list[temp_idx])][key];\n",
    "            ##\n",
    "            temp_id_df = reviews_df[reviews_df[id_column_name]==temp_id]\n",
    "            review_text_column = temp_id_df[\"review_text\"]\n",
    "            review_text_column = clean_text_column(review_text_column)\n",
    "            review_text_column = review_text_column.apply(\n",
    "                lambda x: \" \".join([\n",
    "                    word for word in x.split(\" \") \n",
    "                    if word in recipe_tfidf.vocab2idx\n",
    "                    ])+\" \")\n",
    "            \n",
    "            combined_review_texts_of_id = review_text_column.values.sum() # get all re\n",
    "            group_vocab += (combined_review_texts_of_id+\" \")\n",
    "            ##\n",
    "        group_vocab_list = group_vocab.split(\" \")\n",
    "        group_vocab_list = [word for word in group_vocab_list if word != \"\"]\n",
    "        group_vocab_frequency = pd.Series(group_vocab_list).value_counts()\n",
    "        labels_vocab_frequency.append(group_vocab_frequency)\n",
    "\n",
    "\n",
    "        #embeddings_group = np.array(embeddings_group)\n",
    "        #labels_representative_embedding = embeddings_group.mean(axis=0)\n",
    "        #labels_representative_embeddings.append(labels_representative_embedding)\n",
    "\n",
    "        #labels_representative_word = recipe_word2vec.most_similar(positive=[labels_representative_embedding], topn=1)\n",
    "        #labels_representative_words.append(labels_representative_word[0][0])\n",
    "\n",
    "\n",
    "    return labels_set, labels_representative_words, labels_representative_embeddings, labels_vocab_frequency"
   ]
  },
  {
   "cell_type": "code",
   "execution_count": null,
   "metadata": {
    "id": "7uvuYo6fElQa"
   },
   "outputs": [],
   "source": [
    "labels_set, labels_representative_words, labels_representative_embeddings = get_label_data(user_labels, user_id_list, user_business2reviewTextVec)\n",
    "labels_representative_words"
   ]
  },
  {
   "cell_type": "code",
   "execution_count": null,
   "metadata": {
    "id": "EI3a6s0dPUsO"
   },
   "outputs": [],
   "source": []
  },
  {
   "cell_type": "code",
   "execution_count": null,
   "metadata": {
    "id": "ZYph2MTjPUp_"
   },
   "outputs": [],
   "source": []
  },
  {
   "cell_type": "code",
   "execution_count": null,
   "metadata": {
    "id": "exOmNI_3PUnY"
   },
   "outputs": [],
   "source": []
  },
  {
   "cell_type": "code",
   "execution_count": null,
   "metadata": {
    "id": "ZaSuc25gPUkn"
   },
   "outputs": [],
   "source": []
  },
  {
   "cell_type": "code",
   "execution_count": null,
   "metadata": {
    "id": "hEGOckhAPUig"
   },
   "outputs": [],
   "source": []
  },
  {
   "cell_type": "code",
   "execution_count": null,
   "metadata": {
    "id": "qFJxaRRxPUgK"
   },
   "outputs": [],
   "source": []
  },
  {
   "cell_type": "code",
   "execution_count": null,
   "metadata": {
    "id": "DMZ9l04sPUdz"
   },
   "outputs": [],
   "source": []
  },
  {
   "cell_type": "code",
   "execution_count": null,
   "metadata": {
    "id": "zKbOT2KLPUbK"
   },
   "outputs": [],
   "source": []
  },
  {
   "cell_type": "code",
   "execution_count": null,
   "metadata": {
    "id": "Og4F_ZvhPUYy"
   },
   "outputs": [],
   "source": []
  },
  {
   "cell_type": "code",
   "execution_count": null,
   "metadata": {
    "id": "cYm3OYcUPUWp"
   },
   "outputs": [],
   "source": []
  },
  {
   "cell_type": "code",
   "execution_count": null,
   "metadata": {
    "id": "73DjPzahPUUZ"
   },
   "outputs": [],
   "source": []
  },
  {
   "cell_type": "code",
   "execution_count": null,
   "metadata": {
    "id": "lwtcyQiuPURx"
   },
   "outputs": [],
   "source": []
  },
  {
   "cell_type": "code",
   "execution_count": null,
   "metadata": {
    "id": "qGyyyFYiElE5"
   },
   "outputs": [],
   "source": []
  },
  {
   "cell_type": "code",
   "execution_count": null,
   "metadata": {
    "id": "SQ8Hm4qRC5Lq"
   },
   "outputs": [],
   "source": []
  },
  {
   "cell_type": "code",
   "execution_count": null,
   "metadata": {
    "id": "CwGcHAUXbPrt"
   },
   "outputs": [],
   "source": [
    "temp_business_cluster_mapper = pd.DataFrame()\n",
    "temp_business_cluster_mapper[\"business_id\"] = business_id_list\n",
    "temp_business_cluster_mapper[\"business_id_regrouped\"] = business_labels\n",
    "\n",
    "temp_user_cluster_mapper = pd.DataFrame()\n",
    "temp_user_cluster_mapper[\"user_id\"] = user_id_list\n",
    "temp_user_cluster_mapper[\"user_id_regrouped\"] = user_labels\n",
    "\n",
    "temp_reviews_df = reviews_df.copy()\n",
    "temp_reviews_df = temp_reviews_df.merge(temp_business_cluster_mapper, on=[\"business_id\"])\n",
    "temp_reviews_df = temp_reviews_df.merge(temp_user_cluster_mapper,  on=[\"user_id\"])\n",
    "\n",
    "temp_reviews_df = "
   ]
  },
  {
   "cell_type": "code",
   "execution_count": null,
   "metadata": {
    "id": "CPWSEkgZbPpV"
   },
   "outputs": [],
   "source": []
  },
  {
   "cell_type": "code",
   "execution_count": null,
   "metadata": {
    "id": "YtniCLxMbPnN"
   },
   "outputs": [],
   "source": [
    "temp_reviews_df"
   ]
  },
  {
   "cell_type": "code",
   "execution_count": null,
   "metadata": {
    "id": "BXVQuPk5bPky"
   },
   "outputs": [],
   "source": []
  },
  {
   "cell_type": "code",
   "execution_count": null,
   "metadata": {
    "id": "1VU8VuZbbPia"
   },
   "outputs": [],
   "source": []
  },
  {
   "cell_type": "code",
   "execution_count": null,
   "metadata": {
    "id": "xsS8ZmRCUrtb"
   },
   "outputs": [],
   "source": []
  },
  {
   "cell_type": "code",
   "execution_count": null,
   "metadata": {
    "id": "WAQAaXKPUrq7"
   },
   "outputs": [],
   "source": []
  },
  {
   "cell_type": "code",
   "execution_count": null,
   "metadata": {
    "id": "MdK7sXibUrZD"
   },
   "outputs": [],
   "source": []
  },
  {
   "cell_type": "code",
   "execution_count": null,
   "metadata": {
    "id": "k5zou3VvXjcz"
   },
   "outputs": [],
   "source": [
    "# end goal (just for scatterplotting)\n",
    "# create a 2D scatterplot from (PCA, TSNE)\n",
    "# with grouped adjacent clusters (size>20, n_cluster<50) with representative word being adjacent\n",
    "# these clusters need not be made after the creation of the 2D scatterplotting,\n",
    "# for business and user (business easier, but user more useful)\n",
    "#\n",
    "# but how make words spacially logical? we have the pita-naan july4th word2vec model...\n",
    "# given (for user or business) \n",
    "# # a bank of review sentences, clean, split, remove stop words, keep only food-related words (how do that? with just ingredients, or names too (introduces the risk of emotional words))\n",
    "# given (for user or business) a bank of review sentences after data-cleaning, get a representative vector-point \n",
    "# # (which is then put through PCA/TSNE for a 2D scatterplot)\n",
    "# cluster group these user businesses or vector points\n",
    "\n",
    "\n",
    "\n",
    "# why do embeddings when words are faster \n",
    "# to embedding\n",
    "# micro \n",
    "# # DBSCAN\n",
    "# # Eventually, 2D\n",
    "# macro \n",
    "# # 2D scatterplot (TSNE)\n",
    "# # only here can tf-idf be applied"
   ]
  }
 ],
 "metadata": {
  "colab": {
   "provenance": []
  },
  "gpuClass": "standard",
  "kernelspec": {
   "display_name": "Python 3",
   "language": "python",
   "name": "python3"
  },
  "language_info": {
   "codemirror_mode": {
    "name": "ipython",
    "version": 3
   },
   "file_extension": ".py",
   "mimetype": "text/x-python",
   "name": "python",
   "nbconvert_exporter": "python",
   "pygments_lexer": "ipython3",
   "version": "3.7.4"
  }
 },
 "nbformat": 4,
 "nbformat_minor": 1
}
